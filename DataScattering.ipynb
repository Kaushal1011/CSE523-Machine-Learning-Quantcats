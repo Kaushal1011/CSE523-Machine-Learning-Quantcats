{
 "cells": [
  {
   "cell_type": "code",
   "execution_count": 10,
   "id": "twelve-teddy",
   "metadata": {},
   "outputs": [],
   "source": [
    "from matplotlib import pyplot as plt\n",
    "from sklearn.decomposition import PCA\n",
    "from sklearn.pipeline import make_pipeline\n",
    "from sklearn.preprocessing import StandardScaler\n",
    "from sklearn.cluster import KMeans\n",
    "# Surprise tool for later ^"
   ]
  },
  {
   "cell_type": "code",
   "execution_count": 11,
   "id": "effective-cooper",
   "metadata": {},
   "outputs": [],
   "source": [
    "import pandas as pd\n",
    "import numpy as np"
   ]
  },
  {
   "cell_type": "code",
   "execution_count": 12,
   "id": "graduate-hopkins",
   "metadata": {},
   "outputs": [],
   "source": [
    "df,labelz=pd.read_csv(\"dataset_1.csv\"),pd.read_csv(\"labnf.csv\")"
   ]
  },
  {
   "cell_type": "code",
   "execution_count": 13,
   "id": "geological-laser",
   "metadata": {},
   "outputs": [],
   "source": [
    "numeric_columns=['Shares (Basic)',\n",
    "       'Shares (Diluted)', 'Cash, Cash Equivalents & Short Term Investments',\n",
    "       'Accounts & Notes Receivable', 'Inventories', 'Total Current Assets',\n",
    "       'Property, Plant & Equipment, Net',\n",
    "       'Long Term Investments & Receivables', 'Other Long Term Assets',\n",
    "       'Total Noncurrent Assets', 'Total Assets', 'Payables & Accruals',\n",
    "       'Short Term Debt', 'Total Current Liabilities', 'Long Term Debt',\n",
    "       'Total Noncurrent Liabilities', 'Total Liabilities',\n",
    "       'Share Capital & Additional Paid-In Capital', 'Treasury Stock',\n",
    "       'Retained Earnings', 'Total Equity', 'Total Liabilities & Equity',\n",
    "       'Price_Present']"
   ]
  },
  {
   "cell_type": "code",
   "execution_count": 14,
   "id": "affiliated-found",
   "metadata": {},
   "outputs": [],
   "source": [
    "X,y=df[numeric_columns],labelz[\"Label\"]"
   ]
  },
  {
   "cell_type": "code",
   "execution_count": 65,
   "id": "early-puppy",
   "metadata": {},
   "outputs": [],
   "source": [
    "clf = make_pipeline(StandardScaler(), PCA(n_components=2)).fit_transform(X)"
   ]
  },
  {
   "cell_type": "code",
   "execution_count": 66,
   "id": "precious-mounting",
   "metadata": {},
   "outputs": [],
   "source": [
    "vet = random.sample(range(len(X)-1),2000)"
   ]
  },
  {
   "cell_type": "code",
   "execution_count": 67,
   "id": "personalized-significance",
   "metadata": {},
   "outputs": [
    {
     "data": {
      "text/plain": [
       "(58828, 58828)"
      ]
     },
     "execution_count": 67,
     "metadata": {},
     "output_type": "execute_result"
    }
   ],
   "source": [
    "len(clf[:,0]),len(clf[:,1])"
   ]
  },
  {
   "cell_type": "code",
   "execution_count": 68,
   "id": "dramatic-support",
   "metadata": {},
   "outputs": [],
   "source": [
    "pcadf=pd.DataFrame()\n",
    "pcadf['principal component 1']=clf[:,0]\n",
    "pcadf['principal component 2']=clf[:,1]\n",
    "pcadf['target_numeric']=y\n",
    "pcadf['target']=\"\"\n",
    "pcadf.loc[pcadf['target_numeric'] == 0,'target'] = 'Buy'\n",
    "pcadf.loc[pcadf['target_numeric'] == 1,'target'] = 'Sell'\n",
    "pcadf.loc[pcadf['target_numeric'] == 2,'target'] = 'Hold'"
   ]
  },
  {
   "cell_type": "code",
   "execution_count": 69,
   "id": "graphic-judge",
   "metadata": {},
   "outputs": [
    {
     "data": {
      "text/html": [
       "<div>\n",
       "<style scoped>\n",
       "    .dataframe tbody tr th:only-of-type {\n",
       "        vertical-align: middle;\n",
       "    }\n",
       "\n",
       "    .dataframe tbody tr th {\n",
       "        vertical-align: top;\n",
       "    }\n",
       "\n",
       "    .dataframe thead th {\n",
       "        text-align: right;\n",
       "    }\n",
       "</style>\n",
       "<table border=\"1\" class=\"dataframe\">\n",
       "  <thead>\n",
       "    <tr style=\"text-align: right;\">\n",
       "      <th></th>\n",
       "      <th>principal component 1</th>\n",
       "      <th>principal component 2</th>\n",
       "      <th>target_numeric</th>\n",
       "      <th>target</th>\n",
       "    </tr>\n",
       "  </thead>\n",
       "  <tbody>\n",
       "    <tr>\n",
       "      <th>0</th>\n",
       "      <td>0.210449</td>\n",
       "      <td>0.043768</td>\n",
       "      <td>0</td>\n",
       "      <td>Buy</td>\n",
       "    </tr>\n",
       "    <tr>\n",
       "      <th>1</th>\n",
       "      <td>0.267291</td>\n",
       "      <td>0.050526</td>\n",
       "      <td>0</td>\n",
       "      <td>Buy</td>\n",
       "    </tr>\n",
       "    <tr>\n",
       "      <th>2</th>\n",
       "      <td>0.071494</td>\n",
       "      <td>-0.233925</td>\n",
       "      <td>0</td>\n",
       "      <td>Buy</td>\n",
       "    </tr>\n",
       "    <tr>\n",
       "      <th>3</th>\n",
       "      <td>0.126114</td>\n",
       "      <td>-0.227153</td>\n",
       "      <td>1</td>\n",
       "      <td>Sell</td>\n",
       "    </tr>\n",
       "    <tr>\n",
       "      <th>4</th>\n",
       "      <td>0.146986</td>\n",
       "      <td>-0.243517</td>\n",
       "      <td>2</td>\n",
       "      <td>Hold</td>\n",
       "    </tr>\n",
       "    <tr>\n",
       "      <th>...</th>\n",
       "      <td>...</td>\n",
       "      <td>...</td>\n",
       "      <td>...</td>\n",
       "      <td>...</td>\n",
       "    </tr>\n",
       "    <tr>\n",
       "      <th>58823</th>\n",
       "      <td>-1.039740</td>\n",
       "      <td>0.078976</td>\n",
       "      <td>1</td>\n",
       "      <td>Sell</td>\n",
       "    </tr>\n",
       "    <tr>\n",
       "      <th>58824</th>\n",
       "      <td>-1.039956</td>\n",
       "      <td>0.079430</td>\n",
       "      <td>0</td>\n",
       "      <td>Buy</td>\n",
       "    </tr>\n",
       "    <tr>\n",
       "      <th>58825</th>\n",
       "      <td>-1.037820</td>\n",
       "      <td>0.079236</td>\n",
       "      <td>0</td>\n",
       "      <td>Buy</td>\n",
       "    </tr>\n",
       "    <tr>\n",
       "      <th>58826</th>\n",
       "      <td>-1.034459</td>\n",
       "      <td>0.079764</td>\n",
       "      <td>0</td>\n",
       "      <td>Buy</td>\n",
       "    </tr>\n",
       "    <tr>\n",
       "      <th>58827</th>\n",
       "      <td>-1.028980</td>\n",
       "      <td>0.081075</td>\n",
       "      <td>0</td>\n",
       "      <td>Buy</td>\n",
       "    </tr>\n",
       "  </tbody>\n",
       "</table>\n",
       "<p>58828 rows × 4 columns</p>\n",
       "</div>"
      ],
      "text/plain": [
       "       principal component 1  principal component 2  target_numeric target\n",
       "0                   0.210449               0.043768               0    Buy\n",
       "1                   0.267291               0.050526               0    Buy\n",
       "2                   0.071494              -0.233925               0    Buy\n",
       "3                   0.126114              -0.227153               1   Sell\n",
       "4                   0.146986              -0.243517               2   Hold\n",
       "...                      ...                    ...             ...    ...\n",
       "58823              -1.039740               0.078976               1   Sell\n",
       "58824              -1.039956               0.079430               0    Buy\n",
       "58825              -1.037820               0.079236               0    Buy\n",
       "58826              -1.034459               0.079764               0    Buy\n",
       "58827              -1.028980               0.081075               0    Buy\n",
       "\n",
       "[58828 rows x 4 columns]"
      ]
     },
     "execution_count": 69,
     "metadata": {},
     "output_type": "execute_result"
    }
   ],
   "source": [
    "pcadf"
   ]
  },
  {
   "cell_type": "code",
   "execution_count": 71,
   "id": "adverse-timing",
   "metadata": {},
   "outputs": [
    {
     "data": {
      "image/png": "[encoded data removed]",
      "text/plain": [
       "<Figure size 576x576 with 1 Axes>"
      ]
     },
     "metadata": {
      "needs_background": "light"
     },
     "output_type": "display_data"
    }
   ],
   "source": [
    "fig = plt.figure(figsize = (8,8))\n",
    "ax = fig.add_subplot(1,1,1) \n",
    "ax.set_xlabel('Principal Component 1', fontsize = 15)\n",
    "ax.set_ylabel('Principal Component 2', fontsize = 15)\n",
    "ax.set_title('2 component PCA', fontsize = 20)\n",
    "\n",
    "targets = ['Buy', 'Sell','Hold']\n",
    "colors = ['r', 'g', 'b']\n",
    "for target, color in zip(targets,colors):\n",
    "    indicesToKeep = pcadf['target'] == target\n",
    "    ax.scatter(pcadf.loc[indicesToKeep, 'principal component 1']\n",
    "               , pcadf.loc[indicesToKeep, 'principal component 2']\n",
    "               , c = color\n",
    "               , s = 10)\n",
    "ax.legend(targets)\n",
    "ax.grid()"
   ]
  },
  {
   "cell_type": "code",
   "execution_count": 72,
   "id": "reliable-uganda",
   "metadata": {},
   "outputs": [],
   "source": [
    " kmeans = KMeans(n_clusters=3, random_state=0).fit(X)"
   ]
  },
  {
   "cell_type": "code",
   "execution_count": 73,
   "id": "numerical-munich",
   "metadata": {},
   "outputs": [],
   "source": [
    "pcadf[\"kmean_target_numeric\"]=kmeans.labels_"
   ]
  },
  {
   "cell_type": "code",
   "execution_count": 74,
   "id": "stunning-education",
   "metadata": {},
   "outputs": [
    {
     "data": {
      "text/html": [
       "<div>\n",
       "<style scoped>\n",
       "    .dataframe tbody tr th:only-of-type {\n",
       "        vertical-align: middle;\n",
       "    }\n",
       "\n",
       "    .dataframe tbody tr th {\n",
       "        vertical-align: top;\n",
       "    }\n",
       "\n",
       "    .dataframe thead th {\n",
       "        text-align: right;\n",
       "    }\n",
       "</style>\n",
       "<table border=\"1\" class=\"dataframe\">\n",
       "  <thead>\n",
       "    <tr style=\"text-align: right;\">\n",
       "      <th></th>\n",
       "      <th>principal component 1</th>\n",
       "      <th>principal component 2</th>\n",
       "      <th>target_numeric</th>\n",
       "      <th>target</th>\n",
       "      <th>kmean_target_numeric</th>\n",
       "    </tr>\n",
       "  </thead>\n",
       "  <tbody>\n",
       "    <tr>\n",
       "      <th>0</th>\n",
       "      <td>0.210449</td>\n",
       "      <td>0.043768</td>\n",
       "      <td>0</td>\n",
       "      <td>Buy</td>\n",
       "      <td>0</td>\n",
       "    </tr>\n",
       "    <tr>\n",
       "      <th>1</th>\n",
       "      <td>0.267291</td>\n",
       "      <td>0.050526</td>\n",
       "      <td>0</td>\n",
       "      <td>Buy</td>\n",
       "      <td>0</td>\n",
       "    </tr>\n",
       "    <tr>\n",
       "      <th>2</th>\n",
       "      <td>0.071494</td>\n",
       "      <td>-0.233925</td>\n",
       "      <td>0</td>\n",
       "      <td>Buy</td>\n",
       "      <td>0</td>\n",
       "    </tr>\n",
       "    <tr>\n",
       "      <th>3</th>\n",
       "      <td>0.126114</td>\n",
       "      <td>-0.227153</td>\n",
       "      <td>1</td>\n",
       "      <td>Sell</td>\n",
       "      <td>0</td>\n",
       "    </tr>\n",
       "    <tr>\n",
       "      <th>4</th>\n",
       "      <td>0.146986</td>\n",
       "      <td>-0.243517</td>\n",
       "      <td>2</td>\n",
       "      <td>Hold</td>\n",
       "      <td>0</td>\n",
       "    </tr>\n",
       "    <tr>\n",
       "      <th>...</th>\n",
       "      <td>...</td>\n",
       "      <td>...</td>\n",
       "      <td>...</td>\n",
       "      <td>...</td>\n",
       "      <td>...</td>\n",
       "    </tr>\n",
       "    <tr>\n",
       "      <th>58823</th>\n",
       "      <td>-1.039740</td>\n",
       "      <td>0.078976</td>\n",
       "      <td>1</td>\n",
       "      <td>Sell</td>\n",
       "      <td>0</td>\n",
       "    </tr>\n",
       "    <tr>\n",
       "      <th>58824</th>\n",
       "      <td>-1.039956</td>\n",
       "      <td>0.079430</td>\n",
       "      <td>0</td>\n",
       "      <td>Buy</td>\n",
       "      <td>0</td>\n",
       "    </tr>\n",
       "    <tr>\n",
       "      <th>58825</th>\n",
       "      <td>-1.037820</td>\n",
       "      <td>0.079236</td>\n",
       "      <td>0</td>\n",
       "      <td>Buy</td>\n",
       "      <td>0</td>\n",
       "    </tr>\n",
       "    <tr>\n",
       "      <th>58826</th>\n",
       "      <td>-1.034459</td>\n",
       "      <td>0.079764</td>\n",
       "      <td>0</td>\n",
       "      <td>Buy</td>\n",
       "      <td>0</td>\n",
       "    </tr>\n",
       "    <tr>\n",
       "      <th>58827</th>\n",
       "      <td>-1.028980</td>\n",
       "      <td>0.081075</td>\n",
       "      <td>0</td>\n",
       "      <td>Buy</td>\n",
       "      <td>0</td>\n",
       "    </tr>\n",
       "  </tbody>\n",
       "</table>\n",
       "<p>58828 rows × 5 columns</p>\n",
       "</div>"
      ],
      "text/plain": [
       "       principal component 1  principal component 2  target_numeric target  \\\n",
       "0                   0.210449               0.043768               0    Buy   \n",
       "1                   0.267291               0.050526               0    Buy   \n",
       "2                   0.071494              -0.233925               0    Buy   \n",
       "3                   0.126114              -0.227153               1   Sell   \n",
       "4                   0.146986              -0.243517               2   Hold   \n",
       "...                      ...                    ...             ...    ...   \n",
       "58823              -1.039740               0.078976               1   Sell   \n",
       "58824              -1.039956               0.079430               0    Buy   \n",
       "58825              -1.037820               0.079236               0    Buy   \n",
       "58826              -1.034459               0.079764               0    Buy   \n",
       "58827              -1.028980               0.081075               0    Buy   \n",
       "\n",
       "       kmean_target_numeric  \n",
       "0                         0  \n",
       "1                         0  \n",
       "2                         0  \n",
       "3                         0  \n",
       "4                         0  \n",
       "...                     ...  \n",
       "58823                     0  \n",
       "58824                     0  \n",
       "58825                     0  \n",
       "58826                     0  \n",
       "58827                     0  \n",
       "\n",
       "[58828 rows x 5 columns]"
      ]
     },
     "execution_count": 74,
     "metadata": {},
     "output_type": "execute_result"
    }
   ],
   "source": [
    "pcadf"
   ]
  },
  {
   "cell_type": "code",
   "execution_count": 76,
   "id": "threaded-watershed",
   "metadata": {},
   "outputs": [
    {
     "data": {
      "image/png": "[encoded data removed]",
      "text/plain": [
       "<Figure size 576x576 with 1 Axes>"
      ]
     },
     "metadata": {
      "needs_background": "light"
     },
     "output_type": "display_data"
    }
   ],
   "source": [
    "fig = plt.figure(figsize = (8,8))\n",
    "ax = fig.add_subplot(1,1,1) \n",
    "ax.set_xlabel('Principal Component 1', fontsize = 15)\n",
    "ax.set_ylabel('Principal Component 2', fontsize = 15)\n",
    "ax.set_title('2 component PCA plot of Kmeans clusstered data', fontsize = 20)\n",
    "\n",
    "targets = [0, 1,2]\n",
    "colors = ['r', 'g', 'b']\n",
    "for target, color in zip(targets,colors):\n",
    "    indicesToKeep = pcadf['kmean_target_numeric'] == target\n",
    "    ax.scatter(pcadf.loc[indicesToKeep, 'principal component 1']\n",
    "               , pcadf.loc[indicesToKeep, 'principal component 2']\n",
    "               , c = color\n",
    "               , s = 10)\n",
    "ax.legend(targets)\n",
    "ax.grid()"
   ]
  },
  {
   "cell_type": "code",
   "execution_count": 77,
   "id": "gorgeous-revision",
   "metadata": {},
   "outputs": [],
   "source": [
    "correlation = pcadf[\"target_numeric\"]. corr(pcadf[\"kmean_target_numeric\"])"
   ]
  },
  {
   "cell_type": "code",
   "execution_count": 78,
   "id": "structured-ireland",
   "metadata": {},
   "outputs": [
    {
     "data": {
      "text/plain": [
       "0.016179456580554825"
      ]
     },
     "execution_count": 78,
     "metadata": {},
     "output_type": "execute_result"
    }
   ],
   "source": [
    "correlation"
   ]
  },
  {
   "cell_type": "markdown",
   "id": "popular-particular",
   "metadata": {},
   "source": [
    "# clusstering is not a solution here"
   ]
  }
 ],
 "metadata": {
  "kernelspec": {
   "display_name": "Python 3",
   "language": "python",
   "name": "python3"
  },
  "language_info": {
   "codemirror_mode": {
    "name": "ipython",
    "version": 3
   },
   "file_extension": ".py",
   "mimetype": "text/x-python",
   "name": "python",
   "nbconvert_exporter": "python",
   "pygments_lexer": "ipython3",
   "version": "3.8.5"
  }
 },
 "nbformat": 4,
 "nbformat_minor": 5
}
