{
 "cells": [
  {
   "cell_type": "code",
   "execution_count": 44,
   "id": "composite-beatles",
   "metadata": {},
   "outputs": [],
   "source": [
    "import numpy as np\n",
    "import pandas as pd\n",
    "from sklearn.model_selection import train_test_split\n",
    "from sklearn.metrics import accuracy_score\n",
    "from sklearn.preprocessing import StandardScaler"
   ]
  },
  {
   "cell_type": "code",
   "execution_count": 45,
   "id": "similar-raleigh",
   "metadata": {},
   "outputs": [],
   "source": [
    "numeric_columns=['Shares (Basic)',\n",
    "       'Shares (Diluted)', 'Cash, Cash Equivalents & Short Term Investments',\n",
    "       'Accounts & Notes Receivable', 'Inventories', 'Total Current Assets',\n",
    "       'Property, Plant & Equipment, Net',\n",
    "       'Long Term Investments & Receivables', 'Other Long Term Assets',\n",
    "       'Total Noncurrent Assets', 'Total Assets', 'Payables & Accruals',\n",
    "       'Short Term Debt', 'Total Current Liabilities', 'Long Term Debt',\n",
    "       'Total Noncurrent Liabilities', 'Total Liabilities',\n",
    "       'Share Capital & Additional Paid-In Capital', 'Treasury Stock',\n",
    "       'Retained Earnings', 'Total Equity', 'Total Liabilities & Equity',\n",
    "       'Price_Present']"
   ]
  },
  {
   "cell_type": "code",
   "execution_count": 46,
   "id": "august-tobacco",
   "metadata": {},
   "outputs": [],
   "source": [
    "clean_fundamen=pd.read_csv(\"dataset_1.csv\")\n",
    "LabnF=pd.read_csv(\"./labnf.csv\")\n",
    "X,Y=clean_fundamen[numeric_columns],LabnF[\"Label\"]\n",
    "scaler = StandardScaler()\n",
    "scaler.fit(X)\n",
    "X=scaler.transform(X)"
   ]
  },
  {
   "cell_type": "code",
   "execution_count": 47,
   "id": "proud-amplifier",
   "metadata": {},
   "outputs": [],
   "source": [
    "seed = 7\n",
    "test_size = 0.20\n",
    "X_train, X_test, y_train, y_test = train_test_split(X, Y, test_size=test_size, random_state=seed)"
   ]
  },
  {
   "cell_type": "code",
   "execution_count": 48,
   "id": "immediate-works",
   "metadata": {},
   "outputs": [],
   "source": [
    "from sklearn.tree import DecisionTreeClassifier"
   ]
  },
  {
   "cell_type": "code",
   "execution_count": 49,
   "id": "metropolitan-springfield",
   "metadata": {},
   "outputs": [],
   "source": [
    "tree_clf=DecisionTreeClassifier(max_depth=18,criterion=\"entropy\")"
   ]
  },
  {
   "cell_type": "code",
   "execution_count": 50,
   "id": "therapeutic-angle",
   "metadata": {},
   "outputs": [],
   "source": [
    "y_train[0]=3"
   ]
  },
  {
   "cell_type": "code",
   "execution_count": 51,
   "id": "reduced-dragon",
   "metadata": {},
   "outputs": [
    {
     "data": {
      "text/plain": [
       "DecisionTreeClassifier(criterion='entropy', max_depth=18)"
      ]
     },
     "execution_count": 51,
     "metadata": {},
     "output_type": "execute_result"
    }
   ],
   "source": [
    "tree_clf.fit(X_train,y_train)"
   ]
  },
  {
   "cell_type": "code",
   "execution_count": 52,
   "id": "approximate-mexican",
   "metadata": {},
   "outputs": [
    {
     "data": {
      "text/plain": [
       "0.45826959034506204"
      ]
     },
     "execution_count": 52,
     "metadata": {},
     "output_type": "execute_result"
    }
   ],
   "source": [
    "tree_clf.score(X_test,y_test)"
   ]
  },
  {
   "cell_type": "code",
   "execution_count": 53,
   "id": "cognitive-proceeding",
   "metadata": {},
   "outputs": [],
   "source": [
    "from sklearn.tree import export_graphviz"
   ]
  },
  {
   "cell_type": "code",
   "execution_count": 54,
   "id": "excessive-seller",
   "metadata": {},
   "outputs": [],
   "source": [
    "f=open(\"./tree.dot\",\"w+\")\n",
    "export_graphviz(tree_clf,out_file=f,feature_names=numeric_columns,class_names=[\"BUY\",\"SELL\",\"HOLD\",\"IDK\"],rounded=True,filled=True)\n",
    "f.close()"
   ]
  },
  {
   "cell_type": "code",
   "execution_count": 12,
   "id": "burning-spotlight",
   "metadata": {},
   "outputs": [
    {
     "data": {
      "text/plain": [
       "0.6913645828906548"
      ]
     },
     "execution_count": 12,
     "metadata": {},
     "output_type": "execute_result"
    }
   ],
   "source": [
    "tree_clf.score(X_train,y_train)"
   ]
  },
  {
   "cell_type": "markdown",
   "id": "integrated-lloyd",
   "metadata": {},
   "source": [
    "![](tree.png)"
   ]
  },
  {
   "cell_type": "code",
   "execution_count": 13,
   "id": "pursuant-brave",
   "metadata": {},
   "outputs": [
    {
     "data": {
      "text/html": [
       "<div>\n",
       "<style scoped>\n",
       "    .dataframe tbody tr th:only-of-type {\n",
       "        vertical-align: middle;\n",
       "    }\n",
       "\n",
       "    .dataframe tbody tr th {\n",
       "        vertical-align: top;\n",
       "    }\n",
       "\n",
       "    .dataframe thead th {\n",
       "        text-align: right;\n",
       "    }\n",
       "</style>\n",
       "<table border=\"1\" class=\"dataframe\">\n",
       "  <thead>\n",
       "    <tr style=\"text-align: right;\">\n",
       "      <th></th>\n",
       "      <th>Label</th>\n",
       "      <th>Price_Future</th>\n",
       "    </tr>\n",
       "  </thead>\n",
       "  <tbody>\n",
       "    <tr>\n",
       "      <th>0</th>\n",
       "      <td>0</td>\n",
       "      <td>41.48</td>\n",
       "    </tr>\n",
       "    <tr>\n",
       "      <th>1</th>\n",
       "      <td>0</td>\n",
       "      <td>43.95</td>\n",
       "    </tr>\n",
       "    <tr>\n",
       "      <th>2</th>\n",
       "      <td>0</td>\n",
       "      <td>48.71</td>\n",
       "    </tr>\n",
       "    <tr>\n",
       "      <th>3</th>\n",
       "      <td>1</td>\n",
       "      <td>35.69</td>\n",
       "    </tr>\n",
       "    <tr>\n",
       "      <th>4</th>\n",
       "      <td>2</td>\n",
       "      <td>36.66</td>\n",
       "    </tr>\n",
       "    <tr>\n",
       "      <th>...</th>\n",
       "      <td>...</td>\n",
       "      <td>...</td>\n",
       "    </tr>\n",
       "    <tr>\n",
       "      <th>58823</th>\n",
       "      <td>1</td>\n",
       "      <td>21.06</td>\n",
       "    </tr>\n",
       "    <tr>\n",
       "      <th>58824</th>\n",
       "      <td>0</td>\n",
       "      <td>25.38</td>\n",
       "    </tr>\n",
       "    <tr>\n",
       "      <th>58825</th>\n",
       "      <td>0</td>\n",
       "      <td>31.68</td>\n",
       "    </tr>\n",
       "    <tr>\n",
       "      <th>58826</th>\n",
       "      <td>0</td>\n",
       "      <td>38.29</td>\n",
       "    </tr>\n",
       "    <tr>\n",
       "      <th>58827</th>\n",
       "      <td>0</td>\n",
       "      <td>41.49</td>\n",
       "    </tr>\n",
       "  </tbody>\n",
       "</table>\n",
       "<p>58828 rows × 2 columns</p>\n",
       "</div>"
      ],
      "text/plain": [
       "       Label  Price_Future\n",
       "0          0         41.48\n",
       "1          0         43.95\n",
       "2          0         48.71\n",
       "3          1         35.69\n",
       "4          2         36.66\n",
       "...      ...           ...\n",
       "58823      1         21.06\n",
       "58824      0         25.38\n",
       "58825      0         31.68\n",
       "58826      0         38.29\n",
       "58827      0         41.49\n",
       "\n",
       "[58828 rows x 2 columns]"
      ]
     },
     "execution_count": 13,
     "metadata": {},
     "output_type": "execute_result"
    }
   ],
   "source": [
    "LabnF"
   ]
  },
  {
   "cell_type": "code",
   "execution_count": 14,
   "id": "optional-chrome",
   "metadata": {},
   "outputs": [
    {
     "data": {
      "text/plain": [
       "array([[<AxesSubplot:title={'center':'Label'}>,\n",
       "        <AxesSubplot:title={'center':'Price_Future'}>]], dtype=object)"
      ]
     },
     "execution_count": 14,
     "metadata": {},
     "output_type": "execute_result"
    },
    {
     "data": {
      "image/png": "[encoded data removed]",
      "text/plain": [
       "<Figure size 432x288 with 2 Axes>"
      ]
     },
     "metadata": {
      "needs_background": "light"
     },
     "output_type": "display_data"
    }
   ],
   "source": [
    "LabnF.hist()"
   ]
  },
  {
   "cell_type": "code",
   "execution_count": 15,
   "id": "median-brighton",
   "metadata": {},
   "outputs": [
    {
     "data": {
      "text/plain": [
       "<sklearn.tree._tree.Tree at 0x7f78ad0bb570>"
      ]
     },
     "execution_count": 15,
     "metadata": {},
     "output_type": "execute_result"
    }
   ],
   "source": [
    "tree_clf.tree_"
   ]
  },
  {
   "cell_type": "code",
   "execution_count": 16,
   "id": "published-retreat",
   "metadata": {},
   "outputs": [],
   "source": [
    "tree=tree_clf.tree_"
   ]
  },
  {
   "cell_type": "code",
   "execution_count": 17,
   "id": "upper-visit",
   "metadata": {},
   "outputs": [
    {
     "data": {
      "text/plain": [
       "<function Tree.decision_path>"
      ]
     },
     "execution_count": 17,
     "metadata": {},
     "output_type": "execute_result"
    }
   ],
   "source": [
    "tree.decision_path"
   ]
  },
  {
   "cell_type": "code",
   "execution_count": 18,
   "id": "downtown-royal",
   "metadata": {},
   "outputs": [],
   "source": [
    "# dir(tree)"
   ]
  },
  {
   "cell_type": "code",
   "execution_count": 19,
   "id": "front-appreciation",
   "metadata": {},
   "outputs": [],
   "source": [
    "# dir(tree.decision_path)"
   ]
  },
  {
   "cell_type": "code",
   "execution_count": 20,
   "id": "opponent-roller",
   "metadata": {},
   "outputs": [
    {
     "data": {
      "text/plain": [
       "1"
      ]
     },
     "execution_count": 20,
     "metadata": {},
     "output_type": "execute_result"
    }
   ],
   "source": [
    "tree.children_left[0]"
   ]
  },
  {
   "cell_type": "code",
   "execution_count": 21,
   "id": "loved-needle",
   "metadata": {},
   "outputs": [],
   "source": [
    "# dir(tree)"
   ]
  },
  {
   "cell_type": "code",
   "execution_count": 22,
   "id": "descending-liechtenstein",
   "metadata": {},
   "outputs": [],
   "source": [
    "# dir(tree.predict)"
   ]
  },
  {
   "cell_type": "code",
   "execution_count": 23,
   "id": "indoor-green",
   "metadata": {},
   "outputs": [],
   "source": [
    "# n_nodes = tree.node_count\n",
    "# children_left = tree.children_left\n",
    "# children_right = tree.children_right\n",
    "# feature = tree.feature\n",
    "# threshold = tree.threshold\n",
    "\n",
    "# node_depth = np.zeros(shape=n_nodes, dtype=np.int64)\n",
    "# is_leaves = np.zeros(shape=n_nodes, dtype=bool)\n",
    "# stack = [(0, 0)]  # start with the root node id (0) and its depth (0)\n",
    "# while len(stack) > 0:\n",
    "#     # `pop` ensures each node is only visited once\n",
    "#     node_id, depth = stack.pop()\n",
    "#     node_depth[node_id] = depth\n",
    "\n",
    "#     # If the left and right child of a node is not the same we have a split\n",
    "#     # node\n",
    "#     is_split_node = children_left[node_id] != children_right[node_id]\n",
    "#     # If a split node, append left and right children and depth to `stack`\n",
    "#     # so we can loop through them\n",
    "#     if is_split_node:\n",
    "#         stack.append((children_left[node_id], depth + 1))\n",
    "#         stack.append((children_right[node_id], depth + 1))\n",
    "#     else:\n",
    "#         is_leaves[node_id] = True\n",
    "\n",
    "# print(\"The binary tree structure has {n} nodes and has \"\n",
    "#       \"the following tree structure:\\n\".format(n=n_nodes))\n",
    "# for i in range(n_nodes):\n",
    "#     if is_leaves[i]:\n",
    "#         print(\"{space}node={node} is a leaf node.\".format(\n",
    "#             space=node_depth[i] * \"\\t\", node=i))\n",
    "#     else:\n",
    "#         print(\"{space}node={node} is a split node: \"\n",
    "#               \"go to node {left} if X[:, {feature}] <= {threshold} \"\n",
    "#               \"else to node {right}.\".format(\n",
    "#                   space=node_depth[i] * \"\\t\",\n",
    "#                   node=i,\n",
    "#                   left=children_left[i],\n",
    "#                   feature=feature[i],\n",
    "#                   threshold=threshold[i],\n",
    "#                   right=children_right[i]))"
   ]
  },
  {
   "cell_type": "code",
   "execution_count": 24,
   "id": "selective-patrick",
   "metadata": {},
   "outputs": [],
   "source": [
    "# dir(tree)"
   ]
  },
  {
   "cell_type": "code",
   "execution_count": 25,
   "id": "fabulous-august",
   "metadata": {},
   "outputs": [
    {
     "data": {
      "text/plain": [
       "array([[0],\n",
       "       [0],\n",
       "       [1],\n",
       "       ...,\n",
       "       [0],\n",
       "       [1],\n",
       "       [0]])"
      ]
     },
     "execution_count": 25,
     "metadata": {},
     "output_type": "execute_result"
    }
   ],
   "source": [
    "tree.value.argmax(axis=2)"
   ]
  },
  {
   "cell_type": "code",
   "execution_count": 26,
   "id": "underlying-arrest",
   "metadata": {},
   "outputs": [
    {
     "data": {
      "text/plain": [
       "array([1.50058298, 1.48111189, 1.42514533, ..., 0.        , 0.        ,\n",
       "       0.        ])"
      ]
     },
     "execution_count": 26,
     "metadata": {},
     "output_type": "execute_result"
    }
   ],
   "source": [
    "tree.impurity"
   ]
  },
  {
   "cell_type": "code",
   "execution_count": 27,
   "id": "distributed-avenue",
   "metadata": {},
   "outputs": [],
   "source": [
    "tree.max_n_classes=4"
   ]
  },
  {
   "cell_type": "code",
   "execution_count": 28,
   "id": "silent-finland",
   "metadata": {},
   "outputs": [
    {
     "data": {
      "text/plain": [
       "4"
      ]
     },
     "execution_count": 28,
     "metadata": {},
     "output_type": "execute_result"
    }
   ],
   "source": [
    "tree.max_n_classes"
   ]
  },
  {
   "cell_type": "code",
   "execution_count": 29,
   "id": "alike-paintball",
   "metadata": {},
   "outputs": [
    {
     "data": {
      "text/plain": [
       "array([4])"
      ]
     },
     "execution_count": 29,
     "metadata": {},
     "output_type": "execute_result"
    }
   ],
   "source": [
    "tree.n_classes"
   ]
  },
  {
   "cell_type": "code",
   "execution_count": null,
   "id": "monetary-parallel",
   "metadata": {},
   "outputs": [],
   "source": []
  },
  {
   "cell_type": "code",
   "execution_count": 30,
   "id": "common-calendar",
   "metadata": {},
   "outputs": [],
   "source": [
    "for i in range(len(tree.impurity)):\n",
    "    if  tree.impurity[i]<1:\n",
    "        tree.value[i][0][3]=max(tree.value[i][0])+10\n",
    "        "
   ]
  },
  {
   "cell_type": "code",
   "execution_count": 31,
   "id": "dressed-specific",
   "metadata": {},
   "outputs": [
    {
     "data": {
      "text/plain": [
       "array([[0],\n",
       "       [0],\n",
       "       [1],\n",
       "       ...,\n",
       "       [3],\n",
       "       [3],\n",
       "       [3]])"
      ]
     },
     "execution_count": 31,
     "metadata": {},
     "output_type": "execute_result"
    }
   ],
   "source": [
    "tree.value.argmax(axis=2)"
   ]
  },
  {
   "cell_type": "code",
   "execution_count": 32,
   "id": "brazilian-procedure",
   "metadata": {},
   "outputs": [],
   "source": [
    "# import sklearn.tree as tree2\n",
    "# import matplotlib.pyplot as plt\n",
    "# plt.figure(figsize=(60,20))\n",
    "# tree2.plot_tree(tree_clf)\n",
    "# plt.savefig(\"tree.png\")"
   ]
  },
  {
   "cell_type": "code",
   "execution_count": 33,
   "id": "aboriginal-focus",
   "metadata": {},
   "outputs": [
    {
     "data": {
      "text/plain": [
       "0.26525582185959545"
      ]
     },
     "execution_count": 33,
     "metadata": {},
     "output_type": "execute_result"
    }
   ],
   "source": [
    "tree_clf.score(X_test,y_test)"
   ]
  },
  {
   "cell_type": "code",
   "execution_count": 34,
   "id": "improved-advocacy",
   "metadata": {},
   "outputs": [],
   "source": [
    "preds_X=tree_clf.predict(X_test)"
   ]
  },
  {
   "cell_type": "code",
   "execution_count": 35,
   "id": "crazy-embassy",
   "metadata": {},
   "outputs": [],
   "source": [
    "y_test=np.array(y_test)\n",
    "correct=0\n",
    "total=len(preds_X)\n",
    "for i in range(len(preds_X)):\n",
    "    if(preds_X[i]==3):\n",
    "        total-=1\n",
    "    else:\n",
    "        if(preds_X[i]==y_test[i]):\n",
    "            correct+=1\n",
    "        else:\n",
    "            pass\n",
    "    "
   ]
  },
  {
   "cell_type": "code",
   "execution_count": 36,
   "id": "outer-grade",
   "metadata": {},
   "outputs": [
    {
     "data": {
      "text/plain": [
       "3121"
      ]
     },
     "execution_count": 36,
     "metadata": {},
     "output_type": "execute_result"
    }
   ],
   "source": [
    "correct"
   ]
  },
  {
   "cell_type": "code",
   "execution_count": 37,
   "id": "adapted-april",
   "metadata": {},
   "outputs": [
    {
     "data": {
      "text/plain": [
       "6628"
      ]
     },
     "execution_count": 37,
     "metadata": {},
     "output_type": "execute_result"
    }
   ],
   "source": [
    "total"
   ]
  },
  {
   "cell_type": "code",
   "execution_count": 38,
   "id": "internal-movie",
   "metadata": {},
   "outputs": [
    {
     "data": {
      "text/plain": [
       "11766"
      ]
     },
     "execution_count": 38,
     "metadata": {},
     "output_type": "execute_result"
    }
   ],
   "source": [
    "len(preds_X)"
   ]
  },
  {
   "cell_type": "code",
   "execution_count": 39,
   "id": "fifteen-blind",
   "metadata": {},
   "outputs": [
    {
     "data": {
      "text/plain": [
       "0.4708811104405552"
      ]
     },
     "execution_count": 39,
     "metadata": {},
     "output_type": "execute_result"
    }
   ],
   "source": [
    "correct/total"
   ]
  },
  {
   "cell_type": "code",
   "execution_count": 40,
   "id": "hungarian-infrastructure",
   "metadata": {},
   "outputs": [],
   "source": [
    "y_test=np.array(y_test)\n",
    "correct=0\n",
    "total=len(preds_X)\n",
    "for i in range(len(preds_X)):\n",
    "    if(preds_X[i]==y_test[i]):\n",
    "        correct+=1\n",
    "    else:\n",
    "        pass"
   ]
  },
  {
   "cell_type": "code",
   "execution_count": 41,
   "id": "needed-trigger",
   "metadata": {},
   "outputs": [
    {
     "data": {
      "text/plain": [
       "0.26525582185959545"
      ]
     },
     "execution_count": 41,
     "metadata": {},
     "output_type": "execute_result"
    }
   ],
   "source": [
    "correct/total"
   ]
  },
  {
   "cell_type": "code",
   "execution_count": 43,
   "id": "exclusive-evaluation",
   "metadata": {},
   "outputs": [],
   "source": [
    "# f=open(\"./tree.dot\",\"w+\")\n",
    "# export_graphviz(tree_clf,out_file=f,feature_names=numeric_columns,class_names=[\"BUY\",\"SELL\",\"HOLD\",\"IDK\"],rounded=True,filled=True)\n",
    "# f.close()"
   ]
  },
  {
   "cell_type": "code",
   "execution_count": 57,
   "id": "impressed-klein",
   "metadata": {},
   "outputs": [
    {
     "data": {
      "text/plain": [
       "(array([5359.,    0.,    0., 1084.,    0.,    0.,  185.,    0.,    0.,\n",
       "        5138.]),\n",
       " array([0. , 0.3, 0.6, 0.9, 1.2, 1.5, 1.8, 2.1, 2.4, 2.7, 3. ]),\n",
       " <BarContainer object of 10 artists>)"
      ]
     },
     "execution_count": 57,
     "metadata": {},
     "output_type": "execute_result"
    },
    {
     "data": {
      "image/png": "[encoded data removed]",
      "text/plain": [
       "<Figure size 432x288 with 1 Axes>"
      ]
     },
     "metadata": {
      "needs_background": "light"
     },
     "output_type": "display_data"
    }
   ],
   "source": [
    "import matplotlib.pyplot as plt\n",
    "plt.hist(preds_X)"
   ]
  },
  {
   "cell_type": "code",
   "execution_count": null,
   "id": "simplified-appeal",
   "metadata": {},
   "outputs": [],
   "source": []
  }
 ],
 "metadata": {
  "kernelspec": {
   "display_name": "Python 3",
   "language": "python",
   "name": "python3"
  },
  "language_info": {
   "codemirror_mode": {
    "name": "ipython",
    "version": 3
   },
   "file_extension": ".py",
   "mimetype": "text/x-python",
   "name": "python",
   "nbconvert_exporter": "python",
   "pygments_lexer": "ipython3",
   "version": "3.8.5"
  }
 },
 "nbformat": 4,
 "nbformat_minor": 5
}
