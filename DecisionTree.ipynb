{
 "cells": [
  {
   "cell_type": "code",
   "execution_count": 205,
   "id": "personalized-singles",
   "metadata": {},
   "outputs": [],
   "source": [
    "import numpy as np\n",
    "import pandas as pd\n",
    "from sklearn.model_selection import train_test_split\n",
    "from sklearn.metrics import accuracy_score\n",
    "from sklearn.preprocessing import StandardScaler"
   ]
  },
  {
   "cell_type": "code",
   "execution_count": 206,
   "id": "medical-robin",
   "metadata": {},
   "outputs": [],
   "source": [
    "numeric_columns=['Shares (Basic)',\n",
    "       'Shares (Diluted)', 'Cash, Cash Equivalents & Short Term Investments',\n",
    "       'Accounts & Notes Receivable', 'Inventories', 'Total Current Assets',\n",
    "       'Property, Plant & Equipment, Net',\n",
    "       'Long Term Investments & Receivables', 'Other Long Term Assets',\n",
    "       'Total Noncurrent Assets', 'Total Assets', 'Payables & Accruals',\n",
    "       'Short Term Debt', 'Total Current Liabilities', 'Long Term Debt',\n",
    "       'Total Noncurrent Liabilities', 'Total Liabilities',\n",
    "       'Share Capital & Additional Paid-In Capital', 'Treasury Stock',\n",
    "       'Retained Earnings', 'Total Equity', 'Total Liabilities & Equity',\n",
    "       'Price_Present']"
   ]
  },
  {
   "cell_type": "code",
   "execution_count": 207,
   "id": "broken-snake",
   "metadata": {},
   "outputs": [],
   "source": [
    "clean_fundamen=pd.read_csv(\"dataset_1.csv\")\n",
    "LabnF=pd.read_csv(\"./labnf.csv\")\n",
    "X,Y=clean_fundamen[numeric_columns],LabnF[\"Label\"]\n",
    "scaler = StandardScaler()\n",
    "scaler.fit(X)\n",
    "X=scaler.transform(X)"
   ]
  },
  {
   "cell_type": "code",
   "execution_count": 208,
   "id": "armed-train",
   "metadata": {},
   "outputs": [],
   "source": [
    "seed = 7\n",
    "test_size = 0.20\n",
    "X_train, X_test, y_train, y_test = train_test_split(X, Y, test_size=test_size, random_state=seed)"
   ]
  },
  {
   "cell_type": "code",
   "execution_count": 209,
   "id": "communist-narrative",
   "metadata": {},
   "outputs": [],
   "source": [
    "from sklearn.tree import DecisionTreeClassifier"
   ]
  },
  {
   "cell_type": "code",
   "execution_count": 210,
   "id": "variable-montreal",
   "metadata": {},
   "outputs": [],
   "source": [
    "tree_clf=DecisionTreeClassifier(max_depth=18,criterion=\"entropy\")"
   ]
  },
  {
   "cell_type": "code",
   "execution_count": 211,
   "id": "damaged-killing",
   "metadata": {},
   "outputs": [],
   "source": [
    "y_train[0]=3"
   ]
  },
  {
   "cell_type": "code",
   "execution_count": 212,
   "id": "subject-windows",
   "metadata": {},
   "outputs": [
    {
     "data": {
      "text/plain": [
       "DecisionTreeClassifier(criterion='entropy', max_depth=18)"
      ]
     },
     "execution_count": 212,
     "metadata": {},
     "output_type": "execute_result"
    }
   ],
   "source": [
    "tree_clf.fit(X_train,y_train)"
   ]
  },
  {
   "cell_type": "code",
   "execution_count": 213,
   "id": "armed-battery",
   "metadata": {},
   "outputs": [
    {
     "data": {
      "text/plain": [
       "0.4598844127146014"
      ]
     },
     "execution_count": 213,
     "metadata": {},
     "output_type": "execute_result"
    }
   ],
   "source": [
    "tree_clf.score(X_test,y_test)"
   ]
  },
  {
   "cell_type": "code",
   "execution_count": 214,
   "id": "narrative-telling",
   "metadata": {},
   "outputs": [],
   "source": [
    "from sklearn.tree import export_graphviz"
   ]
  },
  {
   "cell_type": "code",
   "execution_count": 215,
   "id": "material-creek",
   "metadata": {},
   "outputs": [],
   "source": [
    "f=open(\"./tree.dot\",\"w+\")\n",
    "export_graphviz(tree_clf,out_file=f,feature_names=numeric_columns,class_names=[\"BUY\",\"SELL\",\"HOLD\",\"IDK\"],rounded=True,filled=True)\n",
    "f.close()"
   ]
  },
  {
   "cell_type": "code",
   "execution_count": 216,
   "id": "satisfied-hartford",
   "metadata": {},
   "outputs": [
    {
     "data": {
      "text/plain": [
       "0.6916195656793166"
      ]
     },
     "execution_count": 216,
     "metadata": {},
     "output_type": "execute_result"
    }
   ],
   "source": [
    "tree_clf.score(X_train,y_train)"
   ]
  },
  {
   "cell_type": "markdown",
   "id": "separate-original",
   "metadata": {},
   "source": [
    "![](tree.png)"
   ]
  },
  {
   "cell_type": "code",
   "execution_count": 217,
   "id": "living-guinea",
   "metadata": {},
   "outputs": [
    {
     "data": {
      "text/html": [
       "<div>\n",
       "<style scoped>\n",
       "    .dataframe tbody tr th:only-of-type {\n",
       "        vertical-align: middle;\n",
       "    }\n",
       "\n",
       "    .dataframe tbody tr th {\n",
       "        vertical-align: top;\n",
       "    }\n",
       "\n",
       "    .dataframe thead th {\n",
       "        text-align: right;\n",
       "    }\n",
       "</style>\n",
       "<table border=\"1\" class=\"dataframe\">\n",
       "  <thead>\n",
       "    <tr style=\"text-align: right;\">\n",
       "      <th></th>\n",
       "      <th>Label</th>\n",
       "      <th>Price_Future</th>\n",
       "    </tr>\n",
       "  </thead>\n",
       "  <tbody>\n",
       "    <tr>\n",
       "      <th>0</th>\n",
       "      <td>0</td>\n",
       "      <td>41.48</td>\n",
       "    </tr>\n",
       "    <tr>\n",
       "      <th>1</th>\n",
       "      <td>0</td>\n",
       "      <td>43.95</td>\n",
       "    </tr>\n",
       "    <tr>\n",
       "      <th>2</th>\n",
       "      <td>0</td>\n",
       "      <td>48.71</td>\n",
       "    </tr>\n",
       "    <tr>\n",
       "      <th>3</th>\n",
       "      <td>1</td>\n",
       "      <td>35.69</td>\n",
       "    </tr>\n",
       "    <tr>\n",
       "      <th>4</th>\n",
       "      <td>2</td>\n",
       "      <td>36.66</td>\n",
       "    </tr>\n",
       "    <tr>\n",
       "      <th>...</th>\n",
       "      <td>...</td>\n",
       "      <td>...</td>\n",
       "    </tr>\n",
       "    <tr>\n",
       "      <th>58823</th>\n",
       "      <td>1</td>\n",
       "      <td>21.06</td>\n",
       "    </tr>\n",
       "    <tr>\n",
       "      <th>58824</th>\n",
       "      <td>0</td>\n",
       "      <td>25.38</td>\n",
       "    </tr>\n",
       "    <tr>\n",
       "      <th>58825</th>\n",
       "      <td>0</td>\n",
       "      <td>31.68</td>\n",
       "    </tr>\n",
       "    <tr>\n",
       "      <th>58826</th>\n",
       "      <td>0</td>\n",
       "      <td>38.29</td>\n",
       "    </tr>\n",
       "    <tr>\n",
       "      <th>58827</th>\n",
       "      <td>0</td>\n",
       "      <td>41.49</td>\n",
       "    </tr>\n",
       "  </tbody>\n",
       "</table>\n",
       "<p>58828 rows × 2 columns</p>\n",
       "</div>"
      ],
      "text/plain": [
       "       Label  Price_Future\n",
       "0          0         41.48\n",
       "1          0         43.95\n",
       "2          0         48.71\n",
       "3          1         35.69\n",
       "4          2         36.66\n",
       "...      ...           ...\n",
       "58823      1         21.06\n",
       "58824      0         25.38\n",
       "58825      0         31.68\n",
       "58826      0         38.29\n",
       "58827      0         41.49\n",
       "\n",
       "[58828 rows x 2 columns]"
      ]
     },
     "execution_count": 217,
     "metadata": {},
     "output_type": "execute_result"
    }
   ],
   "source": [
    "LabnF"
   ]
  },
  {
   "cell_type": "code",
   "execution_count": 218,
   "id": "flush-attack",
   "metadata": {},
   "outputs": [
    {
     "data": {
      "text/plain": [
       "array([[<AxesSubplot:title={'center':'Label'}>,\n",
       "        <AxesSubplot:title={'center':'Price_Future'}>]], dtype=object)"
      ]
     },
     "execution_count": 218,
     "metadata": {},
     "output_type": "execute_result"
    },
    {
     "data": {
      "image/png": "[encoded data removed]",
      "text/plain": [
       "<Figure size 432x288 with 2 Axes>"
      ]
     },
     "metadata": {
      "needs_background": "light"
     },
     "output_type": "display_data"
    }
   ],
   "source": [
    "LabnF.hist()"
   ]
  },
  {
   "cell_type": "code",
   "execution_count": 219,
   "id": "played-warning",
   "metadata": {},
   "outputs": [
    {
     "data": {
      "text/plain": [
       "<sklearn.tree._tree.Tree at 0x7f3cce472030>"
      ]
     },
     "execution_count": 219,
     "metadata": {},
     "output_type": "execute_result"
    }
   ],
   "source": [
    "tree_clf.tree_"
   ]
  },
  {
   "cell_type": "code",
   "execution_count": 220,
   "id": "capable-exemption",
   "metadata": {},
   "outputs": [],
   "source": [
    "tree=tree_clf.tree_"
   ]
  },
  {
   "cell_type": "code",
   "execution_count": 221,
   "id": "generous-action",
   "metadata": {},
   "outputs": [
    {
     "data": {
      "text/plain": [
       "<function Tree.decision_path>"
      ]
     },
     "execution_count": 221,
     "metadata": {},
     "output_type": "execute_result"
    }
   ],
   "source": [
    "tree.decision_path"
   ]
  },
  {
   "cell_type": "code",
   "execution_count": 222,
   "id": "initial-referral",
   "metadata": {},
   "outputs": [],
   "source": [
    "# dir(tree)"
   ]
  },
  {
   "cell_type": "code",
   "execution_count": 223,
   "id": "written-freedom",
   "metadata": {},
   "outputs": [],
   "source": [
    "# dir(tree.decision_path)"
   ]
  },
  {
   "cell_type": "code",
   "execution_count": 224,
   "id": "alone-velvet",
   "metadata": {},
   "outputs": [
    {
     "data": {
      "text/plain": [
       "1"
      ]
     },
     "execution_count": 224,
     "metadata": {},
     "output_type": "execute_result"
    }
   ],
   "source": [
    "tree.children_left[0]"
   ]
  },
  {
   "cell_type": "code",
   "execution_count": 225,
   "id": "widespread-attention",
   "metadata": {},
   "outputs": [],
   "source": [
    "# dir(tree)"
   ]
  },
  {
   "cell_type": "code",
   "execution_count": 226,
   "id": "current-topic",
   "metadata": {},
   "outputs": [],
   "source": [
    "# dir(tree.predict)"
   ]
  },
  {
   "cell_type": "code",
   "execution_count": 227,
   "id": "alpine-compiler",
   "metadata": {},
   "outputs": [],
   "source": [
    "# n_nodes = tree.node_count\n",
    "# children_left = tree.children_left\n",
    "# children_right = tree.children_right\n",
    "# feature = tree.feature\n",
    "# threshold = tree.threshold\n",
    "\n",
    "# node_depth = np.zeros(shape=n_nodes, dtype=np.int64)\n",
    "# is_leaves = np.zeros(shape=n_nodes, dtype=bool)\n",
    "# stack = [(0, 0)]  # start with the root node id (0) and its depth (0)\n",
    "# while len(stack) > 0:\n",
    "#     # `pop` ensures each node is only visited once\n",
    "#     node_id, depth = stack.pop()\n",
    "#     node_depth[node_id] = depth\n",
    "\n",
    "#     # If the left and right child of a node is not the same we have a split\n",
    "#     # node\n",
    "#     is_split_node = children_left[node_id] != children_right[node_id]\n",
    "#     # If a split node, append left and right children and depth to `stack`\n",
    "#     # so we can loop through them\n",
    "#     if is_split_node:\n",
    "#         stack.append((children_left[node_id], depth + 1))\n",
    "#         stack.append((children_right[node_id], depth + 1))\n",
    "#     else:\n",
    "#         is_leaves[node_id] = True\n",
    "\n",
    "# print(\"The binary tree structure has {n} nodes and has \"\n",
    "#       \"the following tree structure:\\n\".format(n=n_nodes))\n",
    "# for i in range(n_nodes):\n",
    "#     if is_leaves[i]:\n",
    "#         print(\"{space}node={node} is a leaf node.\".format(\n",
    "#             space=node_depth[i] * \"\\t\", node=i))\n",
    "#     else:\n",
    "#         print(\"{space}node={node} is a split node: \"\n",
    "#               \"go to node {left} if X[:, {feature}] <= {threshold} \"\n",
    "#               \"else to node {right}.\".format(\n",
    "#                   space=node_depth[i] * \"\\t\",\n",
    "#                   node=i,\n",
    "#                   left=children_left[i],\n",
    "#                   feature=feature[i],\n",
    "#                   threshold=threshold[i],\n",
    "#                   right=children_right[i]))"
   ]
  },
  {
   "cell_type": "code",
   "execution_count": 228,
   "id": "satisfied-dutch",
   "metadata": {},
   "outputs": [],
   "source": [
    "# dir(tree)"
   ]
  },
  {
   "cell_type": "code",
   "execution_count": 229,
   "id": "protective-tsunami",
   "metadata": {},
   "outputs": [
    {
     "data": {
      "text/plain": [
       "array([[0],\n",
       "       [0],\n",
       "       [1],\n",
       "       ...,\n",
       "       [0],\n",
       "       [1],\n",
       "       [0]])"
      ]
     },
     "execution_count": 229,
     "metadata": {},
     "output_type": "execute_result"
    }
   ],
   "source": [
    "tree.value.argmax(axis=2)"
   ]
  },
  {
   "cell_type": "code",
   "execution_count": 230,
   "id": "daily-backing",
   "metadata": {},
   "outputs": [
    {
     "data": {
      "text/plain": [
       "array([1.50058298, 1.48111189, 1.42514533, ..., 0.        , 0.        ,\n",
       "       0.        ])"
      ]
     },
     "execution_count": 230,
     "metadata": {},
     "output_type": "execute_result"
    }
   ],
   "source": [
    "tree.impurity"
   ]
  },
  {
   "cell_type": "code",
   "execution_count": 231,
   "id": "immediate-trick",
   "metadata": {},
   "outputs": [],
   "source": [
    "tree.max_n_classes=4"
   ]
  },
  {
   "cell_type": "code",
   "execution_count": 232,
   "id": "alleged-attitude",
   "metadata": {},
   "outputs": [
    {
     "data": {
      "text/plain": [
       "4"
      ]
     },
     "execution_count": 232,
     "metadata": {},
     "output_type": "execute_result"
    }
   ],
   "source": [
    "tree.max_n_classes"
   ]
  },
  {
   "cell_type": "code",
   "execution_count": 233,
   "id": "floating-briefs",
   "metadata": {},
   "outputs": [
    {
     "data": {
      "text/plain": [
       "array([4])"
      ]
     },
     "execution_count": 233,
     "metadata": {},
     "output_type": "execute_result"
    }
   ],
   "source": [
    "tree.n_classes"
   ]
  },
  {
   "cell_type": "code",
   "execution_count": null,
   "id": "concerned-roberts",
   "metadata": {},
   "outputs": [],
   "source": []
  },
  {
   "cell_type": "code",
   "execution_count": 234,
   "id": "verbal-linux",
   "metadata": {},
   "outputs": [],
   "source": [
    "for i in range(len(tree.impurity)):\n",
    "    if  tree.impurity[i]<1:\n",
    "        tree.value[i][0][3]=max(tree.value[i][0])+10\n",
    "        "
   ]
  },
  {
   "cell_type": "code",
   "execution_count": 235,
   "id": "integral-trout",
   "metadata": {},
   "outputs": [
    {
     "data": {
      "text/plain": [
       "array([[0],\n",
       "       [0],\n",
       "       [1],\n",
       "       ...,\n",
       "       [3],\n",
       "       [3],\n",
       "       [3]])"
      ]
     },
     "execution_count": 235,
     "metadata": {},
     "output_type": "execute_result"
    }
   ],
   "source": [
    "tree.value.argmax(axis=2)"
   ]
  },
  {
   "cell_type": "code",
   "execution_count": 236,
   "id": "pleased-exhaust",
   "metadata": {},
   "outputs": [],
   "source": [
    "# import sklearn.tree as tree2\n",
    "# import matplotlib.pyplot as plt\n",
    "# plt.figure(figsize=(60,20))\n",
    "# tree2.plot_tree(tree_clf)\n",
    "# plt.savefig(\"tree.png\")"
   ]
  },
  {
   "cell_type": "code",
   "execution_count": 237,
   "id": "seven-fetish",
   "metadata": {},
   "outputs": [
    {
     "data": {
      "text/plain": [
       "0.26474587795342513"
      ]
     },
     "execution_count": 237,
     "metadata": {},
     "output_type": "execute_result"
    }
   ],
   "source": [
    "tree_clf.score(X_test,y_test)"
   ]
  },
  {
   "cell_type": "code",
   "execution_count": 238,
   "id": "infrared-wallet",
   "metadata": {},
   "outputs": [],
   "source": [
    "preds_X=tree_clf.predict(X_test)"
   ]
  },
  {
   "cell_type": "code",
   "execution_count": 239,
   "id": "leading-coverage",
   "metadata": {},
   "outputs": [],
   "source": [
    "y_test=np.array(y_test)\n",
    "correct=0\n",
    "total=len(preds_X)\n",
    "for i in range(len(preds_X)):\n",
    "    if(preds_X[i]==3):\n",
    "        total-=1\n",
    "    else:\n",
    "        if(preds_X[i]==y_test[i]):\n",
    "            correct+=1\n",
    "        else:\n",
    "            pass\n",
    "    "
   ]
  },
  {
   "cell_type": "code",
   "execution_count": 240,
   "id": "changing-asset",
   "metadata": {},
   "outputs": [
    {
     "data": {
      "text/plain": [
       "3115"
      ]
     },
     "execution_count": 240,
     "metadata": {},
     "output_type": "execute_result"
    }
   ],
   "source": [
    "correct"
   ]
  },
  {
   "cell_type": "code",
   "execution_count": 241,
   "id": "boolean-climate",
   "metadata": {},
   "outputs": [
    {
     "data": {
      "text/plain": [
       "6625"
      ]
     },
     "execution_count": 241,
     "metadata": {},
     "output_type": "execute_result"
    }
   ],
   "source": [
    "total"
   ]
  },
  {
   "cell_type": "code",
   "execution_count": 242,
   "id": "skilled-catalyst",
   "metadata": {},
   "outputs": [
    {
     "data": {
      "text/plain": [
       "11766"
      ]
     },
     "execution_count": 242,
     "metadata": {},
     "output_type": "execute_result"
    }
   ],
   "source": [
    "len(preds_X)"
   ]
  },
  {
   "cell_type": "code",
   "execution_count": 243,
   "id": "rental-onion",
   "metadata": {},
   "outputs": [
    {
     "data": {
      "text/plain": [
       "0.470188679245283"
      ]
     },
     "execution_count": 243,
     "metadata": {},
     "output_type": "execute_result"
    }
   ],
   "source": [
    "correct/total"
   ]
  },
  {
   "cell_type": "code",
   "execution_count": 244,
   "id": "radical-server",
   "metadata": {},
   "outputs": [],
   "source": [
    "y_test=np.array(y_test)\n",
    "correct=0\n",
    "total=len(preds_X)\n",
    "for i in range(len(preds_X)):\n",
    "    if(preds_X[i]==y_test[i]):\n",
    "        correct+=1\n",
    "    else:\n",
    "        pass"
   ]
  },
  {
   "cell_type": "code",
   "execution_count": 245,
   "id": "knowing-treatment",
   "metadata": {},
   "outputs": [
    {
     "data": {
      "text/plain": [
       "0.26474587795342513"
      ]
     },
     "execution_count": 245,
     "metadata": {},
     "output_type": "execute_result"
    }
   ],
   "source": [
    "correct/total"
   ]
  },
  {
   "cell_type": "code",
   "execution_count": 246,
   "id": "faced-conspiracy",
   "metadata": {},
   "outputs": [
    {
     "name": "stderr",
     "output_type": "stream",
     "text": [
      "/home/kaypee/miniconda3/envs/ds/lib/python3.8/site-packages/sklearn/tree/_export.py:224: RuntimeWarning: divide by zero encountered in double_scalars\n",
      "  alpha = ((sorted_values[0] - sorted_values[1])\n"
     ]
    },
    {
     "ename": "ValueError",
     "evalue": "cannot convert float NaN to integer",
     "output_type": "error",
     "traceback": [
      "\u001b[0;31m---------------------------------------------------------------------------\u001b[0m",
      "\u001b[0;31mValueError\u001b[0m                                Traceback (most recent call last)",
      "\u001b[0;32m<ipython-input-246-761f06bd6dd6>\u001b[0m in \u001b[0;36m<module>\u001b[0;34m\u001b[0m\n\u001b[1;32m      1\u001b[0m \u001b[0mf\u001b[0m\u001b[0;34m=\u001b[0m\u001b[0mopen\u001b[0m\u001b[0;34m(\u001b[0m\u001b[0;34m\"./tree.dot\"\u001b[0m\u001b[0;34m,\u001b[0m\u001b[0;34m\"w+\"\u001b[0m\u001b[0;34m)\u001b[0m\u001b[0;34m\u001b[0m\u001b[0;34m\u001b[0m\u001b[0m\n\u001b[0;32m----> 2\u001b[0;31m \u001b[0mexport_graphviz\u001b[0m\u001b[0;34m(\u001b[0m\u001b[0mtree_clf\u001b[0m\u001b[0;34m,\u001b[0m\u001b[0mout_file\u001b[0m\u001b[0;34m=\u001b[0m\u001b[0mf\u001b[0m\u001b[0;34m,\u001b[0m\u001b[0mfeature_names\u001b[0m\u001b[0;34m=\u001b[0m\u001b[0mnumeric_columns\u001b[0m\u001b[0;34m,\u001b[0m\u001b[0mclass_names\u001b[0m\u001b[0;34m=\u001b[0m\u001b[0;34m[\u001b[0m\u001b[0;34m\"BUY\"\u001b[0m\u001b[0;34m,\u001b[0m\u001b[0;34m\"SELL\"\u001b[0m\u001b[0;34m,\u001b[0m\u001b[0;34m\"HOLD\"\u001b[0m\u001b[0;34m,\u001b[0m\u001b[0;34m\"IDK\"\u001b[0m\u001b[0;34m]\u001b[0m\u001b[0;34m,\u001b[0m\u001b[0mrounded\u001b[0m\u001b[0;34m=\u001b[0m\u001b[0;32mTrue\u001b[0m\u001b[0;34m,\u001b[0m\u001b[0mfilled\u001b[0m\u001b[0;34m=\u001b[0m\u001b[0;32mTrue\u001b[0m\u001b[0;34m)\u001b[0m\u001b[0;34m\u001b[0m\u001b[0;34m\u001b[0m\u001b[0m\n\u001b[0m\u001b[1;32m      3\u001b[0m \u001b[0mf\u001b[0m\u001b[0;34m.\u001b[0m\u001b[0mclose\u001b[0m\u001b[0;34m(\u001b[0m\u001b[0;34m)\u001b[0m\u001b[0;34m\u001b[0m\u001b[0;34m\u001b[0m\u001b[0m\n",
      "\u001b[0;32m~/miniconda3/envs/ds/lib/python3.8/site-packages/sklearn/utils/validation.py\u001b[0m in \u001b[0;36minner_f\u001b[0;34m(*args, **kwargs)\u001b[0m\n\u001b[1;32m     70\u001b[0m                           FutureWarning)\n\u001b[1;32m     71\u001b[0m         \u001b[0mkwargs\u001b[0m\u001b[0;34m.\u001b[0m\u001b[0mupdate\u001b[0m\u001b[0;34m(\u001b[0m\u001b[0;34m{\u001b[0m\u001b[0mk\u001b[0m\u001b[0;34m:\u001b[0m \u001b[0marg\u001b[0m \u001b[0;32mfor\u001b[0m \u001b[0mk\u001b[0m\u001b[0;34m,\u001b[0m \u001b[0marg\u001b[0m \u001b[0;32min\u001b[0m \u001b[0mzip\u001b[0m\u001b[0;34m(\u001b[0m\u001b[0msig\u001b[0m\u001b[0;34m.\u001b[0m\u001b[0mparameters\u001b[0m\u001b[0;34m,\u001b[0m \u001b[0margs\u001b[0m\u001b[0;34m)\u001b[0m\u001b[0;34m}\u001b[0m\u001b[0;34m)\u001b[0m\u001b[0;34m\u001b[0m\u001b[0;34m\u001b[0m\u001b[0m\n\u001b[0;32m---> 72\u001b[0;31m         \u001b[0;32mreturn\u001b[0m \u001b[0mf\u001b[0m\u001b[0;34m(\u001b[0m\u001b[0;34m**\u001b[0m\u001b[0mkwargs\u001b[0m\u001b[0;34m)\u001b[0m\u001b[0;34m\u001b[0m\u001b[0;34m\u001b[0m\u001b[0m\n\u001b[0m\u001b[1;32m     73\u001b[0m     \u001b[0;32mreturn\u001b[0m \u001b[0minner_f\u001b[0m\u001b[0;34m\u001b[0m\u001b[0;34m\u001b[0m\u001b[0m\n\u001b[1;32m     74\u001b[0m \u001b[0;34m\u001b[0m\u001b[0m\n",
      "\u001b[0;32m~/miniconda3/envs/ds/lib/python3.8/site-packages/sklearn/tree/_export.py\u001b[0m in \u001b[0;36mexport_graphviz\u001b[0;34m(decision_tree, out_file, max_depth, feature_names, class_names, label, filled, leaves_parallel, impurity, node_ids, proportion, rotate, rounded, special_characters, precision)\u001b[0m\n\u001b[1;32m    781\u001b[0m             \u001b[0mrounded\u001b[0m\u001b[0;34m=\u001b[0m\u001b[0mrounded\u001b[0m\u001b[0;34m,\u001b[0m \u001b[0mspecial_characters\u001b[0m\u001b[0;34m=\u001b[0m\u001b[0mspecial_characters\u001b[0m\u001b[0;34m,\u001b[0m\u001b[0;34m\u001b[0m\u001b[0;34m\u001b[0m\u001b[0m\n\u001b[1;32m    782\u001b[0m             precision=precision)\n\u001b[0;32m--> 783\u001b[0;31m         \u001b[0mexporter\u001b[0m\u001b[0;34m.\u001b[0m\u001b[0mexport\u001b[0m\u001b[0;34m(\u001b[0m\u001b[0mdecision_tree\u001b[0m\u001b[0;34m)\u001b[0m\u001b[0;34m\u001b[0m\u001b[0;34m\u001b[0m\u001b[0m\n\u001b[0m\u001b[1;32m    784\u001b[0m \u001b[0;34m\u001b[0m\u001b[0m\n\u001b[1;32m    785\u001b[0m         \u001b[0;32mif\u001b[0m \u001b[0mreturn_string\u001b[0m\u001b[0;34m:\u001b[0m\u001b[0;34m\u001b[0m\u001b[0;34m\u001b[0m\u001b[0m\n",
      "\u001b[0;32m~/miniconda3/envs/ds/lib/python3.8/site-packages/sklearn/tree/_export.py\u001b[0m in \u001b[0;36mexport\u001b[0;34m(self, decision_tree)\u001b[0m\n\u001b[1;32m    421\u001b[0m             \u001b[0mself\u001b[0m\u001b[0;34m.\u001b[0m\u001b[0mrecurse\u001b[0m\u001b[0;34m(\u001b[0m\u001b[0mdecision_tree\u001b[0m\u001b[0;34m,\u001b[0m \u001b[0;36m0\u001b[0m\u001b[0;34m,\u001b[0m \u001b[0mcriterion\u001b[0m\u001b[0;34m=\u001b[0m\u001b[0;34m\"impurity\"\u001b[0m\u001b[0;34m)\u001b[0m\u001b[0;34m\u001b[0m\u001b[0;34m\u001b[0m\u001b[0m\n\u001b[1;32m    422\u001b[0m         \u001b[0;32melse\u001b[0m\u001b[0;34m:\u001b[0m\u001b[0;34m\u001b[0m\u001b[0;34m\u001b[0m\u001b[0m\n\u001b[0;32m--> 423\u001b[0;31m             self.recurse(decision_tree.tree_, 0,\n\u001b[0m\u001b[1;32m    424\u001b[0m                          criterion=decision_tree.criterion)\n\u001b[1;32m    425\u001b[0m \u001b[0;34m\u001b[0m\u001b[0m\n",
      "\u001b[0;32m~/miniconda3/envs/ds/lib/python3.8/site-packages/sklearn/tree/_export.py\u001b[0m in \u001b[0;36mrecurse\u001b[0;34m(self, tree, node_id, criterion, parent, depth)\u001b[0m\n\u001b[1;32m    505\u001b[0m \u001b[0;34m\u001b[0m\u001b[0m\n\u001b[1;32m    506\u001b[0m             \u001b[0;32mif\u001b[0m \u001b[0mleft_child\u001b[0m \u001b[0;34m!=\u001b[0m \u001b[0m_tree\u001b[0m\u001b[0;34m.\u001b[0m\u001b[0mTREE_LEAF\u001b[0m\u001b[0;34m:\u001b[0m\u001b[0;34m\u001b[0m\u001b[0;34m\u001b[0m\u001b[0m\n\u001b[0;32m--> 507\u001b[0;31m                 self.recurse(tree, left_child, criterion=criterion,\n\u001b[0m\u001b[1;32m    508\u001b[0m                              parent=node_id, depth=depth + 1)\n\u001b[1;32m    509\u001b[0m                 self.recurse(tree, right_child, criterion=criterion,\n",
      "\u001b[0;32m~/miniconda3/envs/ds/lib/python3.8/site-packages/sklearn/tree/_export.py\u001b[0m in \u001b[0;36mrecurse\u001b[0;34m(self, tree, node_id, criterion, parent, depth)\u001b[0m\n\u001b[1;32m    505\u001b[0m \u001b[0;34m\u001b[0m\u001b[0m\n\u001b[1;32m    506\u001b[0m             \u001b[0;32mif\u001b[0m \u001b[0mleft_child\u001b[0m \u001b[0;34m!=\u001b[0m \u001b[0m_tree\u001b[0m\u001b[0;34m.\u001b[0m\u001b[0mTREE_LEAF\u001b[0m\u001b[0;34m:\u001b[0m\u001b[0;34m\u001b[0m\u001b[0;34m\u001b[0m\u001b[0m\n\u001b[0;32m--> 507\u001b[0;31m                 self.recurse(tree, left_child, criterion=criterion,\n\u001b[0m\u001b[1;32m    508\u001b[0m                              parent=node_id, depth=depth + 1)\n\u001b[1;32m    509\u001b[0m                 self.recurse(tree, right_child, criterion=criterion,\n",
      "\u001b[0;32m~/miniconda3/envs/ds/lib/python3.8/site-packages/sklearn/tree/_export.py\u001b[0m in \u001b[0;36mrecurse\u001b[0;34m(self, tree, node_id, criterion, parent, depth)\u001b[0m\n\u001b[1;32m    505\u001b[0m \u001b[0;34m\u001b[0m\u001b[0m\n\u001b[1;32m    506\u001b[0m             \u001b[0;32mif\u001b[0m \u001b[0mleft_child\u001b[0m \u001b[0;34m!=\u001b[0m \u001b[0m_tree\u001b[0m\u001b[0;34m.\u001b[0m\u001b[0mTREE_LEAF\u001b[0m\u001b[0;34m:\u001b[0m\u001b[0;34m\u001b[0m\u001b[0;34m\u001b[0m\u001b[0m\n\u001b[0;32m--> 507\u001b[0;31m                 self.recurse(tree, left_child, criterion=criterion,\n\u001b[0m\u001b[1;32m    508\u001b[0m                              parent=node_id, depth=depth + 1)\n\u001b[1;32m    509\u001b[0m                 self.recurse(tree, right_child, criterion=criterion,\n",
      "\u001b[0;32m~/miniconda3/envs/ds/lib/python3.8/site-packages/sklearn/tree/_export.py\u001b[0m in \u001b[0;36mrecurse\u001b[0;34m(self, tree, node_id, criterion, parent, depth)\u001b[0m\n\u001b[1;32m    505\u001b[0m \u001b[0;34m\u001b[0m\u001b[0m\n\u001b[1;32m    506\u001b[0m             \u001b[0;32mif\u001b[0m \u001b[0mleft_child\u001b[0m \u001b[0;34m!=\u001b[0m \u001b[0m_tree\u001b[0m\u001b[0;34m.\u001b[0m\u001b[0mTREE_LEAF\u001b[0m\u001b[0;34m:\u001b[0m\u001b[0;34m\u001b[0m\u001b[0;34m\u001b[0m\u001b[0m\n\u001b[0;32m--> 507\u001b[0;31m                 self.recurse(tree, left_child, criterion=criterion,\n\u001b[0m\u001b[1;32m    508\u001b[0m                              parent=node_id, depth=depth + 1)\n\u001b[1;32m    509\u001b[0m                 self.recurse(tree, right_child, criterion=criterion,\n",
      "\u001b[0;32m~/miniconda3/envs/ds/lib/python3.8/site-packages/sklearn/tree/_export.py\u001b[0m in \u001b[0;36mrecurse\u001b[0;34m(self, tree, node_id, criterion, parent, depth)\u001b[0m\n\u001b[1;32m    505\u001b[0m \u001b[0;34m\u001b[0m\u001b[0m\n\u001b[1;32m    506\u001b[0m             \u001b[0;32mif\u001b[0m \u001b[0mleft_child\u001b[0m \u001b[0;34m!=\u001b[0m \u001b[0m_tree\u001b[0m\u001b[0;34m.\u001b[0m\u001b[0mTREE_LEAF\u001b[0m\u001b[0;34m:\u001b[0m\u001b[0;34m\u001b[0m\u001b[0;34m\u001b[0m\u001b[0m\n\u001b[0;32m--> 507\u001b[0;31m                 self.recurse(tree, left_child, criterion=criterion,\n\u001b[0m\u001b[1;32m    508\u001b[0m                              parent=node_id, depth=depth + 1)\n\u001b[1;32m    509\u001b[0m                 self.recurse(tree, right_child, criterion=criterion,\n",
      "\u001b[0;32m~/miniconda3/envs/ds/lib/python3.8/site-packages/sklearn/tree/_export.py\u001b[0m in \u001b[0;36mrecurse\u001b[0;34m(self, tree, node_id, criterion, parent, depth)\u001b[0m\n\u001b[1;32m    505\u001b[0m \u001b[0;34m\u001b[0m\u001b[0m\n\u001b[1;32m    506\u001b[0m             \u001b[0;32mif\u001b[0m \u001b[0mleft_child\u001b[0m \u001b[0;34m!=\u001b[0m \u001b[0m_tree\u001b[0m\u001b[0;34m.\u001b[0m\u001b[0mTREE_LEAF\u001b[0m\u001b[0;34m:\u001b[0m\u001b[0;34m\u001b[0m\u001b[0;34m\u001b[0m\u001b[0m\n\u001b[0;32m--> 507\u001b[0;31m                 self.recurse(tree, left_child, criterion=criterion,\n\u001b[0m\u001b[1;32m    508\u001b[0m                              parent=node_id, depth=depth + 1)\n\u001b[1;32m    509\u001b[0m                 self.recurse(tree, right_child, criterion=criterion,\n",
      "\u001b[0;32m~/miniconda3/envs/ds/lib/python3.8/site-packages/sklearn/tree/_export.py\u001b[0m in \u001b[0;36mrecurse\u001b[0;34m(self, tree, node_id, criterion, parent, depth)\u001b[0m\n\u001b[1;32m    505\u001b[0m \u001b[0;34m\u001b[0m\u001b[0m\n\u001b[1;32m    506\u001b[0m             \u001b[0;32mif\u001b[0m \u001b[0mleft_child\u001b[0m \u001b[0;34m!=\u001b[0m \u001b[0m_tree\u001b[0m\u001b[0;34m.\u001b[0m\u001b[0mTREE_LEAF\u001b[0m\u001b[0;34m:\u001b[0m\u001b[0;34m\u001b[0m\u001b[0;34m\u001b[0m\u001b[0m\n\u001b[0;32m--> 507\u001b[0;31m                 self.recurse(tree, left_child, criterion=criterion,\n\u001b[0m\u001b[1;32m    508\u001b[0m                              parent=node_id, depth=depth + 1)\n\u001b[1;32m    509\u001b[0m                 self.recurse(tree, right_child, criterion=criterion,\n",
      "\u001b[0;32m~/miniconda3/envs/ds/lib/python3.8/site-packages/sklearn/tree/_export.py\u001b[0m in \u001b[0;36mrecurse\u001b[0;34m(self, tree, node_id, criterion, parent, depth)\u001b[0m\n\u001b[1;32m    505\u001b[0m \u001b[0;34m\u001b[0m\u001b[0m\n\u001b[1;32m    506\u001b[0m             \u001b[0;32mif\u001b[0m \u001b[0mleft_child\u001b[0m \u001b[0;34m!=\u001b[0m \u001b[0m_tree\u001b[0m\u001b[0;34m.\u001b[0m\u001b[0mTREE_LEAF\u001b[0m\u001b[0;34m:\u001b[0m\u001b[0;34m\u001b[0m\u001b[0;34m\u001b[0m\u001b[0m\n\u001b[0;32m--> 507\u001b[0;31m                 self.recurse(tree, left_child, criterion=criterion,\n\u001b[0m\u001b[1;32m    508\u001b[0m                              parent=node_id, depth=depth + 1)\n\u001b[1;32m    509\u001b[0m                 self.recurse(tree, right_child, criterion=criterion,\n",
      "\u001b[0;32m~/miniconda3/envs/ds/lib/python3.8/site-packages/sklearn/tree/_export.py\u001b[0m in \u001b[0;36mrecurse\u001b[0;34m(self, tree, node_id, criterion, parent, depth)\u001b[0m\n\u001b[1;32m    505\u001b[0m \u001b[0;34m\u001b[0m\u001b[0m\n\u001b[1;32m    506\u001b[0m             \u001b[0;32mif\u001b[0m \u001b[0mleft_child\u001b[0m \u001b[0;34m!=\u001b[0m \u001b[0m_tree\u001b[0m\u001b[0;34m.\u001b[0m\u001b[0mTREE_LEAF\u001b[0m\u001b[0;34m:\u001b[0m\u001b[0;34m\u001b[0m\u001b[0;34m\u001b[0m\u001b[0m\n\u001b[0;32m--> 507\u001b[0;31m                 self.recurse(tree, left_child, criterion=criterion,\n\u001b[0m\u001b[1;32m    508\u001b[0m                              parent=node_id, depth=depth + 1)\n\u001b[1;32m    509\u001b[0m                 self.recurse(tree, right_child, criterion=criterion,\n",
      "\u001b[0;32m~/miniconda3/envs/ds/lib/python3.8/site-packages/sklearn/tree/_export.py\u001b[0m in \u001b[0;36mrecurse\u001b[0;34m(self, tree, node_id, criterion, parent, depth)\u001b[0m\n\u001b[1;32m    486\u001b[0m             \u001b[0;32mif\u001b[0m \u001b[0mself\u001b[0m\u001b[0;34m.\u001b[0m\u001b[0mfilled\u001b[0m\u001b[0;34m:\u001b[0m\u001b[0;34m\u001b[0m\u001b[0;34m\u001b[0m\u001b[0m\n\u001b[1;32m    487\u001b[0m                 self.out_file.write(', fillcolor=\"%s\"'\n\u001b[0;32m--> 488\u001b[0;31m                                     % self.get_fill_color(tree, node_id))\n\u001b[0m\u001b[1;32m    489\u001b[0m             \u001b[0mself\u001b[0m\u001b[0;34m.\u001b[0m\u001b[0mout_file\u001b[0m\u001b[0;34m.\u001b[0m\u001b[0mwrite\u001b[0m\u001b[0;34m(\u001b[0m\u001b[0;34m'] ;\\n'\u001b[0m\u001b[0;34m)\u001b[0m\u001b[0;34m\u001b[0m\u001b[0;34m\u001b[0m\u001b[0m\n\u001b[1;32m    490\u001b[0m \u001b[0;34m\u001b[0m\u001b[0m\n",
      "\u001b[0;32m~/miniconda3/envs/ds/lib/python3.8/site-packages/sklearn/tree/_export.py\u001b[0m in \u001b[0;36mget_fill_color\u001b[0;34m(self, tree, node_id)\u001b[0m\n\u001b[1;32m    259\u001b[0m             \u001b[0;31m# If multi-output color node by impurity\u001b[0m\u001b[0;34m\u001b[0m\u001b[0;34m\u001b[0m\u001b[0;34m\u001b[0m\u001b[0m\n\u001b[1;32m    260\u001b[0m             \u001b[0mnode_val\u001b[0m \u001b[0;34m=\u001b[0m \u001b[0;34m-\u001b[0m\u001b[0mtree\u001b[0m\u001b[0;34m.\u001b[0m\u001b[0mimpurity\u001b[0m\u001b[0;34m[\u001b[0m\u001b[0mnode_id\u001b[0m\u001b[0;34m]\u001b[0m\u001b[0;34m\u001b[0m\u001b[0;34m\u001b[0m\u001b[0m\n\u001b[0;32m--> 261\u001b[0;31m         \u001b[0;32mreturn\u001b[0m \u001b[0mself\u001b[0m\u001b[0;34m.\u001b[0m\u001b[0mget_color\u001b[0m\u001b[0;34m(\u001b[0m\u001b[0mnode_val\u001b[0m\u001b[0;34m)\u001b[0m\u001b[0;34m\u001b[0m\u001b[0;34m\u001b[0m\u001b[0m\n\u001b[0m\u001b[1;32m    262\u001b[0m \u001b[0;34m\u001b[0m\u001b[0m\n\u001b[1;32m    263\u001b[0m     \u001b[0;32mdef\u001b[0m \u001b[0mnode_to_str\u001b[0m\u001b[0;34m(\u001b[0m\u001b[0mself\u001b[0m\u001b[0;34m,\u001b[0m \u001b[0mtree\u001b[0m\u001b[0;34m,\u001b[0m \u001b[0mnode_id\u001b[0m\u001b[0;34m,\u001b[0m \u001b[0mcriterion\u001b[0m\u001b[0;34m)\u001b[0m\u001b[0;34m:\u001b[0m\u001b[0;34m\u001b[0m\u001b[0;34m\u001b[0m\u001b[0m\n",
      "\u001b[0;32m~/miniconda3/envs/ds/lib/python3.8/site-packages/sklearn/tree/_export.py\u001b[0m in \u001b[0;36mget_color\u001b[0;34m(self, value)\u001b[0m\n\u001b[1;32m    232\u001b[0m         \u001b[0malpha\u001b[0m \u001b[0;34m=\u001b[0m \u001b[0mfloat\u001b[0m\u001b[0;34m(\u001b[0m\u001b[0malpha\u001b[0m\u001b[0;34m)\u001b[0m\u001b[0;34m\u001b[0m\u001b[0;34m\u001b[0m\u001b[0m\n\u001b[1;32m    233\u001b[0m         \u001b[0;31m# compute the color as alpha against white\u001b[0m\u001b[0;34m\u001b[0m\u001b[0;34m\u001b[0m\u001b[0;34m\u001b[0m\u001b[0m\n\u001b[0;32m--> 234\u001b[0;31m         \u001b[0mcolor\u001b[0m \u001b[0;34m=\u001b[0m \u001b[0;34m[\u001b[0m\u001b[0mint\u001b[0m\u001b[0;34m(\u001b[0m\u001b[0mround\u001b[0m\u001b[0;34m(\u001b[0m\u001b[0malpha\u001b[0m \u001b[0;34m*\u001b[0m \u001b[0mc\u001b[0m \u001b[0;34m+\u001b[0m \u001b[0;34m(\u001b[0m\u001b[0;36m1\u001b[0m \u001b[0;34m-\u001b[0m \u001b[0malpha\u001b[0m\u001b[0;34m)\u001b[0m \u001b[0;34m*\u001b[0m \u001b[0;36m255\u001b[0m\u001b[0;34m,\u001b[0m \u001b[0;36m0\u001b[0m\u001b[0;34m)\u001b[0m\u001b[0;34m)\u001b[0m \u001b[0;32mfor\u001b[0m \u001b[0mc\u001b[0m \u001b[0;32min\u001b[0m \u001b[0mcolor\u001b[0m\u001b[0;34m]\u001b[0m\u001b[0;34m\u001b[0m\u001b[0;34m\u001b[0m\u001b[0m\n\u001b[0m\u001b[1;32m    235\u001b[0m         \u001b[0;31m# Return html color code in #RRGGBB format\u001b[0m\u001b[0;34m\u001b[0m\u001b[0;34m\u001b[0m\u001b[0;34m\u001b[0m\u001b[0m\n\u001b[1;32m    236\u001b[0m         \u001b[0;32mreturn\u001b[0m \u001b[0;34m'#%2x%2x%2x'\u001b[0m \u001b[0;34m%\u001b[0m \u001b[0mtuple\u001b[0m\u001b[0;34m(\u001b[0m\u001b[0mcolor\u001b[0m\u001b[0;34m)\u001b[0m\u001b[0;34m\u001b[0m\u001b[0;34m\u001b[0m\u001b[0m\n",
      "\u001b[0;32m~/miniconda3/envs/ds/lib/python3.8/site-packages/sklearn/tree/_export.py\u001b[0m in \u001b[0;36m<listcomp>\u001b[0;34m(.0)\u001b[0m\n\u001b[1;32m    232\u001b[0m         \u001b[0malpha\u001b[0m \u001b[0;34m=\u001b[0m \u001b[0mfloat\u001b[0m\u001b[0;34m(\u001b[0m\u001b[0malpha\u001b[0m\u001b[0;34m)\u001b[0m\u001b[0;34m\u001b[0m\u001b[0;34m\u001b[0m\u001b[0m\n\u001b[1;32m    233\u001b[0m         \u001b[0;31m# compute the color as alpha against white\u001b[0m\u001b[0;34m\u001b[0m\u001b[0;34m\u001b[0m\u001b[0;34m\u001b[0m\u001b[0m\n\u001b[0;32m--> 234\u001b[0;31m         \u001b[0mcolor\u001b[0m \u001b[0;34m=\u001b[0m \u001b[0;34m[\u001b[0m\u001b[0mint\u001b[0m\u001b[0;34m(\u001b[0m\u001b[0mround\u001b[0m\u001b[0;34m(\u001b[0m\u001b[0malpha\u001b[0m \u001b[0;34m*\u001b[0m \u001b[0mc\u001b[0m \u001b[0;34m+\u001b[0m \u001b[0;34m(\u001b[0m\u001b[0;36m1\u001b[0m \u001b[0;34m-\u001b[0m \u001b[0malpha\u001b[0m\u001b[0;34m)\u001b[0m \u001b[0;34m*\u001b[0m \u001b[0;36m255\u001b[0m\u001b[0;34m,\u001b[0m \u001b[0;36m0\u001b[0m\u001b[0;34m)\u001b[0m\u001b[0;34m)\u001b[0m \u001b[0;32mfor\u001b[0m \u001b[0mc\u001b[0m \u001b[0;32min\u001b[0m \u001b[0mcolor\u001b[0m\u001b[0;34m]\u001b[0m\u001b[0;34m\u001b[0m\u001b[0;34m\u001b[0m\u001b[0m\n\u001b[0m\u001b[1;32m    235\u001b[0m         \u001b[0;31m# Return html color code in #RRGGBB format\u001b[0m\u001b[0;34m\u001b[0m\u001b[0;34m\u001b[0m\u001b[0;34m\u001b[0m\u001b[0m\n\u001b[1;32m    236\u001b[0m         \u001b[0;32mreturn\u001b[0m \u001b[0;34m'#%2x%2x%2x'\u001b[0m \u001b[0;34m%\u001b[0m \u001b[0mtuple\u001b[0m\u001b[0;34m(\u001b[0m\u001b[0mcolor\u001b[0m\u001b[0;34m)\u001b[0m\u001b[0;34m\u001b[0m\u001b[0;34m\u001b[0m\u001b[0m\n",
      "\u001b[0;31mValueError\u001b[0m: cannot convert float NaN to integer"
     ]
    }
   ],
   "source": [
    "f=open(\"./tree.dot\",\"w+\")\n",
    "export_graphviz(tree_clf,out_file=f,feature_names=numeric_columns,class_names=[\"BUY\",\"SELL\",\"HOLD\",\"IDK\"],rounded=True,filled=True)\n",
    "f.close()"
   ]
  },
  {
   "cell_type": "code",
   "execution_count": null,
   "id": "binding-student",
   "metadata": {},
   "outputs": [],
   "source": []
  }
 ],
 "metadata": {
  "kernelspec": {
   "display_name": "Python 3",
   "language": "python",
   "name": "python3"
  },
  "language_info": {
   "codemirror_mode": {
    "name": "ipython",
    "version": 3
   },
   "file_extension": ".py",
   "mimetype": "text/x-python",
   "name": "python",
   "nbconvert_exporter": "python",
   "pygments_lexer": "ipython3",
   "version": "3.8.5"
  }
 },
 "nbformat": 4,
 "nbformat_minor": 5
}
