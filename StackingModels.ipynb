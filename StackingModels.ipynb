{
 "cells": [
  {
   "cell_type": "code",
   "execution_count": 19,
   "id": "handy-belle",
   "metadata": {},
   "outputs": [],
   "source": [
    "import numpy as np\n",
    "import pandas as pd\n",
    "from sklearn.model_selection import train_test_split\n",
    "from sklearn.metrics import accuracy_score\n",
    "from sklearn.preprocessing import StandardScaler"
   ]
  },
  {
   "cell_type": "code",
   "execution_count": 20,
   "id": "stone-ordering",
   "metadata": {},
   "outputs": [],
   "source": [
    "numeric_columns=['Shares (Basic)',\n",
    "       'Shares (Diluted)', 'Cash, Cash Equivalents & Short Term Investments',\n",
    "       'Accounts & Notes Receivable', 'Inventories', 'Total Current Assets',\n",
    "       'Property, Plant & Equipment, Net',\n",
    "       'Long Term Investments & Receivables', 'Other Long Term Assets',\n",
    "       'Total Noncurrent Assets', 'Total Assets', 'Payables & Accruals',\n",
    "       'Short Term Debt', 'Total Current Liabilities', 'Long Term Debt',\n",
    "       'Total Noncurrent Liabilities', 'Total Liabilities',\n",
    "       'Share Capital & Additional Paid-In Capital', 'Treasury Stock',\n",
    "       'Retained Earnings', 'Total Equity', 'Total Liabilities & Equity',\n",
    "       'Price_Present']"
   ]
  },
  {
   "cell_type": "code",
   "execution_count": 21,
   "id": "moral-employment",
   "metadata": {},
   "outputs": [],
   "source": [
    "clean_fundamen=pd.read_csv(\"dataset_1.csv\")\n",
    "LabnF=pd.read_csv(\"./labnf.csv\")\n",
    "X,Y=clean_fundamen[numeric_columns],LabnF[\"Label\"]\n",
    "scaler = StandardScaler()\n",
    "scaler.fit(X)\n",
    "X=scaler.transform(X)"
   ]
  },
  {
   "cell_type": "code",
   "execution_count": 22,
   "id": "international-cricket",
   "metadata": {},
   "outputs": [],
   "source": [
    "seed = 7\n",
    "test_size = 0.20\n",
    "X_train, X_test, y_train, y_test = train_test_split(X, Y, test_size=test_size, random_state=seed)"
   ]
  },
  {
   "cell_type": "code",
   "execution_count": 23,
   "id": "tender-factor",
   "metadata": {},
   "outputs": [],
   "source": [
    "from sklearn.experimental import enable_hist_gradient_boosting  # noqa\n",
    "from sklearn.ensemble import HistGradientBoostingRegressor\n",
    "from sklearn.ensemble import RandomForestClassifier\n",
    "from sklearn.ensemble import StackingRegressor\n",
    "from sklearn.linear_model import LogisticRegression\n",
    "from sklearn.ensemble import HistGradientBoostingClassifier\n",
    "from sklearn.ensemble import StackingClassifier\n",
    "from sklearn.pipeline import make_pipeline\n",
    "\n",
    "lasso_pipeline = make_pipeline(LogisticRegression(random_state=0,solver='lbfgs', max_iter=1000))\n",
    "\n",
    "rf_pipeline = make_pipeline(RandomForestClassifier(random_state=42,max_depth=18))\n",
    "\n",
    "gradient_pipeline = make_pipeline(HistGradientBoostingClassifier(random_state=0,max_depth=18))\n",
    "\n",
    "estimators = [('Random Forest', rf_pipeline),\n",
    "              ('Lasso', lasso_pipeline),\n",
    "              ('Gradient Boosting', gradient_pipeline)]\n",
    "\n",
    "clf = StackingClassifier(estimators=estimators,\n",
    "                                       final_estimator=LogisticRegression())"
   ]
  },
  {
   "cell_type": "code",
   "execution_count": null,
   "id": "catholic-cooperation",
   "metadata": {},
   "outputs": [],
   "source": [
    " clf.fit(X_train, y_train).score(X_test, y_test)"
   ]
  },
  {
   "cell_type": "code",
   "execution_count": null,
   "id": "australian-cosmetic",
   "metadata": {},
   "outputs": [],
   "source": []
  }
 ],
 "metadata": {
  "kernelspec": {
   "display_name": "Python 3",
   "language": "python",
   "name": "python3"
  },
  "language_info": {
   "codemirror_mode": {
    "name": "ipython",
    "version": 3
   },
   "file_extension": ".py",
   "mimetype": "text/x-python",
   "name": "python",
   "nbconvert_exporter": "python",
   "pygments_lexer": "ipython3",
   "version": "3.8.5"
  }
 },
 "nbformat": 4,
 "nbformat_minor": 5
}
