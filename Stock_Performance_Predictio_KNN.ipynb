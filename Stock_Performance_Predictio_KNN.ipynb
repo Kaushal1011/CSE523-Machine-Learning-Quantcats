{
  "nbformat": 4,
  "nbformat_minor": 0,
  "metadata": {
    "colab": {
      "name": "Stock_Performance_Predictio_KNN.ipynb",
      "provenance": [],
      "collapsed_sections": []
    },
    "kernelspec": {
      "name": "python3",
      "display_name": "Python 3"
    }
  },
  "cells": [
    {
      "cell_type": "code",
      "metadata": {
        "id": "xCj0uS8lfQZ8"
      },
      "source": [
        "#importing libraries \r\n",
        "import pandas as pd \r\n",
        "import numpy as np\r\n",
        "import matplotlib.pyplot as plt\r\n",
        "%matplotlib inline\r\n",
        "\r\n",
        "import warnings\r\n",
        "warnings.filterwarnings(\"ignore\")"
      ],
      "execution_count": 1,
      "outputs": []
    },
    {
      "cell_type": "markdown",
      "metadata": {
        "id": "Bh_7XvsphC5j"
      },
      "source": [
        "## Load the Data"
      ]
    },
    {
      "cell_type": "code",
      "metadata": {
        "colab": {
          "base_uri": "https://localhost:8080/",
          "height": 296
        },
        "id": "I_0oLIJ5g-5v",
        "outputId": "d273c492-0d88-4ea3-ab40-e4aad9ea5267"
      },
      "source": [
        "data = pd.read_csv('dataset_1.csv')\r\n",
        "data.head()"
      ],
      "execution_count": 3,
      "outputs": [
        {
          "output_type": "execute_result",
          "data": {
            "text/html": [
              "<div>\n",
              "<style scoped>\n",
              "    .dataframe tbody tr th:only-of-type {\n",
              "        vertical-align: middle;\n",
              "    }\n",
              "\n",
              "    .dataframe tbody tr th {\n",
              "        vertical-align: top;\n",
              "    }\n",
              "\n",
              "    .dataframe thead th {\n",
              "        text-align: right;\n",
              "    }\n",
              "</style>\n",
              "<table border=\"1\" class=\"dataframe\">\n",
              "  <thead>\n",
              "    <tr style=\"text-align: right;\">\n",
              "      <th></th>\n",
              "      <th>Unnamed: 0</th>\n",
              "      <th>Ticker</th>\n",
              "      <th>SimFinId</th>\n",
              "      <th>Currency</th>\n",
              "      <th>Fiscal Year</th>\n",
              "      <th>Fiscal Period</th>\n",
              "      <th>Report Date</th>\n",
              "      <th>Publish Date</th>\n",
              "      <th>Restated Date</th>\n",
              "      <th>Shares (Basic)</th>\n",
              "      <th>Shares (Diluted)</th>\n",
              "      <th>Cash, Cash Equivalents &amp; Short Term Investments</th>\n",
              "      <th>Accounts &amp; Notes Receivable</th>\n",
              "      <th>Inventories</th>\n",
              "      <th>Total Current Assets</th>\n",
              "      <th>Property, Plant &amp; Equipment, Net</th>\n",
              "      <th>Long Term Investments &amp; Receivables</th>\n",
              "      <th>Other Long Term Assets</th>\n",
              "      <th>Total Noncurrent Assets</th>\n",
              "      <th>Total Assets</th>\n",
              "      <th>Payables &amp; Accruals</th>\n",
              "      <th>Short Term Debt</th>\n",
              "      <th>Total Current Liabilities</th>\n",
              "      <th>Long Term Debt</th>\n",
              "      <th>Total Noncurrent Liabilities</th>\n",
              "      <th>Total Liabilities</th>\n",
              "      <th>Share Capital &amp; Additional Paid-In Capital</th>\n",
              "      <th>Treasury Stock</th>\n",
              "      <th>Retained Earnings</th>\n",
              "      <th>Total Equity</th>\n",
              "      <th>Total Liabilities &amp; Equity</th>\n",
              "      <th>Price_Present</th>\n",
              "      <th>Price_Future</th>\n",
              "      <th>Label</th>\n",
              "    </tr>\n",
              "  </thead>\n",
              "  <tbody>\n",
              "    <tr>\n",
              "      <th>0</th>\n",
              "      <td>0</td>\n",
              "      <td>A</td>\n",
              "      <td>45846</td>\n",
              "      <td>USD</td>\n",
              "      <td>2010</td>\n",
              "      <td>Q3</td>\n",
              "      <td>2010-07-31</td>\n",
              "      <td>2010-10-06</td>\n",
              "      <td>2010-10-06</td>\n",
              "      <td>347000000.0</td>\n",
              "      <td>352000000.0</td>\n",
              "      <td>2.317000e+09</td>\n",
              "      <td>790000000.0</td>\n",
              "      <td>688000000.0</td>\n",
              "      <td>5.735000e+09</td>\n",
              "      <td>9.570000e+08</td>\n",
              "      <td>136000000.0</td>\n",
              "      <td>2.272000e+09</td>\n",
              "      <td>3.365000e+09</td>\n",
              "      <td>9100000000</td>\n",
              "      <td>459000000.0</td>\n",
              "      <td>1.501000e+09</td>\n",
              "      <td>2.917000e+09</td>\n",
              "      <td>2.177000e+09</td>\n",
              "      <td>3.373000e+09</td>\n",
              "      <td>6290000000</td>\n",
              "      <td>7.861000e+09</td>\n",
              "      <td>-7.986000e+09</td>\n",
              "      <td>3.152000e+09</td>\n",
              "      <td>2.810000e+09</td>\n",
              "      <td>9100000000</td>\n",
              "      <td>32.67</td>\n",
              "      <td>41.48</td>\n",
              "      <td>0</td>\n",
              "    </tr>\n",
              "    <tr>\n",
              "      <th>1</th>\n",
              "      <td>1</td>\n",
              "      <td>A</td>\n",
              "      <td>45846</td>\n",
              "      <td>USD</td>\n",
              "      <td>2010</td>\n",
              "      <td>Q4</td>\n",
              "      <td>2010-10-31</td>\n",
              "      <td>2010-12-20</td>\n",
              "      <td>2011-12-16</td>\n",
              "      <td>344000000.0</td>\n",
              "      <td>356000000.0</td>\n",
              "      <td>2.649000e+09</td>\n",
              "      <td>869000000.0</td>\n",
              "      <td>716000000.0</td>\n",
              "      <td>6.169000e+09</td>\n",
              "      <td>9.800000e+08</td>\n",
              "      <td>142000000.0</td>\n",
              "      <td>2.405000e+09</td>\n",
              "      <td>3.527000e+09</td>\n",
              "      <td>9696000000</td>\n",
              "      <td>499000000.0</td>\n",
              "      <td>1.501000e+09</td>\n",
              "      <td>3.083000e+09</td>\n",
              "      <td>2.190000e+09</td>\n",
              "      <td>3.377000e+09</td>\n",
              "      <td>6460000000</td>\n",
              "      <td>7.910000e+09</td>\n",
              "      <td>-8.038000e+09</td>\n",
              "      <td>3.444000e+09</td>\n",
              "      <td>3.236000e+09</td>\n",
              "      <td>9696000000</td>\n",
              "      <td>40.63</td>\n",
              "      <td>43.95</td>\n",
              "      <td>0</td>\n",
              "    </tr>\n",
              "    <tr>\n",
              "      <th>2</th>\n",
              "      <td>2</td>\n",
              "      <td>A</td>\n",
              "      <td>45846</td>\n",
              "      <td>USD</td>\n",
              "      <td>2011</td>\n",
              "      <td>Q1</td>\n",
              "      <td>2011-01-31</td>\n",
              "      <td>2011-03-09</td>\n",
              "      <td>2011-03-09</td>\n",
              "      <td>347000000.0</td>\n",
              "      <td>355000000.0</td>\n",
              "      <td>2.638000e+09</td>\n",
              "      <td>854000000.0</td>\n",
              "      <td>797000000.0</td>\n",
              "      <td>4.598000e+09</td>\n",
              "      <td>9.820000e+08</td>\n",
              "      <td>134000000.0</td>\n",
              "      <td>2.330000e+09</td>\n",
              "      <td>3.446000e+09</td>\n",
              "      <td>8044000000</td>\n",
              "      <td>444000000.0</td>\n",
              "      <td>1.000000e+06</td>\n",
              "      <td>1.406000e+09</td>\n",
              "      <td>2.138000e+09</td>\n",
              "      <td>3.299000e+09</td>\n",
              "      <td>4705000000</td>\n",
              "      <td>8.066000e+09</td>\n",
              "      <td>-8.308000e+09</td>\n",
              "      <td>3.637000e+09</td>\n",
              "      <td>3.339000e+09</td>\n",
              "      <td>8044000000</td>\n",
              "      <td>46.05</td>\n",
              "      <td>48.71</td>\n",
              "      <td>0</td>\n",
              "    </tr>\n",
              "    <tr>\n",
              "      <th>3</th>\n",
              "      <td>3</td>\n",
              "      <td>A</td>\n",
              "      <td>45846</td>\n",
              "      <td>USD</td>\n",
              "      <td>2011</td>\n",
              "      <td>Q2</td>\n",
              "      <td>2011-04-30</td>\n",
              "      <td>2011-06-07</td>\n",
              "      <td>2011-06-07</td>\n",
              "      <td>347000000.0</td>\n",
              "      <td>355000000.0</td>\n",
              "      <td>2.975000e+09</td>\n",
              "      <td>918000000.0</td>\n",
              "      <td>853000000.0</td>\n",
              "      <td>5.096000e+09</td>\n",
              "      <td>1.004000e+09</td>\n",
              "      <td>123000000.0</td>\n",
              "      <td>2.426000e+09</td>\n",
              "      <td>3.553000e+09</td>\n",
              "      <td>8649000000</td>\n",
              "      <td>486000000.0</td>\n",
              "      <td>0.000000e+00</td>\n",
              "      <td>1.592000e+09</td>\n",
              "      <td>2.144000e+09</td>\n",
              "      <td>3.096000e+09</td>\n",
              "      <td>4688000000</td>\n",
              "      <td>8.146000e+09</td>\n",
              "      <td>-8.308000e+09</td>\n",
              "      <td>3.837000e+09</td>\n",
              "      <td>3.961000e+09</td>\n",
              "      <td>8649000000</td>\n",
              "      <td>47.70</td>\n",
              "      <td>35.69</td>\n",
              "      <td>1</td>\n",
              "    </tr>\n",
              "    <tr>\n",
              "      <th>4</th>\n",
              "      <td>4</td>\n",
              "      <td>A</td>\n",
              "      <td>45846</td>\n",
              "      <td>USD</td>\n",
              "      <td>2011</td>\n",
              "      <td>Q3</td>\n",
              "      <td>2011-07-31</td>\n",
              "      <td>2011-09-07</td>\n",
              "      <td>2011-09-07</td>\n",
              "      <td>348000000.0</td>\n",
              "      <td>357000000.0</td>\n",
              "      <td>3.101000e+09</td>\n",
              "      <td>917000000.0</td>\n",
              "      <td>897000000.0</td>\n",
              "      <td>5.223000e+09</td>\n",
              "      <td>1.000000e+09</td>\n",
              "      <td>122000000.0</td>\n",
              "      <td>2.408000e+09</td>\n",
              "      <td>3.530000e+09</td>\n",
              "      <td>8753000000</td>\n",
              "      <td>470000000.0</td>\n",
              "      <td>0.000000e+00</td>\n",
              "      <td>1.505000e+09</td>\n",
              "      <td>2.168000e+09</td>\n",
              "      <td>3.048000e+09</td>\n",
              "      <td>4553000000</td>\n",
              "      <td>8.254000e+09</td>\n",
              "      <td>-8.500000e+09</td>\n",
              "      <td>4.167000e+09</td>\n",
              "      <td>4.200000e+09</td>\n",
              "      <td>8753000000</td>\n",
              "      <td>35.69</td>\n",
              "      <td>36.66</td>\n",
              "      <td>2</td>\n",
              "    </tr>\n",
              "  </tbody>\n",
              "</table>\n",
              "</div>"
            ],
            "text/plain": [
              "   Unnamed: 0 Ticker  SimFinId  ... Price_Present  Price_Future Label\n",
              "0           0      A     45846  ...         32.67         41.48     0\n",
              "1           1      A     45846  ...         40.63         43.95     0\n",
              "2           2      A     45846  ...         46.05         48.71     0\n",
              "3           3      A     45846  ...         47.70         35.69     1\n",
              "4           4      A     45846  ...         35.69         36.66     2\n",
              "\n",
              "[5 rows x 34 columns]"
            ]
          },
          "metadata": {
            "tags": []
          },
          "execution_count": 3
        }
      ]
    },
    {
      "cell_type": "code",
      "metadata": {
        "colab": {
          "base_uri": "https://localhost:8080/"
        },
        "id": "I7QsacihhQh4",
        "outputId": "a2e1d3a7-e7e3-4816-8e53-734f927eef01"
      },
      "source": [
        "data.shape"
      ],
      "execution_count": 4,
      "outputs": [
        {
          "output_type": "execute_result",
          "data": {
            "text/plain": [
              "(58828, 34)"
            ]
          },
          "metadata": {
            "tags": []
          },
          "execution_count": 4
        }
      ]
    },
    {
      "cell_type": "markdown",
      "metadata": {
        "id": "n4ouJTAfhaCr"
      },
      "source": [
        "##Segregating variables: Independent and Dependent Variables"
      ]
    },
    {
      "cell_type": "code",
      "metadata": {
        "colab": {
          "base_uri": "https://localhost:8080/"
        },
        "id": "FhNwIwdlhUgS",
        "outputId": "4581de70-0822-4583-c7a9-7f647e432dc0"
      },
      "source": [
        "#seperating independent and dependent variables\r\n",
        "x = data.drop(['Unnamed: 0', 'Ticker', 'SimFinId', 'Currency', 'Fiscal Year', 'Fiscal Period', 'Report Date', 'Publish Date', 'Restated Date', 'Price_Future'], axis=1)\r\n",
        "y = data['Price_Future']\r\n",
        "x.shape, y.shape"
      ],
      "execution_count": 5,
      "outputs": [
        {
          "output_type": "execute_result",
          "data": {
            "text/plain": [
              "((58828, 24), (58828,))"
            ]
          },
          "metadata": {
            "tags": []
          },
          "execution_count": 5
        }
      ]
    },
    {
      "cell_type": "code",
      "metadata": {
        "colab": {
          "base_uri": "https://localhost:8080/",
          "height": 296
        },
        "id": "6vX-TsnYiZMh",
        "outputId": "220fd246-c18b-4c35-b8c8-0e193ecc1458"
      },
      "source": [
        "x.head()"
      ],
      "execution_count": 6,
      "outputs": [
        {
          "output_type": "execute_result",
          "data": {
            "text/html": [
              "<div>\n",
              "<style scoped>\n",
              "    .dataframe tbody tr th:only-of-type {\n",
              "        vertical-align: middle;\n",
              "    }\n",
              "\n",
              "    .dataframe tbody tr th {\n",
              "        vertical-align: top;\n",
              "    }\n",
              "\n",
              "    .dataframe thead th {\n",
              "        text-align: right;\n",
              "    }\n",
              "</style>\n",
              "<table border=\"1\" class=\"dataframe\">\n",
              "  <thead>\n",
              "    <tr style=\"text-align: right;\">\n",
              "      <th></th>\n",
              "      <th>Shares (Basic)</th>\n",
              "      <th>Shares (Diluted)</th>\n",
              "      <th>Cash, Cash Equivalents &amp; Short Term Investments</th>\n",
              "      <th>Accounts &amp; Notes Receivable</th>\n",
              "      <th>Inventories</th>\n",
              "      <th>Total Current Assets</th>\n",
              "      <th>Property, Plant &amp; Equipment, Net</th>\n",
              "      <th>Long Term Investments &amp; Receivables</th>\n",
              "      <th>Other Long Term Assets</th>\n",
              "      <th>Total Noncurrent Assets</th>\n",
              "      <th>Total Assets</th>\n",
              "      <th>Payables &amp; Accruals</th>\n",
              "      <th>Short Term Debt</th>\n",
              "      <th>Total Current Liabilities</th>\n",
              "      <th>Long Term Debt</th>\n",
              "      <th>Total Noncurrent Liabilities</th>\n",
              "      <th>Total Liabilities</th>\n",
              "      <th>Share Capital &amp; Additional Paid-In Capital</th>\n",
              "      <th>Treasury Stock</th>\n",
              "      <th>Retained Earnings</th>\n",
              "      <th>Total Equity</th>\n",
              "      <th>Total Liabilities &amp; Equity</th>\n",
              "      <th>Price_Present</th>\n",
              "      <th>Label</th>\n",
              "    </tr>\n",
              "  </thead>\n",
              "  <tbody>\n",
              "    <tr>\n",
              "      <th>0</th>\n",
              "      <td>347000000.0</td>\n",
              "      <td>352000000.0</td>\n",
              "      <td>2.317000e+09</td>\n",
              "      <td>790000000.0</td>\n",
              "      <td>688000000.0</td>\n",
              "      <td>5.735000e+09</td>\n",
              "      <td>9.570000e+08</td>\n",
              "      <td>136000000.0</td>\n",
              "      <td>2.272000e+09</td>\n",
              "      <td>3.365000e+09</td>\n",
              "      <td>9100000000</td>\n",
              "      <td>459000000.0</td>\n",
              "      <td>1.501000e+09</td>\n",
              "      <td>2.917000e+09</td>\n",
              "      <td>2.177000e+09</td>\n",
              "      <td>3.373000e+09</td>\n",
              "      <td>6290000000</td>\n",
              "      <td>7.861000e+09</td>\n",
              "      <td>-7.986000e+09</td>\n",
              "      <td>3.152000e+09</td>\n",
              "      <td>2.810000e+09</td>\n",
              "      <td>9100000000</td>\n",
              "      <td>32.67</td>\n",
              "      <td>0</td>\n",
              "    </tr>\n",
              "    <tr>\n",
              "      <th>1</th>\n",
              "      <td>344000000.0</td>\n",
              "      <td>356000000.0</td>\n",
              "      <td>2.649000e+09</td>\n",
              "      <td>869000000.0</td>\n",
              "      <td>716000000.0</td>\n",
              "      <td>6.169000e+09</td>\n",
              "      <td>9.800000e+08</td>\n",
              "      <td>142000000.0</td>\n",
              "      <td>2.405000e+09</td>\n",
              "      <td>3.527000e+09</td>\n",
              "      <td>9696000000</td>\n",
              "      <td>499000000.0</td>\n",
              "      <td>1.501000e+09</td>\n",
              "      <td>3.083000e+09</td>\n",
              "      <td>2.190000e+09</td>\n",
              "      <td>3.377000e+09</td>\n",
              "      <td>6460000000</td>\n",
              "      <td>7.910000e+09</td>\n",
              "      <td>-8.038000e+09</td>\n",
              "      <td>3.444000e+09</td>\n",
              "      <td>3.236000e+09</td>\n",
              "      <td>9696000000</td>\n",
              "      <td>40.63</td>\n",
              "      <td>0</td>\n",
              "    </tr>\n",
              "    <tr>\n",
              "      <th>2</th>\n",
              "      <td>347000000.0</td>\n",
              "      <td>355000000.0</td>\n",
              "      <td>2.638000e+09</td>\n",
              "      <td>854000000.0</td>\n",
              "      <td>797000000.0</td>\n",
              "      <td>4.598000e+09</td>\n",
              "      <td>9.820000e+08</td>\n",
              "      <td>134000000.0</td>\n",
              "      <td>2.330000e+09</td>\n",
              "      <td>3.446000e+09</td>\n",
              "      <td>8044000000</td>\n",
              "      <td>444000000.0</td>\n",
              "      <td>1.000000e+06</td>\n",
              "      <td>1.406000e+09</td>\n",
              "      <td>2.138000e+09</td>\n",
              "      <td>3.299000e+09</td>\n",
              "      <td>4705000000</td>\n",
              "      <td>8.066000e+09</td>\n",
              "      <td>-8.308000e+09</td>\n",
              "      <td>3.637000e+09</td>\n",
              "      <td>3.339000e+09</td>\n",
              "      <td>8044000000</td>\n",
              "      <td>46.05</td>\n",
              "      <td>0</td>\n",
              "    </tr>\n",
              "    <tr>\n",
              "      <th>3</th>\n",
              "      <td>347000000.0</td>\n",
              "      <td>355000000.0</td>\n",
              "      <td>2.975000e+09</td>\n",
              "      <td>918000000.0</td>\n",
              "      <td>853000000.0</td>\n",
              "      <td>5.096000e+09</td>\n",
              "      <td>1.004000e+09</td>\n",
              "      <td>123000000.0</td>\n",
              "      <td>2.426000e+09</td>\n",
              "      <td>3.553000e+09</td>\n",
              "      <td>8649000000</td>\n",
              "      <td>486000000.0</td>\n",
              "      <td>0.000000e+00</td>\n",
              "      <td>1.592000e+09</td>\n",
              "      <td>2.144000e+09</td>\n",
              "      <td>3.096000e+09</td>\n",
              "      <td>4688000000</td>\n",
              "      <td>8.146000e+09</td>\n",
              "      <td>-8.308000e+09</td>\n",
              "      <td>3.837000e+09</td>\n",
              "      <td>3.961000e+09</td>\n",
              "      <td>8649000000</td>\n",
              "      <td>47.70</td>\n",
              "      <td>1</td>\n",
              "    </tr>\n",
              "    <tr>\n",
              "      <th>4</th>\n",
              "      <td>348000000.0</td>\n",
              "      <td>357000000.0</td>\n",
              "      <td>3.101000e+09</td>\n",
              "      <td>917000000.0</td>\n",
              "      <td>897000000.0</td>\n",
              "      <td>5.223000e+09</td>\n",
              "      <td>1.000000e+09</td>\n",
              "      <td>122000000.0</td>\n",
              "      <td>2.408000e+09</td>\n",
              "      <td>3.530000e+09</td>\n",
              "      <td>8753000000</td>\n",
              "      <td>470000000.0</td>\n",
              "      <td>0.000000e+00</td>\n",
              "      <td>1.505000e+09</td>\n",
              "      <td>2.168000e+09</td>\n",
              "      <td>3.048000e+09</td>\n",
              "      <td>4553000000</td>\n",
              "      <td>8.254000e+09</td>\n",
              "      <td>-8.500000e+09</td>\n",
              "      <td>4.167000e+09</td>\n",
              "      <td>4.200000e+09</td>\n",
              "      <td>8753000000</td>\n",
              "      <td>35.69</td>\n",
              "      <td>2</td>\n",
              "    </tr>\n",
              "  </tbody>\n",
              "</table>\n",
              "</div>"
            ],
            "text/plain": [
              "   Shares (Basic)  Shares (Diluted)  ...  Price_Present  Label\n",
              "0     347000000.0       352000000.0  ...          32.67      0\n",
              "1     344000000.0       356000000.0  ...          40.63      0\n",
              "2     347000000.0       355000000.0  ...          46.05      0\n",
              "3     347000000.0       355000000.0  ...          47.70      1\n",
              "4     348000000.0       357000000.0  ...          35.69      2\n",
              "\n",
              "[5 rows x 24 columns]"
            ]
          },
          "metadata": {
            "tags": []
          },
          "execution_count": 6
        }
      ]
    },
    {
      "cell_type": "code",
      "metadata": {
        "colab": {
          "base_uri": "https://localhost:8080/"
        },
        "id": "OGoOftlcie1Z",
        "outputId": "5cdc502e-39c8-4466-cf0a-244c041e1d48"
      },
      "source": [
        "y.head()"
      ],
      "execution_count": 7,
      "outputs": [
        {
          "output_type": "execute_result",
          "data": {
            "text/plain": [
              "0    41.48\n",
              "1    43.95\n",
              "2    48.71\n",
              "3    35.69\n",
              "4    36.66\n",
              "Name: Price_Future, dtype: float64"
            ]
          },
          "metadata": {
            "tags": []
          },
          "execution_count": 7
        }
      ]
    },
    {
      "cell_type": "markdown",
      "metadata": {
        "id": "-rbXgIdcinU8"
      },
      "source": [
        "##Scaling the data (Using MinMax Scaler)"
      ]
    },
    {
      "cell_type": "code",
      "metadata": {
        "id": "KCwgy--NiiCY"
      },
      "source": [
        "## Importing the MinMax Scaler\r\n",
        "from sklearn.preprocessing import MinMaxScaler\r\n",
        "scaler = MinMaxScaler()\r\n",
        "x_scaled = scaler.fit_transform(x)"
      ],
      "execution_count": 8,
      "outputs": []
    },
    {
      "cell_type": "code",
      "metadata": {
        "id": "VwPTBSdCiw8X"
      },
      "source": [
        "x = pd.DataFrame(x_scaled, columns = x.columns)"
      ],
      "execution_count": 9,
      "outputs": []
    },
    {
      "cell_type": "code",
      "metadata": {
        "colab": {
          "base_uri": "https://localhost:8080/",
          "height": 296
        },
        "id": "-BIA0bGjixTh",
        "outputId": "1ca2279f-6cda-4787-8a51-e92e8b6d1644"
      },
      "source": [
        "x.head()"
      ],
      "execution_count": 10,
      "outputs": [
        {
          "output_type": "execute_result",
          "data": {
            "text/html": [
              "<div>\n",
              "<style scoped>\n",
              "    .dataframe tbody tr th:only-of-type {\n",
              "        vertical-align: middle;\n",
              "    }\n",
              "\n",
              "    .dataframe tbody tr th {\n",
              "        vertical-align: top;\n",
              "    }\n",
              "\n",
              "    .dataframe thead th {\n",
              "        text-align: right;\n",
              "    }\n",
              "</style>\n",
              "<table border=\"1\" class=\"dataframe\">\n",
              "  <thead>\n",
              "    <tr style=\"text-align: right;\">\n",
              "      <th></th>\n",
              "      <th>Shares (Basic)</th>\n",
              "      <th>Shares (Diluted)</th>\n",
              "      <th>Cash, Cash Equivalents &amp; Short Term Investments</th>\n",
              "      <th>Accounts &amp; Notes Receivable</th>\n",
              "      <th>Inventories</th>\n",
              "      <th>Total Current Assets</th>\n",
              "      <th>Property, Plant &amp; Equipment, Net</th>\n",
              "      <th>Long Term Investments &amp; Receivables</th>\n",
              "      <th>Other Long Term Assets</th>\n",
              "      <th>Total Noncurrent Assets</th>\n",
              "      <th>Total Assets</th>\n",
              "      <th>Payables &amp; Accruals</th>\n",
              "      <th>Short Term Debt</th>\n",
              "      <th>Total Current Liabilities</th>\n",
              "      <th>Long Term Debt</th>\n",
              "      <th>Total Noncurrent Liabilities</th>\n",
              "      <th>Total Liabilities</th>\n",
              "      <th>Share Capital &amp; Additional Paid-In Capital</th>\n",
              "      <th>Treasury Stock</th>\n",
              "      <th>Retained Earnings</th>\n",
              "      <th>Total Equity</th>\n",
              "      <th>Total Liabilities &amp; Equity</th>\n",
              "      <th>Price_Present</th>\n",
              "      <th>Label</th>\n",
              "    </tr>\n",
              "  </thead>\n",
              "  <tbody>\n",
              "    <tr>\n",
              "      <th>0</th>\n",
              "      <td>0.013189</td>\n",
              "      <td>0.013262</td>\n",
              "      <td>0.016228</td>\n",
              "      <td>0.002050</td>\n",
              "      <td>0.009389</td>\n",
              "      <td>0.011391</td>\n",
              "      <td>0.018365</td>\n",
              "      <td>0.000530</td>\n",
              "      <td>0.006310</td>\n",
              "      <td>0.012129</td>\n",
              "      <td>0.011541</td>\n",
              "      <td>0.003059</td>\n",
              "      <td>0.008595</td>\n",
              "      <td>0.009165</td>\n",
              "      <td>0.006773</td>\n",
              "      <td>0.015508</td>\n",
              "      <td>0.012695</td>\n",
              "      <td>0.055579</td>\n",
              "      <td>0.965186</td>\n",
              "      <td>0.190487</td>\n",
              "      <td>0.066599</td>\n",
              "      <td>0.011541</td>\n",
              "      <td>3.266000e-07</td>\n",
              "      <td>0.0</td>\n",
              "    </tr>\n",
              "    <tr>\n",
              "      <th>1</th>\n",
              "      <td>0.013075</td>\n",
              "      <td>0.013413</td>\n",
              "      <td>0.018553</td>\n",
              "      <td>0.002255</td>\n",
              "      <td>0.009771</td>\n",
              "      <td>0.012253</td>\n",
              "      <td>0.018454</td>\n",
              "      <td>0.000553</td>\n",
              "      <td>0.006675</td>\n",
              "      <td>0.012404</td>\n",
              "      <td>0.012297</td>\n",
              "      <td>0.003326</td>\n",
              "      <td>0.008595</td>\n",
              "      <td>0.009686</td>\n",
              "      <td>0.006809</td>\n",
              "      <td>0.015518</td>\n",
              "      <td>0.012950</td>\n",
              "      <td>0.055888</td>\n",
              "      <td>0.964960</td>\n",
              "      <td>0.191052</td>\n",
              "      <td>0.067596</td>\n",
              "      <td>0.012297</td>\n",
              "      <td>4.062000e-07</td>\n",
              "      <td>0.0</td>\n",
              "    </tr>\n",
              "    <tr>\n",
              "      <th>2</th>\n",
              "      <td>0.013189</td>\n",
              "      <td>0.013376</td>\n",
              "      <td>0.018476</td>\n",
              "      <td>0.002216</td>\n",
              "      <td>0.010876</td>\n",
              "      <td>0.009133</td>\n",
              "      <td>0.018462</td>\n",
              "      <td>0.000522</td>\n",
              "      <td>0.006469</td>\n",
              "      <td>0.012266</td>\n",
              "      <td>0.010202</td>\n",
              "      <td>0.002959</td>\n",
              "      <td>0.000006</td>\n",
              "      <td>0.004417</td>\n",
              "      <td>0.006664</td>\n",
              "      <td>0.015309</td>\n",
              "      <td>0.010308</td>\n",
              "      <td>0.056873</td>\n",
              "      <td>0.963789</td>\n",
              "      <td>0.191426</td>\n",
              "      <td>0.067837</td>\n",
              "      <td>0.010202</td>\n",
              "      <td>4.604000e-07</td>\n",
              "      <td>0.0</td>\n",
              "    </tr>\n",
              "    <tr>\n",
              "      <th>3</th>\n",
              "      <td>0.013189</td>\n",
              "      <td>0.013376</td>\n",
              "      <td>0.020836</td>\n",
              "      <td>0.002382</td>\n",
              "      <td>0.011640</td>\n",
              "      <td>0.010122</td>\n",
              "      <td>0.018547</td>\n",
              "      <td>0.000479</td>\n",
              "      <td>0.006733</td>\n",
              "      <td>0.012448</td>\n",
              "      <td>0.010969</td>\n",
              "      <td>0.003239</td>\n",
              "      <td>0.000000</td>\n",
              "      <td>0.005002</td>\n",
              "      <td>0.006681</td>\n",
              "      <td>0.014763</td>\n",
              "      <td>0.010283</td>\n",
              "      <td>0.057378</td>\n",
              "      <td>0.963789</td>\n",
              "      <td>0.191812</td>\n",
              "      <td>0.069293</td>\n",
              "      <td>0.010969</td>\n",
              "      <td>4.769000e-07</td>\n",
              "      <td>0.5</td>\n",
              "    </tr>\n",
              "    <tr>\n",
              "      <th>4</th>\n",
              "      <td>0.013227</td>\n",
              "      <td>0.013451</td>\n",
              "      <td>0.021719</td>\n",
              "      <td>0.002380</td>\n",
              "      <td>0.012241</td>\n",
              "      <td>0.010374</td>\n",
              "      <td>0.018531</td>\n",
              "      <td>0.000475</td>\n",
              "      <td>0.006684</td>\n",
              "      <td>0.012409</td>\n",
              "      <td>0.011101</td>\n",
              "      <td>0.003132</td>\n",
              "      <td>0.000000</td>\n",
              "      <td>0.004728</td>\n",
              "      <td>0.006748</td>\n",
              "      <td>0.014634</td>\n",
              "      <td>0.010079</td>\n",
              "      <td>0.058060</td>\n",
              "      <td>0.962956</td>\n",
              "      <td>0.192451</td>\n",
              "      <td>0.069853</td>\n",
              "      <td>0.011101</td>\n",
              "      <td>3.568000e-07</td>\n",
              "      <td>1.0</td>\n",
              "    </tr>\n",
              "  </tbody>\n",
              "</table>\n",
              "</div>"
            ],
            "text/plain": [
              "   Shares (Basic)  Shares (Diluted)  ...  Price_Present  Label\n",
              "0        0.013189          0.013262  ...   3.266000e-07    0.0\n",
              "1        0.013075          0.013413  ...   4.062000e-07    0.0\n",
              "2        0.013189          0.013376  ...   4.604000e-07    0.0\n",
              "3        0.013189          0.013376  ...   4.769000e-07    0.5\n",
              "4        0.013227          0.013451  ...   3.568000e-07    1.0\n",
              "\n",
              "[5 rows x 24 columns]"
            ]
          },
          "metadata": {
            "tags": []
          },
          "execution_count": 10
        }
      ]
    },
    {
      "cell_type": "markdown",
      "metadata": {
        "id": "TbdNNM-Ai7ma"
      },
      "source": [
        "## Importing the train test split function"
      ]
    },
    {
      "cell_type": "code",
      "metadata": {
        "id": "GfVzDI_ZizpV"
      },
      "source": [
        "from sklearn.model_selection import train_test_split\r\n",
        "train_x,test_x,train_y,test_y = train_test_split(x,y, test_size=1/3, random_state = 56)"
      ],
      "execution_count": 12,
      "outputs": []
    },
    {
      "cell_type": "markdown",
      "metadata": {
        "id": "gulNV1hNrpFI"
      },
      "source": [
        "## KNN Regression"
      ]
    },
    {
      "cell_type": "code",
      "metadata": {
        "id": "d73trbi0jC25"
      },
      "source": [
        "#importing KNN classifier and metric F1score\r\n",
        "from sklearn.neighbors import KNeighborsRegressor as KNN\r\n",
        "from sklearn.metrics import mean_squared_error as mse"
      ],
      "execution_count": 15,
      "outputs": []
    },
    {
      "cell_type": "code",
      "metadata": {
        "colab": {
          "base_uri": "https://localhost:8080/"
        },
        "id": "X6kLqsvCsGIq",
        "outputId": "e6fd1ff1-4efd-46d4-b81b-88f56b576926"
      },
      "source": [
        "# Creating instance of KNN\r\n",
        "reg = KNN(n_neighbors = 11)\r\n",
        "\r\n",
        "# Fitting the model\r\n",
        "reg.fit(train_x, train_y)\r\n",
        "\r\n",
        "# Predicting over the Train Set and calculating MSE\r\n",
        "test_predict = reg.predict(test_x)\r\n",
        "k = mse(test_predict, test_y)\r\n",
        "print('Test MSE    ', k )"
      ],
      "execution_count": 22,
      "outputs": [
        {
          "output_type": "stream",
          "text": [
            "Test MSE     12957498854.792038\n"
          ],
          "name": "stdout"
        }
      ]
    },
    {
      "cell_type": "markdown",
      "metadata": {
        "id": "JcYlPra0tMFF"
      },
      "source": [
        "## Elbow for Classifier"
      ]
    },
    {
      "cell_type": "code",
      "metadata": {
        "id": "N7pP9rzSs_wl"
      },
      "source": [
        "def Elbow(K):\r\n",
        "  #initiating empty list\r\n",
        "    test_mse = []\r\n",
        "  \r\n",
        "  #training model for evey value of K\r\n",
        "    for i in K:\r\n",
        "        #Instance of KNN\r\n",
        "        reg = KNN(n_neighbors = i)\r\n",
        "        reg.fit(train_x, train_y)\r\n",
        "        #Appending mse value to empty list claculated using the predictions\r\n",
        "        tmp = reg.predict(test_x)\r\n",
        "        tmp = mse(tmp,test_y)\r\n",
        "        test_mse.append(tmp)\r\n",
        "    \r\n",
        "    return test_mse"
      ],
      "execution_count": 17,
      "outputs": []
    },
    {
      "cell_type": "code",
      "metadata": {
        "id": "l_oMEMtmtSkg"
      },
      "source": [
        "# Defining range of K\r\n",
        "k = range(1,50)"
      ],
      "execution_count": 18,
      "outputs": []
    },
    {
      "cell_type": "code",
      "metadata": {
        "id": "UpNPo02mtaoX"
      },
      "source": [
        "test = Elbow(k)"
      ],
      "execution_count": 19,
      "outputs": []
    },
    {
      "cell_type": "code",
      "metadata": {
        "colab": {
          "base_uri": "https://localhost:8080/",
          "height": 313
        },
        "id": "PakTKcqwteEE",
        "outputId": "0b96d3e0-208b-4bfd-af10-80c75022f459"
      },
      "source": [
        "# plotting the Curves\r\n",
        "plt.plot(k, test)\r\n",
        "plt.xlabel('K Neighbors')\r\n",
        "plt.ylabel('Test Mean Squared Error')\r\n",
        "plt.title('Elbow Curve for test')"
      ],
      "execution_count": 20,
      "outputs": [
        {
          "output_type": "execute_result",
          "data": {
            "text/plain": [
              "Text(0.5, 1.0, 'Elbow Curve for test')"
            ]
          },
          "metadata": {
            "tags": []
          },
          "execution_count": 20
        },
        {
          "output_type": "display_data",
          "data": {
            "image/png": "[encoded data removed]",
            "text/plain": [
              "<Figure size 432x288 with 1 Axes>"
            ]
          },
          "metadata": {
            "tags": [],
            "needs_background": "light"
          }
        }
      ]
    },
    {
      "cell_type": "code",
      "metadata": {
        "colab": {
          "base_uri": "https://localhost:8080/"
        },
        "id": "y_Y3qam_uyAV",
        "outputId": "be640811-4180-43c0-a04a-c8da56facfc8"
      },
      "source": [
        "# Creating instance of KNN\r\n",
        "reg = KNN(n_neighbors = 3)\r\n",
        "\r\n",
        "# Fitting the model\r\n",
        "reg.fit(train_x, train_y)\r\n",
        "\r\n",
        "# Predicting over the Train Set and calculating F1\r\n",
        "test_predict = reg.predict(test_x)\r\n",
        "k = mse(test_predict, test_y)\r\n",
        "print('Test MSE    ', k )"
      ],
      "execution_count": 21,
      "outputs": [
        {
          "output_type": "stream",
          "text": [
            "Test MSE     267279773.0723721\n"
          ],
          "name": "stdout"
        }
      ]
    },
    {
      "cell_type": "code",
      "metadata": {
        "colab": {
          "base_uri": "https://localhost:8080/"
        },
        "id": "9MPZWiPNvItW",
        "outputId": "422360bc-4156-40fe-d462-7fa50595f4ad"
      },
      "source": [
        "# Creating instance of KNN\r\n",
        "reg = KNN(n_neighbors = 2)\r\n",
        "\r\n",
        "# Fitting the model\r\n",
        "reg.fit(train_x, train_y)\r\n",
        "\r\n",
        "# Predicting over the Train Set and calculating F1\r\n",
        "test_predict = reg.predict(test_x)\r\n",
        "k = mse(test_predict, test_y)\r\n",
        "print('Test MSE    ', k )"
      ],
      "execution_count": 23,
      "outputs": [
        {
          "output_type": "stream",
          "text": [
            "Test MSE     2274296617.1312137\n"
          ],
          "name": "stdout"
        }
      ]
    }
  ]
}