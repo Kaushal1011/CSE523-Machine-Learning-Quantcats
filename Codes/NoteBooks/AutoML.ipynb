{
 "cells": [
  {
   "cell_type": "code",
   "execution_count": 3,
   "id": "plastic-international",
   "metadata": {},
   "outputs": [],
   "source": [
    "import numpy as np\n",
    "import pandas as pd\n",
    "import sklearn.datasets\n",
    "import sklearn.metrics\n",
    "from sklearn.utils.multiclass import type_of_target\n",
    "\n",
    "import autosklearn.classification"
   ]
  },
  {
   "cell_type": "code",
   "execution_count": 4,
   "id": "identical-martial",
   "metadata": {},
   "outputs": [],
   "source": [
    "# import datasets\n",
    "X_raw = pd.read_csv(\"../../Datasets/dataset_normalised.csv\")\n",
    "y_raw = pd.read_csv(\"../Datasets/labnf.csv\")\n",
    "\n",
    "# numberical column that are needed for training\n",
    "numeric_columns=['Shares (Basic)',\n",
    "       'Shares (Diluted)', 'Cash, Cash Equivalents & Short Term Investments',\n",
    "       'Accounts & Notes Receivable', 'Inventories', 'Total Current Assets',\n",
    "       'Property, Plant & Equipment, Net',\n",
    "       'Long Term Investments & Receivables', 'Other Long Term Assets',\n",
    "       'Total Noncurrent Assets', 'Total Assets', 'Payables & Accruals',\n",
    "       'Short Term Debt', 'Total Current Liabilities', 'Long Term Debt',\n",
    "       'Total Noncurrent Liabilities', 'Total Liabilities',\n",
    "       'Share Capital & Additional Paid-In Capital', 'Treasury Stock',\n",
    "       'Retained Earnings', 'Total Equity', 'Total Liabilities & Equity',\n",
    "       'Price_Present']\n",
    "X = X_raw[numeric_columns]\n",
    "y = y_raw[\"Label\"]"
   ]
  },
  {
   "cell_type": "code",
   "execution_count": 5,
   "id": "strong-candle",
   "metadata": {},
   "outputs": [
    {
     "data": {
      "text/plain": [
       "'multiclass'"
      ]
     },
     "execution_count": 5,
     "metadata": {},
     "output_type": "execute_result"
    }
   ],
   "source": [
    "type_of_target(y)"
   ]
  },
  {
   "cell_type": "code",
   "execution_count": 6,
   "id": "olympic-airfare",
   "metadata": {},
   "outputs": [],
   "source": [
    "# test-train split\n",
    "X_train, X_test, y_train, y_test = sklearn.model_selection.train_test_split(\n",
    "    X, y, random_state=1\n",
    ")"
   ]
  },
  {
   "cell_type": "markdown",
   "id": "crude-porcelain",
   "metadata": {},
   "source": [
    "## AutoML Attempt 1"
   ]
  },
  {
   "cell_type": "code",
   "execution_count": 28,
   "id": "missing-orleans",
   "metadata": {},
   "outputs": [
    {
     "name": "stdout",
     "output_type": "stream",
     "text": [
      "[WARNING] [2021-04-10 14:52:14,579:Client-AutoMLSMBO(1)::3c2aa69a-99de-11eb-99ba-955994831015] Configuration 114 not found\n",
      "[WARNING] [2021-04-10 14:52:14,580:Client-AutoMLSMBO(1)::3c2aa69a-99de-11eb-99ba-955994831015] Configuration 338 not found\n",
      "[WARNING] [2021-04-10 14:52:14,580:Client-AutoMLSMBO(1)::3c2aa69a-99de-11eb-99ba-955994831015] Configuration 43 not found\n",
      "[WARNING] [2021-04-10 14:52:14,582:Client-AutoMLSMBO(1)::3c2aa69a-99de-11eb-99ba-955994831015] Configuration 283 not found\n",
      "[WARNING] [2021-04-10 14:52:14,582:Client-AutoMLSMBO(1)::3c2aa69a-99de-11eb-99ba-955994831015] Configuration 576 not found\n",
      "[WARNING] [2021-04-10 14:52:14,582:Client-AutoMLSMBO(1)::3c2aa69a-99de-11eb-99ba-955994831015] Configuration 71 not found\n",
      "[WARNING] [2021-04-10 14:52:14,583:Client-AutoMLSMBO(1)::3c2aa69a-99de-11eb-99ba-955994831015] Configuration 162 not found\n",
      "[WARNING] [2021-04-10 14:52:14,583:Client-AutoMLSMBO(1)::3c2aa69a-99de-11eb-99ba-955994831015] Configuration 67 not found\n",
      "[WARNING] [2021-04-10 14:52:14,583:Client-AutoMLSMBO(1)::3c2aa69a-99de-11eb-99ba-955994831015] Configuration 601 not found\n",
      "[WARNING] [2021-04-10 14:52:14,584:Client-AutoMLSMBO(1)::3c2aa69a-99de-11eb-99ba-955994831015] Configuration 188 not found\n",
      "[WARNING] [2021-04-10 14:52:14,584:Client-AutoMLSMBO(1)::3c2aa69a-99de-11eb-99ba-955994831015] Configuration 473 not found\n",
      "[WARNING] [2021-04-10 14:52:14,584:Client-AutoMLSMBO(1)::3c2aa69a-99de-11eb-99ba-955994831015] Configuration 22 not found\n",
      "[WARNING] [2021-04-10 14:52:14,585:Client-AutoMLSMBO(1)::3c2aa69a-99de-11eb-99ba-955994831015] Configuration 83 not found\n",
      "[WARNING] [2021-04-10 14:52:14,585:Client-AutoMLSMBO(1)::3c2aa69a-99de-11eb-99ba-955994831015] Configuration 176 not found\n",
      "[WARNING] [2021-04-10 14:52:14,586:Client-AutoMLSMBO(1)::3c2aa69a-99de-11eb-99ba-955994831015] Configuration 91 not found\n",
      "[WARNING] [2021-04-10 14:52:14,586:Client-AutoMLSMBO(1)::3c2aa69a-99de-11eb-99ba-955994831015] Configuration 437 not found\n",
      "[WARNING] [2021-04-10 14:52:14,587:Client-AutoMLSMBO(1)::3c2aa69a-99de-11eb-99ba-955994831015] Configuration 310 not found\n",
      "[WARNING] [2021-04-10 14:52:14,587:Client-AutoMLSMBO(1)::3c2aa69a-99de-11eb-99ba-955994831015] Configuration 222 not found\n",
      "[WARNING] [2021-04-10 14:52:14,587:Client-AutoMLSMBO(1)::3c2aa69a-99de-11eb-99ba-955994831015] Configuration 407 not found\n",
      "[WARNING] [2021-04-10 14:52:14,588:Client-AutoMLSMBO(1)::3c2aa69a-99de-11eb-99ba-955994831015] Configuration 422 not found\n",
      "[WARNING] [2021-04-10 14:52:14,588:Client-AutoMLSMBO(1)::3c2aa69a-99de-11eb-99ba-955994831015] Configuration 184 not found\n",
      "[WARNING] [2021-04-10 14:52:14,589:Client-AutoMLSMBO(1)::3c2aa69a-99de-11eb-99ba-955994831015] Configuration 613 not found\n",
      "[WARNING] [2021-04-10 14:52:14,589:Client-AutoMLSMBO(1)::3c2aa69a-99de-11eb-99ba-955994831015] Configuration 149 not found\n",
      "[WARNING] [2021-04-10 14:52:14,590:Client-AutoMLSMBO(1)::3c2aa69a-99de-11eb-99ba-955994831015] Configuration 555 not found\n",
      "[WARNING] [2021-04-10 14:52:14,591:Client-AutoMLSMBO(1)::3c2aa69a-99de-11eb-99ba-955994831015] Configuration 247 not found\n",
      "[WARNING] [2021-04-10 14:52:14,592:Client-AutoMLSMBO(1)::3c2aa69a-99de-11eb-99ba-955994831015] Configuration 19 not found\n",
      "[WARNING] [2021-04-10 14:52:14,593:Client-AutoMLSMBO(1)::3c2aa69a-99de-11eb-99ba-955994831015] Configuration 147 not found\n",
      "[WARNING] [2021-04-10 14:52:14,600:Client-AutoMLSMBO(1)::3c2aa69a-99de-11eb-99ba-955994831015] Configuration 486 not found\n",
      "[WARNING] [2021-04-10 14:52:14,601:Client-AutoMLSMBO(1)::3c2aa69a-99de-11eb-99ba-955994831015] Configuration 538 not found\n",
      "[WARNING] [2021-04-10 14:52:45,074:Client-autosklearn.util.backend] Could not delete output dir: /tmp/autosklearn_parallel_1_example_out\n",
      "[WARNING] [2021-04-10 14:52:45,076:Client-autosklearn.util.backend] Could not delete tmp dir: /tmp/autosklearn_parallel_1_example_tmp\n",
      "[WARNING] [2021-04-10 14:53:37,081:Client-autosklearn.util.backend] Could not delete output dir: /tmp/autosklearn_parallel_1_example_out\n",
      "[WARNING] [2021-04-10 14:53:37,083:Client-autosklearn.util.backend] Could not delete tmp dir: /tmp/autosklearn_parallel_1_example_tmp\n"
     ]
    },
    {
     "data": {
      "text/plain": [
       "AutoSklearnClassifier(exclude_estimators=['mlp'], per_run_time_limit=360)"
      ]
     },
     "execution_count": 28,
     "metadata": {},
     "output_type": "execute_result"
    }
   ],
   "source": [
    "automl = autosklearn.classification.AutoSklearnClassifier(exclude_estimators=[\"mlp\"])\n",
    "automl.fit(X_train, y_train)"
   ]
  },
  {
   "cell_type": "code",
   "execution_count": 29,
   "id": "infectious-conflict",
   "metadata": {},
   "outputs": [
    {
     "name": "stdout",
     "output_type": "stream",
     "text": [
      "[(1.000000, SimpleClassificationPipeline({'balancing:strategy': 'none', 'classifier:__choice__': 'random_forest', 'data_preprocessing:categorical_transformer:categorical_encoding:__choice__': 'no_encoding', 'data_preprocessing:categorical_transformer:category_coalescence:__choice__': 'minority_coalescer', 'data_preprocessing:numerical_transformer:imputation:strategy': 'mean', 'data_preprocessing:numerical_transformer:rescaling:__choice__': 'robust_scaler', 'feature_preprocessor:__choice__': 'select_percentile_classification', 'classifier:random_forest:bootstrap': 'True', 'classifier:random_forest:criterion': 'gini', 'classifier:random_forest:max_depth': 'None', 'classifier:random_forest:max_features': 0.8434454038631288, 'classifier:random_forest:max_leaf_nodes': 'None', 'classifier:random_forest:min_impurity_decrease': 0.0, 'classifier:random_forest:min_samples_leaf': 15, 'classifier:random_forest:min_samples_split': 3, 'classifier:random_forest:min_weight_fraction_leaf': 0.0, 'data_preprocessing:categorical_transformer:category_coalescence:minority_coalescer:minimum_fraction': 0.046601157816891024, 'data_preprocessing:numerical_transformer:rescaling:robust_scaler:q_max': 0.7427921156203876, 'data_preprocessing:numerical_transformer:rescaling:robust_scaler:q_min': 0.01162242020087087, 'feature_preprocessor:select_percentile_classification:percentile': 81.33621889359004, 'feature_preprocessor:select_percentile_classification:score_func': 'f_classif'},\n",
      "dataset_properties={\n",
      "  'task': 2,\n",
      "  'sparse': False,\n",
      "  'multilabel': False,\n",
      "  'multiclass': True,\n",
      "  'target_type': 'classification',\n",
      "  'signed': False})),\n",
      "]\n"
     ]
    }
   ],
   "source": [
    "print(automl.show_models())"
   ]
  },
  {
   "cell_type": "code",
   "execution_count": 30,
   "id": "opposite-fusion",
   "metadata": {},
   "outputs": [
    {
     "name": "stdout",
     "output_type": "stream",
     "text": [
      "auto-sklearn results:\n",
      "  Dataset name: 3c2aa69a-99de-11eb-99ba-955994831015\n",
      "  Metric: accuracy\n",
      "  Best validation score: 0.487294\n",
      "  Number of target algorithm runs: 19\n",
      "  Number of successful target algorithm runs: 2\n",
      "  Number of crashed target algorithm runs: 1\n",
      "  Number of target algorithms that exceeded the time limit: 10\n",
      "  Number of target algorithms that exceeded the memory limit: 6\n",
      "\n"
     ]
    }
   ],
   "source": [
    "print(automl.sprint_statistics())"
   ]
  },
  {
   "cell_type": "code",
   "execution_count": 31,
   "id": "recognized-works",
   "metadata": {},
   "outputs": [
    {
     "name": "stdout",
     "output_type": "stream",
     "text": [
      "              precision    recall  f1-score   support\n",
      "\n",
      "           0       0.49      0.77      0.60      6803\n",
      "           1       0.45      0.32      0.37      5152\n",
      "           2       0.63      0.11      0.19      2752\n",
      "\n",
      "    accuracy                           0.49     14707\n",
      "   macro avg       0.52      0.40      0.39     14707\n",
      "weighted avg       0.50      0.49      0.44     14707\n",
      "\n"
     ]
    }
   ],
   "source": [
    "y_pred = automl.predict(X_test)\n",
    "print(sklearn.metrics.classification_report(y_test, y_pred,zero_division=False))"
   ]
  }
 ],
 "metadata": {
  "kernelspec": {
   "display_name": "Python 3",
   "language": "python",
   "name": "python3"
  },
  "language_info": {
   "codemirror_mode": {
    "name": "ipython",
    "version": 3
   },
   "file_extension": ".py",
   "mimetype": "text/x-python",
   "name": "python",
   "nbconvert_exporter": "python",
   "pygments_lexer": "ipython3",
   "version": "3.8.5"
  }
 },
 "nbformat": 4,
 "nbformat_minor": 5
}
