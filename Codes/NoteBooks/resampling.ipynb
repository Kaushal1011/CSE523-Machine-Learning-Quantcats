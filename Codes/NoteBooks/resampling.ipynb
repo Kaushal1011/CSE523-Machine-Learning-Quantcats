{
 "cells": [
  {
   "cell_type": "code",
   "execution_count": 47,
   "metadata": {},
   "outputs": [],
   "source": [
    "import pandas as pd\n",
    "import seaborn as sns\n",
    "from typing import Tuple"
   ]
  },
  {
   "cell_type": "code",
   "execution_count": 78,
   "metadata": {},
   "outputs": [
    {
     "name": "stderr",
     "output_type": "stream",
     "text": [
      "<ipython-input-78-287bccefb633>:18: SettingWithCopyWarning: \n",
      "A value is trying to be set on a copy of a slice from a DataFrame.\n",
      "Try using .loc[row_indexer,col_indexer] = value instead\n",
      "\n",
      "See the caveats in the documentation: https://pandas.pydata.org/pandas-docs/stable/user_guide/indexing.html#returning-a-view-versus-a-copy\n",
      "  df[\"target\"] = y_raw[\"Label\"].values\n"
     ]
    },
    {
     "data": {
      "text/html": [
       "<div>\n",
       "<style scoped>\n",
       "    .dataframe tbody tr th:only-of-type {\n",
       "        vertical-align: middle;\n",
       "    }\n",
       "\n",
       "    .dataframe tbody tr th {\n",
       "        vertical-align: top;\n",
       "    }\n",
       "\n",
       "    .dataframe thead th {\n",
       "        text-align: right;\n",
       "    }\n",
       "</style>\n",
       "<table border=\"1\" class=\"dataframe\">\n",
       "  <thead>\n",
       "    <tr style=\"text-align: right;\">\n",
       "      <th></th>\n",
       "      <th>Shares (Basic)</th>\n",
       "      <th>Shares (Diluted)</th>\n",
       "      <th>Cash, Cash Equivalents &amp; Short Term Investments</th>\n",
       "      <th>Accounts &amp; Notes Receivable</th>\n",
       "      <th>Inventories</th>\n",
       "      <th>Total Current Assets</th>\n",
       "      <th>Property, Plant &amp; Equipment, Net</th>\n",
       "      <th>Long Term Investments &amp; Receivables</th>\n",
       "      <th>Other Long Term Assets</th>\n",
       "      <th>Total Noncurrent Assets</th>\n",
       "      <th>...</th>\n",
       "      <th>Long Term Debt</th>\n",
       "      <th>Total Noncurrent Liabilities</th>\n",
       "      <th>Total Liabilities</th>\n",
       "      <th>Share Capital &amp; Additional Paid-In Capital</th>\n",
       "      <th>Treasury Stock</th>\n",
       "      <th>Retained Earnings</th>\n",
       "      <th>Total Equity</th>\n",
       "      <th>Total Liabilities &amp; Equity</th>\n",
       "      <th>Price_Present</th>\n",
       "      <th>target</th>\n",
       "    </tr>\n",
       "  </thead>\n",
       "  <tbody>\n",
       "    <tr>\n",
       "      <th>0</th>\n",
       "      <td>0.013189</td>\n",
       "      <td>0.013262</td>\n",
       "      <td>0.016228</td>\n",
       "      <td>0.002050</td>\n",
       "      <td>0.009389</td>\n",
       "      <td>0.011391</td>\n",
       "      <td>0.018365</td>\n",
       "      <td>0.000530</td>\n",
       "      <td>0.006310</td>\n",
       "      <td>0.012129</td>\n",
       "      <td>...</td>\n",
       "      <td>0.006773</td>\n",
       "      <td>0.015508</td>\n",
       "      <td>0.012695</td>\n",
       "      <td>0.055579</td>\n",
       "      <td>0.965186</td>\n",
       "      <td>0.190487</td>\n",
       "      <td>0.066599</td>\n",
       "      <td>0.011541</td>\n",
       "      <td>3.266000e-07</td>\n",
       "      <td>0</td>\n",
       "    </tr>\n",
       "    <tr>\n",
       "      <th>1</th>\n",
       "      <td>0.013075</td>\n",
       "      <td>0.013413</td>\n",
       "      <td>0.018553</td>\n",
       "      <td>0.002255</td>\n",
       "      <td>0.009771</td>\n",
       "      <td>0.012253</td>\n",
       "      <td>0.018454</td>\n",
       "      <td>0.000553</td>\n",
       "      <td>0.006675</td>\n",
       "      <td>0.012404</td>\n",
       "      <td>...</td>\n",
       "      <td>0.006809</td>\n",
       "      <td>0.015518</td>\n",
       "      <td>0.012950</td>\n",
       "      <td>0.055888</td>\n",
       "      <td>0.964960</td>\n",
       "      <td>0.191052</td>\n",
       "      <td>0.067596</td>\n",
       "      <td>0.012297</td>\n",
       "      <td>4.062000e-07</td>\n",
       "      <td>0</td>\n",
       "    </tr>\n",
       "    <tr>\n",
       "      <th>2</th>\n",
       "      <td>0.013189</td>\n",
       "      <td>0.013376</td>\n",
       "      <td>0.018476</td>\n",
       "      <td>0.002216</td>\n",
       "      <td>0.010876</td>\n",
       "      <td>0.009133</td>\n",
       "      <td>0.018462</td>\n",
       "      <td>0.000522</td>\n",
       "      <td>0.006469</td>\n",
       "      <td>0.012266</td>\n",
       "      <td>...</td>\n",
       "      <td>0.006664</td>\n",
       "      <td>0.015309</td>\n",
       "      <td>0.010308</td>\n",
       "      <td>0.056873</td>\n",
       "      <td>0.963789</td>\n",
       "      <td>0.191426</td>\n",
       "      <td>0.067837</td>\n",
       "      <td>0.010202</td>\n",
       "      <td>4.604000e-07</td>\n",
       "      <td>0</td>\n",
       "    </tr>\n",
       "    <tr>\n",
       "      <th>3</th>\n",
       "      <td>0.013189</td>\n",
       "      <td>0.013376</td>\n",
       "      <td>0.020836</td>\n",
       "      <td>0.002382</td>\n",
       "      <td>0.011640</td>\n",
       "      <td>0.010122</td>\n",
       "      <td>0.018547</td>\n",
       "      <td>0.000479</td>\n",
       "      <td>0.006733</td>\n",
       "      <td>0.012448</td>\n",
       "      <td>...</td>\n",
       "      <td>0.006681</td>\n",
       "      <td>0.014763</td>\n",
       "      <td>0.010283</td>\n",
       "      <td>0.057378</td>\n",
       "      <td>0.963789</td>\n",
       "      <td>0.191812</td>\n",
       "      <td>0.069293</td>\n",
       "      <td>0.010969</td>\n",
       "      <td>4.769000e-07</td>\n",
       "      <td>1</td>\n",
       "    </tr>\n",
       "    <tr>\n",
       "      <th>4</th>\n",
       "      <td>0.013227</td>\n",
       "      <td>0.013451</td>\n",
       "      <td>0.021719</td>\n",
       "      <td>0.002380</td>\n",
       "      <td>0.012241</td>\n",
       "      <td>0.010374</td>\n",
       "      <td>0.018531</td>\n",
       "      <td>0.000475</td>\n",
       "      <td>0.006684</td>\n",
       "      <td>0.012409</td>\n",
       "      <td>...</td>\n",
       "      <td>0.006748</td>\n",
       "      <td>0.014634</td>\n",
       "      <td>0.010079</td>\n",
       "      <td>0.058060</td>\n",
       "      <td>0.962956</td>\n",
       "      <td>0.192451</td>\n",
       "      <td>0.069853</td>\n",
       "      <td>0.011101</td>\n",
       "      <td>3.568000e-07</td>\n",
       "      <td>2</td>\n",
       "    </tr>\n",
       "  </tbody>\n",
       "</table>\n",
       "<p>5 rows × 24 columns</p>\n",
       "</div>"
      ],
      "text/plain": [
       "   Shares (Basic)  Shares (Diluted)  \\\n",
       "0        0.013189          0.013262   \n",
       "1        0.013075          0.013413   \n",
       "2        0.013189          0.013376   \n",
       "3        0.013189          0.013376   \n",
       "4        0.013227          0.013451   \n",
       "\n",
       "   Cash, Cash Equivalents & Short Term Investments  \\\n",
       "0                                         0.016228   \n",
       "1                                         0.018553   \n",
       "2                                         0.018476   \n",
       "3                                         0.020836   \n",
       "4                                         0.021719   \n",
       "\n",
       "   Accounts & Notes Receivable  Inventories  Total Current Assets  \\\n",
       "0                     0.002050     0.009389              0.011391   \n",
       "1                     0.002255     0.009771              0.012253   \n",
       "2                     0.002216     0.010876              0.009133   \n",
       "3                     0.002382     0.011640              0.010122   \n",
       "4                     0.002380     0.012241              0.010374   \n",
       "\n",
       "   Property, Plant & Equipment, Net  Long Term Investments & Receivables  \\\n",
       "0                          0.018365                             0.000530   \n",
       "1                          0.018454                             0.000553   \n",
       "2                          0.018462                             0.000522   \n",
       "3                          0.018547                             0.000479   \n",
       "4                          0.018531                             0.000475   \n",
       "\n",
       "   Other Long Term Assets  Total Noncurrent Assets  ...  Long Term Debt  \\\n",
       "0                0.006310                 0.012129  ...        0.006773   \n",
       "1                0.006675                 0.012404  ...        0.006809   \n",
       "2                0.006469                 0.012266  ...        0.006664   \n",
       "3                0.006733                 0.012448  ...        0.006681   \n",
       "4                0.006684                 0.012409  ...        0.006748   \n",
       "\n",
       "   Total Noncurrent Liabilities  Total Liabilities  \\\n",
       "0                      0.015508           0.012695   \n",
       "1                      0.015518           0.012950   \n",
       "2                      0.015309           0.010308   \n",
       "3                      0.014763           0.010283   \n",
       "4                      0.014634           0.010079   \n",
       "\n",
       "   Share Capital & Additional Paid-In Capital  Treasury Stock  \\\n",
       "0                                    0.055579        0.965186   \n",
       "1                                    0.055888        0.964960   \n",
       "2                                    0.056873        0.963789   \n",
       "3                                    0.057378        0.963789   \n",
       "4                                    0.058060        0.962956   \n",
       "\n",
       "   Retained Earnings  Total Equity  Total Liabilities & Equity  Price_Present  \\\n",
       "0           0.190487      0.066599                    0.011541   3.266000e-07   \n",
       "1           0.191052      0.067596                    0.012297   4.062000e-07   \n",
       "2           0.191426      0.067837                    0.010202   4.604000e-07   \n",
       "3           0.191812      0.069293                    0.010969   4.769000e-07   \n",
       "4           0.192451      0.069853                    0.011101   3.568000e-07   \n",
       "\n",
       "   target  \n",
       "0       0  \n",
       "1       0  \n",
       "2       0  \n",
       "3       1  \n",
       "4       2  \n",
       "\n",
       "[5 rows x 24 columns]"
      ]
     },
     "execution_count": 78,
     "metadata": {},
     "output_type": "execute_result"
    }
   ],
   "source": [
    "# import datasets\n",
    "X_raw = pd.read_csv(\"dataset_normalised.csv\")\n",
    "y_raw = pd.read_csv(\"labnf.csv\")\n",
    "\n",
    "# numberical column that are needed for training\n",
    "numeric_columns=['Shares (Basic)',\n",
    "       'Shares (Diluted)', 'Cash, Cash Equivalents & Short Term Investments',\n",
    "       'Accounts & Notes Receivable', 'Inventories', 'Total Current Assets',\n",
    "       'Property, Plant & Equipment, Net',\n",
    "       'Long Term Investments & Receivables', 'Other Long Term Assets',\n",
    "       'Total Noncurrent Assets', 'Total Assets', 'Payables & Accruals',\n",
    "       'Short Term Debt', 'Total Current Liabilities', 'Long Term Debt',\n",
    "       'Total Noncurrent Liabilities', 'Total Liabilities',\n",
    "       'Share Capital & Additional Paid-In Capital', 'Treasury Stock',\n",
    "       'Retained Earnings', 'Total Equity', 'Total Liabilities & Equity',\n",
    "       'Price_Present']\n",
    "df = X_raw[numeric_columns]\n",
    "df[\"target\"] = y_raw[\"Label\"].values\n",
    "df.head()"
   ]
  },
  {
   "cell_type": "markdown",
   "metadata": {},
   "source": [
    "## Resampling and Test Train Split"
   ]
  },
  {
   "cell_type": "code",
   "execution_count": 35,
   "metadata": {},
   "outputs": [],
   "source": [
    "from imblearn.over_sampling import RandomOverSampler\n",
    "from imblearn.under_sampling import RandomUnderSampler"
   ]
  },
  {
   "cell_type": "code",
   "execution_count": 49,
   "metadata": {},
   "outputs": [],
   "source": [
    "# split 75:25\n",
    "def split(df:pd.DataFrame,ratio=0.75)-> Tuple[pd.DataFrame]:\n",
    "    \"\"\"Split df into given ratio\n",
    "    \"\"\"\n",
    "    \n",
    "    n_train = int(df.shape[0]*0.75)\n",
    "    return df[:n_train],df[n_train:]\n",
    "\n",
    "def get_XY(df:pd.DataFrame)-> Tuple[pd.DataFrame]:\n",
    "    \"\"\"get X and Y from dataframe\"\"\"\n",
    "    \n",
    "    return df.drop(columns=[\"target\"]),df[\"target\"]"
   ]
  },
  {
   "cell_type": "code",
   "execution_count": 87,
   "metadata": {},
   "outputs": [],
   "source": [
    "def plot_target_count(df:pd.DataFrame)->None:\n",
    "    if \"target\" in df.keys():\n",
    "        print(df[\"target\"].value_counts())\n",
    "        df[\"target\"].value_counts().plot(kind=\"bar\")\n",
    "    else:\n",
    "        print(df.value_counts())\n",
    "        df.value_counts().plot(kind=\"bar\")\n",
    "        print(count_0,count_1,count_2)"
   ]
  },
  {
   "cell_type": "code",
   "execution_count": 63,
   "metadata": {},
   "outputs": [
    {
     "data": {
      "text/plain": [
       "2    2\n",
       "1    2\n",
       "dtype: int64"
      ]
     },
     "execution_count": 63,
     "metadata": {},
     "output_type": "execute_result"
    }
   ],
   "source": []
  },
  {
   "cell_type": "markdown",
   "metadata": {},
   "source": [
    "## Undersampling "
   ]
  },
  {
   "cell_type": "code",
   "execution_count": 89,
   "metadata": {},
   "outputs": [],
   "source": [
    "# undersample class 0 to size of class 1\n",
    "def under_sample(n0:int,n1:int,n2:int,df:pd.DataFrame) -> pd.DataFrame:\n",
    "    df_class_0 = df[df[\"target\"] == 0 ]\n",
    "    df_class_1 = df[df[\"target\"] == 1 ]\n",
    "    df_class_2 = df[df[\"target\"] == 2 ]\n",
    "\n",
    "    df_under_0 = df_class_0.sample(n0)\n",
    "    df_under_1 = df_class_1.sample(n1)\n",
    "    df_under_2 = df_class_2.sample(n2)\n",
    "\n",
    "    return pd.concat([df_under_0,df_under_1,df_under_2],axis=0)"
   ]
  },
  {
   "cell_type": "code",
   "execution_count": null,
   "metadata": {},
   "outputs": [],
   "source": []
  },
  {
   "cell_type": "code",
   "execution_count": 36,
   "metadata": {},
   "outputs": [],
   "source": [
    "# under sample for train\n",
    "y_train_under = df_train_1[\"target\"]\n",
    "X_train_under = df_train_1.drop(columns=[\"target\"])\n",
    "\n",
    "# normal train sets\n",
    "y_train = df_train[\"target\"]\n",
    "X_train = df_train.drop(columns=[\"target\"])\n",
    "\n",
    "# test set remains the same\n",
    "#y_test = df_test[\"target\"]\n",
    "#X_test = df_test.drop(columns=[\"target\"])"
   ]
  },
  {
   "cell_type": "markdown",
   "metadata": {},
   "source": [
    "## Over Sampling "
   ]
  },
  {
   "cell_type": "code",
   "execution_count": null,
   "metadata": {},
   "outputs": [],
   "source": [
    "\n"
   ]
  },
  {
   "cell_type": "code",
   "execution_count": 43,
   "metadata": {},
   "outputs": [
    {
     "data": {
      "text/plain": [
       "<AxesSubplot:>"
      ]
     },
     "execution_count": 43,
     "metadata": {},
     "output_type": "execute_result"
    },
    {
     "data": {
      "image/png": "[encoded data removed]",
      "text/plain": [
       "<Figure size 432x288 with 1 Axes>"
      ]
     },
     "metadata": {
      "needs_background": "light"
     },
     "output_type": "display_data"
    }
   ],
   "source": [
    "ros = RandomOverSampler(random_state=0)\n",
    "ros.fit(X_train,y_train)\n",
    "X_train_over,y_train_over = ros.fit_resample(X_train,y_train)\n",
    "y_train_over.value_counts().plot(kind=\"bar\")"
   ]
  },
  {
   "cell_type": "markdown",
   "metadata": {},
   "source": [
    "## Model"
   ]
  },
  {
   "cell_type": "code",
   "execution_count": 31,
   "metadata": {},
   "outputs": [],
   "source": [
    "import sklearn\n",
    "from sklearn.naive_bayes import GaussianNB\n",
    "from sklearn.ensemble import RandomForestClassifier"
   ]
  },
  {
   "cell_type": "code",
   "execution_count": 32,
   "metadata": {},
   "outputs": [],
   "source": [
    "clf  = RandomForestClassifier( max_depth=18,random_state=0)"
   ]
  },
  {
   "cell_type": "code",
   "execution_count": 40,
   "metadata": {},
   "outputs": [],
   "source": [
    "#y_train = df_train_1[\"target\"]\n",
    "#y_test = df_test[\"target\"]\n",
    "\n",
    "#X_train = df_train_1.drop(columns=[\"target\"])\n",
    "#X_test = df_test.drop(columns=[\"target\"])\n",
    "\n",
    "\n",
    "def train_eval(clf,X_train,X_test,y_train,y_test,title=\"\"):\n",
    "    print(title)\n",
    "    clf.fit(X_train,y_train)\n",
    "    clf.score(X_train,y_train)\n",
    "    clf.score(X_test,y_test)\n",
    "    \n",
    "    y_pred = clf.predict(X_test)\n",
    "\n",
    "    print(sklearn.metrics.classification_report(y_test, y_pred,zero_division=False))\n",
    "    sns.heatmap(sklearn.metrics.confusion_matrix(y_test,y_pred),annot=True,cmap=\"Blues\")\n",
    "    "
   ]
  },
  {
   "cell_type": "code",
   "execution_count": 41,
   "metadata": {},
   "outputs": [
    {
     "name": "stdout",
     "output_type": "stream",
     "text": [
      "Normal Sampling\n",
      "              precision    recall  f1-score   support\n",
      "\n",
      "           0       0.47      0.82      0.60      6752\n",
      "           1       0.43      0.22      0.29      5259\n",
      "           2       0.35      0.04      0.07      2696\n",
      "\n",
      "    accuracy                           0.46     14707\n",
      "   macro avg       0.42      0.36      0.32     14707\n",
      "weighted avg       0.43      0.46      0.39     14707\n",
      "\n"
     ]
    },
    {
     "data": {
      "image/png": "[encoded data removed]",
      "text/plain": [
       "<Figure size 432x288 with 2 Axes>"
      ]
     },
     "metadata": {
      "needs_background": "light"
     },
     "output_type": "display_data"
    }
   ],
   "source": [
    "clf  = RandomForestClassifier( max_depth=18,random_state=0)\n",
    "train_eval(clf,X_train,X_test,y_train,y_test,title=\"Normal Sampling\")"
   ]
  },
  {
   "cell_type": "code",
   "execution_count": 42,
   "metadata": {},
   "outputs": [
    {
     "name": "stdout",
     "output_type": "stream",
     "text": [
      "Over Sampling\n",
      "              precision    recall  f1-score   support\n",
      "\n",
      "           0       0.47      0.58      0.52      6752\n",
      "           1       0.40      0.36      0.38      5259\n",
      "           2       0.25      0.15      0.19      2696\n",
      "\n",
      "    accuracy                           0.42     14707\n",
      "   macro avg       0.37      0.36      0.36     14707\n",
      "weighted avg       0.40      0.42      0.41     14707\n",
      "\n"
     ]
    },
    {
     "data": {
      "image/png": "[encoded data removed]",
      "text/plain": [
       "<Figure size 432x288 with 2 Axes>"
      ]
     },
     "metadata": {
      "needs_background": "light"
     },
     "output_type": "display_data"
    }
   ],
   "source": [
    "clf  = RandomForestClassifier( max_depth=18,random_state=0)\n",
    "train_eval(clf,X_train_over,X_test,y_train_over,y_test,title=\"Over Sampling\")"
   ]
  },
  {
   "cell_type": "code",
   "execution_count": 100,
   "metadata": {},
   "outputs": [
    {
     "name": "stdout",
     "output_type": "stream",
     "text": [
      "2    27096\n",
      "1    27096\n",
      "0    27096\n",
      "Name: target, dtype: int64\n",
      "20344 15282 8495\n"
     ]
    },
    {
     "data": {
      "image/png": "[encoded data removed]",
      "text/plain": [
       "<Figure size 432x288 with 1 Axes>"
      ]
     },
     "metadata": {
      "needs_background": "light"
     },
     "output_type": "display_data"
    }
   ],
   "source": [
    "# over sample both test and train\n",
    "ros = RandomOverSampler(random_state=0)\n",
    "X,y = get_XY(df)\n",
    "ros.fit(X,y)\n",
    "X_over,y_over = ros.fit_resample(X,y)\n",
    "df_over = X_over\n",
    "df_over[\"target\"]= y_over\n",
    "plot_target_count(y_over)\n",
    "\n",
    "\n",
    "# DF NEW\n",
    "\n",
    "\n",
    "#df_new = under_sample(22000,20000,20000,df_over)\n",
    "#plot_target_count(df_new)\n"
   ]
  },
  {
   "cell_type": "code",
   "execution_count": 101,
   "metadata": {},
   "outputs": [
    {
     "name": "stdout",
     "output_type": "stream",
     "text": [
      "Over Sampling All\n",
      "              precision    recall  f1-score   support\n",
      "\n",
      "           1       1.00      1.00      1.00      4417\n",
      "           2       1.00      1.00      1.00     15905\n",
      "\n",
      "    accuracy                           1.00     20322\n",
      "   macro avg       1.00      1.00      1.00     20322\n",
      "weighted avg       1.00      1.00      1.00     20322\n",
      "\n"
     ]
    },
    {
     "data": {
      "image/png": "[encoded data removed]",
      "text/plain": [
       "<Figure size 432x288 with 2 Axes>"
      ]
     },
     "metadata": {
      "needs_background": "light"
     },
     "output_type": "display_data"
    }
   ],
   "source": [
    "X_train_overall,X_test_overall = split(X_over)\n",
    "y_train_overall,y_test_overall = split(y_over)\n",
    "\n",
    "clf  = RandomForestClassifier( max_depth=18,random_state=0)\n",
    "train_eval(clf,X_train_overall,X_test_overall,y_train_overall,y_test_overall,title=\"Over Sampling All\")"
   ]
  },
  {
   "cell_type": "code",
   "execution_count": 98,
   "metadata": {},
   "outputs": [
    {
     "name": "stdout",
     "output_type": "stream",
     "text": [
      "New Sampling\n",
      "              precision    recall  f1-score   support\n",
      "\n",
      "           0       0.00      0.00      0.00         0\n",
      "           1       0.00      0.00      0.00         0\n",
      "           2       1.00      0.16      0.28     15500\n",
      "\n",
      "    accuracy                           0.16     15500\n",
      "   macro avg       0.33      0.05      0.09     15500\n",
      "weighted avg       1.00      0.16      0.28     15500\n",
      "\n"
     ]
    },
    {
     "data": {
      "image/png": "[encoded data removed]",
      "text/plain": [
       "<Figure size 432x288 with 2 Axes>"
      ]
     },
     "metadata": {
      "needs_background": "light"
     },
     "output_type": "display_data"
    }
   ],
   "source": [
    "X_new,y_new = get_XY(df_new)\n",
    "\n",
    "X_train_new,X_test_new = split(X_new)\n",
    "y_train_new,y_test_new = split(y_new)\n",
    "\n",
    "clf  = RandomForestClassifier( max_depth=18,random_state=0)\n",
    "train_eval(clf,X_train_new,X_test_new,y_train_new,y_test_new,title=\"New Sampling\")"
   ]
  },
  {
   "cell_type": "code",
   "execution_count": null,
   "metadata": {},
   "outputs": [],
   "source": []
  }
 ],
 "metadata": {
  "kernelspec": {
   "display_name": "Python 3",
   "language": "python",
   "name": "python3"
  },
  "language_info": {
   "codemirror_mode": {
    "name": "ipython",
    "version": 3
   },
   "file_extension": ".py",
   "mimetype": "text/x-python",
   "name": "python",
   "nbconvert_exporter": "python",
   "pygments_lexer": "ipython3",
   "version": "3.8.5"
  }
 },
 "nbformat": 4,
 "nbformat_minor": 4
}
