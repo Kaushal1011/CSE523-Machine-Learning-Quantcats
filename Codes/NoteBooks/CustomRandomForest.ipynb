{
 "cells": [
  {
   "cell_type": "code",
   "execution_count": 1,
   "id": "certified-services",
   "metadata": {},
   "outputs": [],
   "source": [
    "# Build a decision tree\n",
    "# Random Forest Algorithm on Sonar Dataset\n",
    "from random import seed\n",
    "from random import randrange\n",
    "from csv import reader\n",
    "from math import sqrt\n",
    "from sklearn.tree import DecisionTreeClassifier\n",
    "class RandomForest():\n",
    "\n",
    "    def __init__(self,trainX,trainY,testX,testY,sample_size,max_depth=3,n_trees=10,criterion=\"gini\"):\n",
    "        self.trees = list()\n",
    "        self.trainX=trainX\n",
    "        self.trainY=trainY\n",
    "        self.testX=testX\n",
    "        self.testY=testY\n",
    "        self.sample_size=sample_size\n",
    "        self.max_depth=max_depth\n",
    "        self.n_trees=n_trees\n",
    "        self.criterion=criterion\n",
    "        for i in range(n_trees):\n",
    "            sampleX,sampleY = self.subsample(trainX,trainY, sample_size)\n",
    "            tree = self.build_tree(sampleX,sampleY,criterion,max_depth)\n",
    "            self.trees.append(tree)\n",
    "        \n",
    "    def build_tree(self,trainX,trainY,criterion, max_depth):\n",
    "        root =  DecisionTreeClassifier(max_depth=max_depth,criterion=criterion)\n",
    "        root.fit(trainX,trainY) \n",
    "        print(root.score(trainX,trainY))\n",
    "        return root\n",
    "\n",
    "    # Create a random subsample from the dataset with replacement\n",
    "    def subsample(self,datasetX,datasetY, ratio):\n",
    "#         print(len(datasetX),datasetX.shape,len(datasetY),datasetY.shape)\n",
    "        sampleX = list()\n",
    "        sampleY= list()\n",
    "        datasetY=list(datasetY)\n",
    "        n_sample = round(len(datasetX) * ratio)\n",
    "        while len(sampleX) < n_sample:\n",
    "            index = randrange(len(datasetX))\n",
    "#             print(index)\n",
    "            sampleX.append(datasetX[index])\n",
    "#             print(l[index])\n",
    "#             print(datasetY[index])\n",
    "            sampleY.append(datasetY[index])\n",
    "        return sampleX,sampleY\n",
    "\n",
    "    # Make a prediction with a list of bagged trees\n",
    "    def bagging_predict(self, row):\n",
    "        \n",
    "        predictions = [int(tree.predict(np.array([row]))) for tree in self.trees]\n",
    "        return max(set(predictions), key=predictions.count)\n",
    "\n",
    "    # Random Forest Algorithm\n",
    "    def predict(self,X):\n",
    "#         print(self.testX)\n",
    "        predictions=list()\n",
    "        for row in X:\n",
    "#             print(row)\n",
    "            predictions.append(self.bagging_predict(row))\n",
    "        return(predictions)\n"
   ]
  },
  {
   "cell_type": "code",
   "execution_count": 2,
   "id": "interstate-documentation",
   "metadata": {},
   "outputs": [],
   "source": [
    "import numpy as np\n",
    "import pandas as pd\n",
    "from sklearn.model_selection import train_test_split\n",
    "from sklearn.metrics import accuracy_score\n",
    "from sklearn.preprocessing import StandardScaler"
   ]
  },
  {
   "cell_type": "code",
   "execution_count": 3,
   "id": "historic-revelation",
   "metadata": {},
   "outputs": [],
   "source": [
    "numeric_columns=['Shares (Basic)',\n",
    "       'Shares (Diluted)', 'Cash, Cash Equivalents & Short Term Investments',\n",
    "       'Accounts & Notes Receivable', 'Inventories', 'Total Current Assets',\n",
    "       'Property, Plant & Equipment, Net',\n",
    "       'Long Term Investments & Receivables', 'Other Long Term Assets',\n",
    "       'Total Noncurrent Assets', 'Total Assets', 'Payables & Accruals',\n",
    "       'Short Term Debt', 'Total Current Liabilities', 'Long Term Debt',\n",
    "       'Total Noncurrent Liabilities', 'Total Liabilities',\n",
    "       'Share Capital & Additional Paid-In Capital', 'Treasury Stock',\n",
    "       'Retained Earnings', 'Total Equity', 'Total Liabilities & Equity',\n",
    "       'Price_Present']"
   ]
  },
  {
   "cell_type": "code",
   "execution_count": 4,
   "id": "gorgeous-swift",
   "metadata": {},
   "outputs": [],
   "source": [
    "clean_fundamen=pd.read_csv(\"../../Datasets/dataset_1.csv\")\n",
    "LabnF=pd.read_csv(\"../../Datasets/labnf.csv\")\n",
    "X,Y=clean_fundamen[numeric_columns],LabnF[\"Label\"]\n",
    "scaler = StandardScaler()\n",
    "scaler.fit(X)\n",
    "X=scaler.transform(X)"
   ]
  },
  {
   "cell_type": "code",
   "execution_count": 5,
   "id": "median-triple",
   "metadata": {},
   "outputs": [],
   "source": [
    "seed = 7\n",
    "test_size = 0.20\n",
    "X_train, X_test, y_train, y_test = train_test_split(X, Y, test_size=test_size, random_state=seed)"
   ]
  },
  {
   "cell_type": "code",
   "execution_count": 6,
   "id": "orange-joshua",
   "metadata": {},
   "outputs": [
    {
     "name": "stdout",
     "output_type": "stream",
     "text": [
      "0.6947120819344694\n",
      "0.6929909481110025\n",
      "0.6914449024690833\n",
      "0.6920549487909566\n",
      "0.7023609281373507\n",
      "0.6900928562322043\n",
      "0.7065366962730015\n",
      "0.7118571246440866\n",
      "0.7222236624027878\n",
      "0.6736641026730695\n"
     ]
    }
   ],
   "source": [
    "clf=RandomForest(X_train,y_train,X_test, y_test,sample_size=100,max_depth=18,criterion=\"entropy\")"
   ]
  },
  {
   "cell_type": "code",
   "execution_count": 7,
   "id": "aware-trader",
   "metadata": {},
   "outputs": [],
   "source": [
    "y_test_pred=clf.predict(X_test)"
   ]
  },
  {
   "cell_type": "code",
   "execution_count": 8,
   "id": "challenging-sampling",
   "metadata": {},
   "outputs": [
    {
     "name": "stdout",
     "output_type": "stream",
     "text": [
      "This Classification Tree Prediction Accuracy:    0.4844467108618052\n"
     ]
    }
   ],
   "source": [
    "print(\"This Classification Tree Prediction Accuracy:    {}\".format(sum(y_test_pred == y_test) / len(y_test)))"
   ]
  },
  {
   "cell_type": "code",
   "execution_count": null,
   "id": "interstate-wales",
   "metadata": {},
   "outputs": [],
   "source": []
  }
 ],
 "metadata": {
  "kernelspec": {
   "display_name": "Python 3",
   "language": "python",
   "name": "python3"
  },
  "language_info": {
   "codemirror_mode": {
    "name": "ipython",
    "version": 3
   },
   "file_extension": ".py",
   "mimetype": "text/x-python",
   "name": "python",
   "nbconvert_exporter": "python",
   "pygments_lexer": "ipython3",
   "version": "3.8.5"
  }
 },
 "nbformat": 4,
 "nbformat_minor": 5
}
