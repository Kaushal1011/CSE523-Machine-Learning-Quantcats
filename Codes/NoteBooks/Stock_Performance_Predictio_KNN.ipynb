{
 "cells": [
  {
   "cell_type": "code",
   "execution_count": 14,
   "metadata": {
    "id": "xCj0uS8lfQZ8"
   },
   "outputs": [],
   "source": [
    "#importing libraries \r\n",
    "import pandas as pd \r\n",
    "import numpy as np\r\n",
    "import matplotlib.pyplot as plt\r\n",
    "%matplotlib inline\r\n",
    "\r\n",
    "import warnings\r\n",
    "warnings.filterwarnings(\"ignore\")"
   ]
  },
  {
   "cell_type": "markdown",
   "metadata": {
    "id": "Bh_7XvsphC5j"
   },
   "source": [
    "## Load the Data"
   ]
  },
  {
   "cell_type": "code",
   "execution_count": 15,
   "metadata": {
    "colab": {
     "base_uri": "https://localhost:8080/",
     "height": 296
    },
    "id": "I_0oLIJ5g-5v",
    "outputId": "d273c492-0d88-4ea3-ab40-e4aad9ea5267"
   },
   "outputs": [
    {
     "data": {
      "text/html": [
       "<div>\n",
       "<style scoped>\n",
       "    .dataframe tbody tr th:only-of-type {\n",
       "        vertical-align: middle;\n",
       "    }\n",
       "\n",
       "    .dataframe tbody tr th {\n",
       "        vertical-align: top;\n",
       "    }\n",
       "\n",
       "    .dataframe thead th {\n",
       "        text-align: right;\n",
       "    }\n",
       "</style>\n",
       "<table border=\"1\" class=\"dataframe\">\n",
       "  <thead>\n",
       "    <tr style=\"text-align: right;\">\n",
       "      <th></th>\n",
       "      <th>Unnamed: 0</th>\n",
       "      <th>Ticker</th>\n",
       "      <th>SimFinId</th>\n",
       "      <th>Currency</th>\n",
       "      <th>Fiscal Year</th>\n",
       "      <th>Fiscal Period</th>\n",
       "      <th>Report Date</th>\n",
       "      <th>Publish Date</th>\n",
       "      <th>Restated Date</th>\n",
       "      <th>Shares (Basic)</th>\n",
       "      <th>...</th>\n",
       "      <th>Total Noncurrent Liabilities</th>\n",
       "      <th>Total Liabilities</th>\n",
       "      <th>Share Capital &amp; Additional Paid-In Capital</th>\n",
       "      <th>Treasury Stock</th>\n",
       "      <th>Retained Earnings</th>\n",
       "      <th>Total Equity</th>\n",
       "      <th>Total Liabilities &amp; Equity</th>\n",
       "      <th>Price_Present</th>\n",
       "      <th>Price_Future</th>\n",
       "      <th>Label</th>\n",
       "    </tr>\n",
       "  </thead>\n",
       "  <tbody>\n",
       "    <tr>\n",
       "      <th>0</th>\n",
       "      <td>0</td>\n",
       "      <td>A</td>\n",
       "      <td>45846</td>\n",
       "      <td>USD</td>\n",
       "      <td>2010</td>\n",
       "      <td>Q3</td>\n",
       "      <td>2010-07-31</td>\n",
       "      <td>2010-10-06</td>\n",
       "      <td>2010-10-06</td>\n",
       "      <td>347000000.0</td>\n",
       "      <td>...</td>\n",
       "      <td>3.373000e+09</td>\n",
       "      <td>6290000000</td>\n",
       "      <td>7.861000e+09</td>\n",
       "      <td>-7.986000e+09</td>\n",
       "      <td>3.152000e+09</td>\n",
       "      <td>2.810000e+09</td>\n",
       "      <td>9100000000</td>\n",
       "      <td>32.67</td>\n",
       "      <td>41.48</td>\n",
       "      <td>0</td>\n",
       "    </tr>\n",
       "    <tr>\n",
       "      <th>1</th>\n",
       "      <td>1</td>\n",
       "      <td>A</td>\n",
       "      <td>45846</td>\n",
       "      <td>USD</td>\n",
       "      <td>2010</td>\n",
       "      <td>Q4</td>\n",
       "      <td>2010-10-31</td>\n",
       "      <td>2010-12-20</td>\n",
       "      <td>2011-12-16</td>\n",
       "      <td>344000000.0</td>\n",
       "      <td>...</td>\n",
       "      <td>3.377000e+09</td>\n",
       "      <td>6460000000</td>\n",
       "      <td>7.910000e+09</td>\n",
       "      <td>-8.038000e+09</td>\n",
       "      <td>3.444000e+09</td>\n",
       "      <td>3.236000e+09</td>\n",
       "      <td>9696000000</td>\n",
       "      <td>40.63</td>\n",
       "      <td>43.95</td>\n",
       "      <td>0</td>\n",
       "    </tr>\n",
       "    <tr>\n",
       "      <th>2</th>\n",
       "      <td>2</td>\n",
       "      <td>A</td>\n",
       "      <td>45846</td>\n",
       "      <td>USD</td>\n",
       "      <td>2011</td>\n",
       "      <td>Q1</td>\n",
       "      <td>2011-01-31</td>\n",
       "      <td>2011-03-09</td>\n",
       "      <td>2011-03-09</td>\n",
       "      <td>347000000.0</td>\n",
       "      <td>...</td>\n",
       "      <td>3.299000e+09</td>\n",
       "      <td>4705000000</td>\n",
       "      <td>8.066000e+09</td>\n",
       "      <td>-8.308000e+09</td>\n",
       "      <td>3.637000e+09</td>\n",
       "      <td>3.339000e+09</td>\n",
       "      <td>8044000000</td>\n",
       "      <td>46.05</td>\n",
       "      <td>48.71</td>\n",
       "      <td>0</td>\n",
       "    </tr>\n",
       "    <tr>\n",
       "      <th>3</th>\n",
       "      <td>3</td>\n",
       "      <td>A</td>\n",
       "      <td>45846</td>\n",
       "      <td>USD</td>\n",
       "      <td>2011</td>\n",
       "      <td>Q2</td>\n",
       "      <td>2011-04-30</td>\n",
       "      <td>2011-06-07</td>\n",
       "      <td>2011-06-07</td>\n",
       "      <td>347000000.0</td>\n",
       "      <td>...</td>\n",
       "      <td>3.096000e+09</td>\n",
       "      <td>4688000000</td>\n",
       "      <td>8.146000e+09</td>\n",
       "      <td>-8.308000e+09</td>\n",
       "      <td>3.837000e+09</td>\n",
       "      <td>3.961000e+09</td>\n",
       "      <td>8649000000</td>\n",
       "      <td>47.70</td>\n",
       "      <td>35.69</td>\n",
       "      <td>1</td>\n",
       "    </tr>\n",
       "    <tr>\n",
       "      <th>4</th>\n",
       "      <td>4</td>\n",
       "      <td>A</td>\n",
       "      <td>45846</td>\n",
       "      <td>USD</td>\n",
       "      <td>2011</td>\n",
       "      <td>Q3</td>\n",
       "      <td>2011-07-31</td>\n",
       "      <td>2011-09-07</td>\n",
       "      <td>2011-09-07</td>\n",
       "      <td>348000000.0</td>\n",
       "      <td>...</td>\n",
       "      <td>3.048000e+09</td>\n",
       "      <td>4553000000</td>\n",
       "      <td>8.254000e+09</td>\n",
       "      <td>-8.500000e+09</td>\n",
       "      <td>4.167000e+09</td>\n",
       "      <td>4.200000e+09</td>\n",
       "      <td>8753000000</td>\n",
       "      <td>35.69</td>\n",
       "      <td>36.66</td>\n",
       "      <td>2</td>\n",
       "    </tr>\n",
       "  </tbody>\n",
       "</table>\n",
       "<p>5 rows × 34 columns</p>\n",
       "</div>"
      ],
      "text/plain": [
       "   Unnamed: 0 Ticker  SimFinId Currency  Fiscal Year Fiscal Period  \\\n",
       "0           0      A     45846      USD         2010            Q3   \n",
       "1           1      A     45846      USD         2010            Q4   \n",
       "2           2      A     45846      USD         2011            Q1   \n",
       "3           3      A     45846      USD         2011            Q2   \n",
       "4           4      A     45846      USD         2011            Q3   \n",
       "\n",
       "  Report Date Publish Date Restated Date  Shares (Basic)  ...  \\\n",
       "0  2010-07-31   2010-10-06    2010-10-06     347000000.0  ...   \n",
       "1  2010-10-31   2010-12-20    2011-12-16     344000000.0  ...   \n",
       "2  2011-01-31   2011-03-09    2011-03-09     347000000.0  ...   \n",
       "3  2011-04-30   2011-06-07    2011-06-07     347000000.0  ...   \n",
       "4  2011-07-31   2011-09-07    2011-09-07     348000000.0  ...   \n",
       "\n",
       "   Total Noncurrent Liabilities  Total Liabilities  \\\n",
       "0                  3.373000e+09         6290000000   \n",
       "1                  3.377000e+09         6460000000   \n",
       "2                  3.299000e+09         4705000000   \n",
       "3                  3.096000e+09         4688000000   \n",
       "4                  3.048000e+09         4553000000   \n",
       "\n",
       "   Share Capital & Additional Paid-In Capital  Treasury Stock  \\\n",
       "0                                7.861000e+09   -7.986000e+09   \n",
       "1                                7.910000e+09   -8.038000e+09   \n",
       "2                                8.066000e+09   -8.308000e+09   \n",
       "3                                8.146000e+09   -8.308000e+09   \n",
       "4                                8.254000e+09   -8.500000e+09   \n",
       "\n",
       "   Retained Earnings  Total Equity  Total Liabilities & Equity  Price_Present  \\\n",
       "0       3.152000e+09  2.810000e+09                  9100000000          32.67   \n",
       "1       3.444000e+09  3.236000e+09                  9696000000          40.63   \n",
       "2       3.637000e+09  3.339000e+09                  8044000000          46.05   \n",
       "3       3.837000e+09  3.961000e+09                  8649000000          47.70   \n",
       "4       4.167000e+09  4.200000e+09                  8753000000          35.69   \n",
       "\n",
       "   Price_Future  Label  \n",
       "0         41.48      0  \n",
       "1         43.95      0  \n",
       "2         48.71      0  \n",
       "3         35.69      1  \n",
       "4         36.66      2  \n",
       "\n",
       "[5 rows x 34 columns]"
      ]
     },
     "execution_count": 15,
     "metadata": {},
     "output_type": "execute_result"
    }
   ],
   "source": [
    "data = pd.read_csv('dataset_1.csv')\r\n",
    "data.head()"
   ]
  },
  {
   "cell_type": "code",
   "execution_count": 16,
   "metadata": {
    "colab": {
     "base_uri": "https://localhost:8080/"
    },
    "id": "I7QsacihhQh4",
    "outputId": "a2e1d3a7-e7e3-4816-8e53-734f927eef01"
   },
   "outputs": [
    {
     "data": {
      "text/plain": [
       "(58828, 34)"
      ]
     },
     "execution_count": 16,
     "metadata": {},
     "output_type": "execute_result"
    }
   ],
   "source": [
    "data.shape"
   ]
  },
  {
   "cell_type": "markdown",
   "metadata": {
    "id": "n4ouJTAfhaCr"
   },
   "source": [
    "##Segregating variables: Independent and Dependent Variables"
   ]
  },
  {
   "cell_type": "code",
   "execution_count": 17,
   "metadata": {
    "colab": {
     "base_uri": "https://localhost:8080/"
    },
    "id": "FhNwIwdlhUgS",
    "outputId": "4581de70-0822-4583-c7a9-7f647e432dc0"
   },
   "outputs": [
    {
     "data": {
      "text/plain": [
       "((58828, 24), (58828,))"
      ]
     },
     "execution_count": 17,
     "metadata": {},
     "output_type": "execute_result"
    }
   ],
   "source": [
    "#seperating independent and dependent variables\r\n",
    "x = data.drop(['Unnamed: 0', 'Ticker', 'SimFinId', 'Currency', 'Fiscal Year', 'Fiscal Period', 'Report Date', 'Publish Date', 'Restated Date', 'Price_Future'], axis=1)\r\n",
    "y = data['Price_Future']\r\n",
    "x.shape, y.shape"
   ]
  },
  {
   "cell_type": "code",
   "execution_count": 18,
   "metadata": {
    "colab": {
     "base_uri": "https://localhost:8080/",
     "height": 296
    },
    "id": "6vX-TsnYiZMh",
    "outputId": "220fd246-c18b-4c35-b8c8-0e193ecc1458"
   },
   "outputs": [
    {
     "data": {
      "text/html": [
       "<div>\n",
       "<style scoped>\n",
       "    .dataframe tbody tr th:only-of-type {\n",
       "        vertical-align: middle;\n",
       "    }\n",
       "\n",
       "    .dataframe tbody tr th {\n",
       "        vertical-align: top;\n",
       "    }\n",
       "\n",
       "    .dataframe thead th {\n",
       "        text-align: right;\n",
       "    }\n",
       "</style>\n",
       "<table border=\"1\" class=\"dataframe\">\n",
       "  <thead>\n",
       "    <tr style=\"text-align: right;\">\n",
       "      <th></th>\n",
       "      <th>Shares (Basic)</th>\n",
       "      <th>Shares (Diluted)</th>\n",
       "      <th>Cash, Cash Equivalents &amp; Short Term Investments</th>\n",
       "      <th>Accounts &amp; Notes Receivable</th>\n",
       "      <th>Inventories</th>\n",
       "      <th>Total Current Assets</th>\n",
       "      <th>Property, Plant &amp; Equipment, Net</th>\n",
       "      <th>Long Term Investments &amp; Receivables</th>\n",
       "      <th>Other Long Term Assets</th>\n",
       "      <th>Total Noncurrent Assets</th>\n",
       "      <th>...</th>\n",
       "      <th>Long Term Debt</th>\n",
       "      <th>Total Noncurrent Liabilities</th>\n",
       "      <th>Total Liabilities</th>\n",
       "      <th>Share Capital &amp; Additional Paid-In Capital</th>\n",
       "      <th>Treasury Stock</th>\n",
       "      <th>Retained Earnings</th>\n",
       "      <th>Total Equity</th>\n",
       "      <th>Total Liabilities &amp; Equity</th>\n",
       "      <th>Price_Present</th>\n",
       "      <th>Label</th>\n",
       "    </tr>\n",
       "  </thead>\n",
       "  <tbody>\n",
       "    <tr>\n",
       "      <th>0</th>\n",
       "      <td>347000000.0</td>\n",
       "      <td>352000000.0</td>\n",
       "      <td>2.317000e+09</td>\n",
       "      <td>790000000.0</td>\n",
       "      <td>688000000.0</td>\n",
       "      <td>5.735000e+09</td>\n",
       "      <td>9.570000e+08</td>\n",
       "      <td>136000000.0</td>\n",
       "      <td>2.272000e+09</td>\n",
       "      <td>3.365000e+09</td>\n",
       "      <td>...</td>\n",
       "      <td>2.177000e+09</td>\n",
       "      <td>3.373000e+09</td>\n",
       "      <td>6290000000</td>\n",
       "      <td>7.861000e+09</td>\n",
       "      <td>-7.986000e+09</td>\n",
       "      <td>3.152000e+09</td>\n",
       "      <td>2.810000e+09</td>\n",
       "      <td>9100000000</td>\n",
       "      <td>32.67</td>\n",
       "      <td>0</td>\n",
       "    </tr>\n",
       "    <tr>\n",
       "      <th>1</th>\n",
       "      <td>344000000.0</td>\n",
       "      <td>356000000.0</td>\n",
       "      <td>2.649000e+09</td>\n",
       "      <td>869000000.0</td>\n",
       "      <td>716000000.0</td>\n",
       "      <td>6.169000e+09</td>\n",
       "      <td>9.800000e+08</td>\n",
       "      <td>142000000.0</td>\n",
       "      <td>2.405000e+09</td>\n",
       "      <td>3.527000e+09</td>\n",
       "      <td>...</td>\n",
       "      <td>2.190000e+09</td>\n",
       "      <td>3.377000e+09</td>\n",
       "      <td>6460000000</td>\n",
       "      <td>7.910000e+09</td>\n",
       "      <td>-8.038000e+09</td>\n",
       "      <td>3.444000e+09</td>\n",
       "      <td>3.236000e+09</td>\n",
       "      <td>9696000000</td>\n",
       "      <td>40.63</td>\n",
       "      <td>0</td>\n",
       "    </tr>\n",
       "    <tr>\n",
       "      <th>2</th>\n",
       "      <td>347000000.0</td>\n",
       "      <td>355000000.0</td>\n",
       "      <td>2.638000e+09</td>\n",
       "      <td>854000000.0</td>\n",
       "      <td>797000000.0</td>\n",
       "      <td>4.598000e+09</td>\n",
       "      <td>9.820000e+08</td>\n",
       "      <td>134000000.0</td>\n",
       "      <td>2.330000e+09</td>\n",
       "      <td>3.446000e+09</td>\n",
       "      <td>...</td>\n",
       "      <td>2.138000e+09</td>\n",
       "      <td>3.299000e+09</td>\n",
       "      <td>4705000000</td>\n",
       "      <td>8.066000e+09</td>\n",
       "      <td>-8.308000e+09</td>\n",
       "      <td>3.637000e+09</td>\n",
       "      <td>3.339000e+09</td>\n",
       "      <td>8044000000</td>\n",
       "      <td>46.05</td>\n",
       "      <td>0</td>\n",
       "    </tr>\n",
       "    <tr>\n",
       "      <th>3</th>\n",
       "      <td>347000000.0</td>\n",
       "      <td>355000000.0</td>\n",
       "      <td>2.975000e+09</td>\n",
       "      <td>918000000.0</td>\n",
       "      <td>853000000.0</td>\n",
       "      <td>5.096000e+09</td>\n",
       "      <td>1.004000e+09</td>\n",
       "      <td>123000000.0</td>\n",
       "      <td>2.426000e+09</td>\n",
       "      <td>3.553000e+09</td>\n",
       "      <td>...</td>\n",
       "      <td>2.144000e+09</td>\n",
       "      <td>3.096000e+09</td>\n",
       "      <td>4688000000</td>\n",
       "      <td>8.146000e+09</td>\n",
       "      <td>-8.308000e+09</td>\n",
       "      <td>3.837000e+09</td>\n",
       "      <td>3.961000e+09</td>\n",
       "      <td>8649000000</td>\n",
       "      <td>47.70</td>\n",
       "      <td>1</td>\n",
       "    </tr>\n",
       "    <tr>\n",
       "      <th>4</th>\n",
       "      <td>348000000.0</td>\n",
       "      <td>357000000.0</td>\n",
       "      <td>3.101000e+09</td>\n",
       "      <td>917000000.0</td>\n",
       "      <td>897000000.0</td>\n",
       "      <td>5.223000e+09</td>\n",
       "      <td>1.000000e+09</td>\n",
       "      <td>122000000.0</td>\n",
       "      <td>2.408000e+09</td>\n",
       "      <td>3.530000e+09</td>\n",
       "      <td>...</td>\n",
       "      <td>2.168000e+09</td>\n",
       "      <td>3.048000e+09</td>\n",
       "      <td>4553000000</td>\n",
       "      <td>8.254000e+09</td>\n",
       "      <td>-8.500000e+09</td>\n",
       "      <td>4.167000e+09</td>\n",
       "      <td>4.200000e+09</td>\n",
       "      <td>8753000000</td>\n",
       "      <td>35.69</td>\n",
       "      <td>2</td>\n",
       "    </tr>\n",
       "  </tbody>\n",
       "</table>\n",
       "<p>5 rows × 24 columns</p>\n",
       "</div>"
      ],
      "text/plain": [
       "   Shares (Basic)  Shares (Diluted)  \\\n",
       "0     347000000.0       352000000.0   \n",
       "1     344000000.0       356000000.0   \n",
       "2     347000000.0       355000000.0   \n",
       "3     347000000.0       355000000.0   \n",
       "4     348000000.0       357000000.0   \n",
       "\n",
       "   Cash, Cash Equivalents & Short Term Investments  \\\n",
       "0                                     2.317000e+09   \n",
       "1                                     2.649000e+09   \n",
       "2                                     2.638000e+09   \n",
       "3                                     2.975000e+09   \n",
       "4                                     3.101000e+09   \n",
       "\n",
       "   Accounts & Notes Receivable  Inventories  Total Current Assets  \\\n",
       "0                  790000000.0  688000000.0          5.735000e+09   \n",
       "1                  869000000.0  716000000.0          6.169000e+09   \n",
       "2                  854000000.0  797000000.0          4.598000e+09   \n",
       "3                  918000000.0  853000000.0          5.096000e+09   \n",
       "4                  917000000.0  897000000.0          5.223000e+09   \n",
       "\n",
       "   Property, Plant & Equipment, Net  Long Term Investments & Receivables  \\\n",
       "0                      9.570000e+08                          136000000.0   \n",
       "1                      9.800000e+08                          142000000.0   \n",
       "2                      9.820000e+08                          134000000.0   \n",
       "3                      1.004000e+09                          123000000.0   \n",
       "4                      1.000000e+09                          122000000.0   \n",
       "\n",
       "   Other Long Term Assets  Total Noncurrent Assets  ...  Long Term Debt  \\\n",
       "0            2.272000e+09             3.365000e+09  ...    2.177000e+09   \n",
       "1            2.405000e+09             3.527000e+09  ...    2.190000e+09   \n",
       "2            2.330000e+09             3.446000e+09  ...    2.138000e+09   \n",
       "3            2.426000e+09             3.553000e+09  ...    2.144000e+09   \n",
       "4            2.408000e+09             3.530000e+09  ...    2.168000e+09   \n",
       "\n",
       "   Total Noncurrent Liabilities  Total Liabilities  \\\n",
       "0                  3.373000e+09         6290000000   \n",
       "1                  3.377000e+09         6460000000   \n",
       "2                  3.299000e+09         4705000000   \n",
       "3                  3.096000e+09         4688000000   \n",
       "4                  3.048000e+09         4553000000   \n",
       "\n",
       "   Share Capital & Additional Paid-In Capital  Treasury Stock  \\\n",
       "0                                7.861000e+09   -7.986000e+09   \n",
       "1                                7.910000e+09   -8.038000e+09   \n",
       "2                                8.066000e+09   -8.308000e+09   \n",
       "3                                8.146000e+09   -8.308000e+09   \n",
       "4                                8.254000e+09   -8.500000e+09   \n",
       "\n",
       "   Retained Earnings  Total Equity  Total Liabilities & Equity  Price_Present  \\\n",
       "0       3.152000e+09  2.810000e+09                  9100000000          32.67   \n",
       "1       3.444000e+09  3.236000e+09                  9696000000          40.63   \n",
       "2       3.637000e+09  3.339000e+09                  8044000000          46.05   \n",
       "3       3.837000e+09  3.961000e+09                  8649000000          47.70   \n",
       "4       4.167000e+09  4.200000e+09                  8753000000          35.69   \n",
       "\n",
       "   Label  \n",
       "0      0  \n",
       "1      0  \n",
       "2      0  \n",
       "3      1  \n",
       "4      2  \n",
       "\n",
       "[5 rows x 24 columns]"
      ]
     },
     "execution_count": 18,
     "metadata": {},
     "output_type": "execute_result"
    }
   ],
   "source": [
    "x.head()"
   ]
  },
  {
   "cell_type": "code",
   "execution_count": 19,
   "metadata": {
    "colab": {
     "base_uri": "https://localhost:8080/"
    },
    "id": "OGoOftlcie1Z",
    "outputId": "5cdc502e-39c8-4466-cf0a-244c041e1d48"
   },
   "outputs": [
    {
     "data": {
      "text/plain": [
       "0    41.48\n",
       "1    43.95\n",
       "2    48.71\n",
       "3    35.69\n",
       "4    36.66\n",
       "Name: Price_Future, dtype: float64"
      ]
     },
     "execution_count": 19,
     "metadata": {},
     "output_type": "execute_result"
    }
   ],
   "source": [
    "y.head()"
   ]
  },
  {
   "cell_type": "markdown",
   "metadata": {
    "id": "-rbXgIdcinU8"
   },
   "source": [
    "##Scaling the data (Using MinMax Scaler)"
   ]
  },
  {
   "cell_type": "code",
   "execution_count": 20,
   "metadata": {
    "id": "KCwgy--NiiCY"
   },
   "outputs": [],
   "source": [
    "## Importing the MinMax Scaler\n",
    "from sklearn.preprocessing import StandardScaler\n",
    "scaler = StandardScaler()\n",
    "x_scaled = scaler.fit_transform(x)"
   ]
  },
  {
   "cell_type": "code",
   "execution_count": 21,
   "metadata": {
    "id": "VwPTBSdCiw8X"
   },
   "outputs": [],
   "source": [
    "x = pd.DataFrame(x_scaled, columns = x.columns)"
   ]
  },
  {
   "cell_type": "code",
   "execution_count": 22,
   "metadata": {
    "colab": {
     "base_uri": "https://localhost:8080/",
     "height": 296
    },
    "id": "-BIA0bGjixTh",
    "outputId": "1ca2279f-6cda-4787-8a51-e92e8b6d1644"
   },
   "outputs": [
    {
     "data": {
      "text/html": [
       "<div>\n",
       "<style scoped>\n",
       "    .dataframe tbody tr th:only-of-type {\n",
       "        vertical-align: middle;\n",
       "    }\n",
       "\n",
       "    .dataframe tbody tr th {\n",
       "        vertical-align: top;\n",
       "    }\n",
       "\n",
       "    .dataframe thead th {\n",
       "        text-align: right;\n",
       "    }\n",
       "</style>\n",
       "<table border=\"1\" class=\"dataframe\">\n",
       "  <thead>\n",
       "    <tr style=\"text-align: right;\">\n",
       "      <th></th>\n",
       "      <th>Shares (Basic)</th>\n",
       "      <th>Shares (Diluted)</th>\n",
       "      <th>Cash, Cash Equivalents &amp; Short Term Investments</th>\n",
       "      <th>Accounts &amp; Notes Receivable</th>\n",
       "      <th>Inventories</th>\n",
       "      <th>Total Current Assets</th>\n",
       "      <th>Property, Plant &amp; Equipment, Net</th>\n",
       "      <th>Long Term Investments &amp; Receivables</th>\n",
       "      <th>Other Long Term Assets</th>\n",
       "      <th>Total Noncurrent Assets</th>\n",
       "      <th>...</th>\n",
       "      <th>Long Term Debt</th>\n",
       "      <th>Total Noncurrent Liabilities</th>\n",
       "      <th>Total Liabilities</th>\n",
       "      <th>Share Capital &amp; Additional Paid-In Capital</th>\n",
       "      <th>Treasury Stock</th>\n",
       "      <th>Retained Earnings</th>\n",
       "      <th>Total Equity</th>\n",
       "      <th>Total Liabilities &amp; Equity</th>\n",
       "      <th>Price_Present</th>\n",
       "      <th>Label</th>\n",
       "    </tr>\n",
       "  </thead>\n",
       "  <tbody>\n",
       "    <tr>\n",
       "      <th>0</th>\n",
       "      <td>0.080332</td>\n",
       "      <td>0.078861</td>\n",
       "      <td>0.178881</td>\n",
       "      <td>-0.019117</td>\n",
       "      <td>0.046612</td>\n",
       "      <td>0.152248</td>\n",
       "      <td>-0.187838</td>\n",
       "      <td>-0.070234</td>\n",
       "      <td>-0.094040</td>\n",
       "      <td>-0.159703</td>\n",
       "      <td>...</td>\n",
       "      <td>-0.055562</td>\n",
       "      <td>-0.060595</td>\n",
       "      <td>-0.023164</td>\n",
       "      <td>0.702972</td>\n",
       "      <td>-0.799333</td>\n",
       "      <td>0.027547</td>\n",
       "      <td>-0.077294</td>\n",
       "      <td>-0.045501</td>\n",
       "      <td>-0.017768</td>\n",
       "      <td>-0.959937</td>\n",
       "    </tr>\n",
       "    <tr>\n",
       "      <th>1</th>\n",
       "      <td>0.077562</td>\n",
       "      <td>0.082483</td>\n",
       "      <td>0.232952</td>\n",
       "      <td>-0.007497</td>\n",
       "      <td>0.059083</td>\n",
       "      <td>0.181699</td>\n",
       "      <td>-0.185880</td>\n",
       "      <td>-0.069253</td>\n",
       "      <td>-0.083505</td>\n",
       "      <td>-0.152936</td>\n",
       "      <td>...</td>\n",
       "      <td>-0.054198</td>\n",
       "      <td>-0.060329</td>\n",
       "      <td>-0.015943</td>\n",
       "      <td>0.709393</td>\n",
       "      <td>-0.805565</td>\n",
       "      <td>0.046528</td>\n",
       "      <td>-0.045472</td>\n",
       "      <td>-0.028339</td>\n",
       "      <td>-0.017763</td>\n",
       "      <td>-0.959937</td>\n",
       "    </tr>\n",
       "    <tr>\n",
       "      <th>2</th>\n",
       "      <td>0.080332</td>\n",
       "      <td>0.081578</td>\n",
       "      <td>0.231160</td>\n",
       "      <td>-0.009703</td>\n",
       "      <td>0.095161</td>\n",
       "      <td>0.075092</td>\n",
       "      <td>-0.185710</td>\n",
       "      <td>-0.070561</td>\n",
       "      <td>-0.089446</td>\n",
       "      <td>-0.156319</td>\n",
       "      <td>...</td>\n",
       "      <td>-0.059656</td>\n",
       "      <td>-0.065511</td>\n",
       "      <td>-0.090491</td>\n",
       "      <td>0.729836</td>\n",
       "      <td>-0.837925</td>\n",
       "      <td>0.059074</td>\n",
       "      <td>-0.037778</td>\n",
       "      <td>-0.075911</td>\n",
       "      <td>-0.017760</td>\n",
       "      <td>-0.959937</td>\n",
       "    </tr>\n",
       "    <tr>\n",
       "      <th>3</th>\n",
       "      <td>0.080332</td>\n",
       "      <td>0.081578</td>\n",
       "      <td>0.286046</td>\n",
       "      <td>-0.000289</td>\n",
       "      <td>0.120104</td>\n",
       "      <td>0.108886</td>\n",
       "      <td>-0.183838</td>\n",
       "      <td>-0.072360</td>\n",
       "      <td>-0.081842</td>\n",
       "      <td>-0.151850</td>\n",
       "      <td>...</td>\n",
       "      <td>-0.059026</td>\n",
       "      <td>-0.078997</td>\n",
       "      <td>-0.091213</td>\n",
       "      <td>0.740320</td>\n",
       "      <td>-0.837925</td>\n",
       "      <td>0.072075</td>\n",
       "      <td>0.008684</td>\n",
       "      <td>-0.058489</td>\n",
       "      <td>-0.017759</td>\n",
       "      <td>0.355702</td>\n",
       "    </tr>\n",
       "    <tr>\n",
       "      <th>4</th>\n",
       "      <td>0.081256</td>\n",
       "      <td>0.083389</td>\n",
       "      <td>0.306567</td>\n",
       "      <td>-0.000436</td>\n",
       "      <td>0.139702</td>\n",
       "      <td>0.117504</td>\n",
       "      <td>-0.184178</td>\n",
       "      <td>-0.072523</td>\n",
       "      <td>-0.083267</td>\n",
       "      <td>-0.152811</td>\n",
       "      <td>...</td>\n",
       "      <td>-0.056507</td>\n",
       "      <td>-0.082186</td>\n",
       "      <td>-0.096947</td>\n",
       "      <td>0.754473</td>\n",
       "      <td>-0.860936</td>\n",
       "      <td>0.093526</td>\n",
       "      <td>0.026537</td>\n",
       "      <td>-0.055494</td>\n",
       "      <td>-0.017766</td>\n",
       "      <td>1.671340</td>\n",
       "    </tr>\n",
       "  </tbody>\n",
       "</table>\n",
       "<p>5 rows × 24 columns</p>\n",
       "</div>"
      ],
      "text/plain": [
       "   Shares (Basic)  Shares (Diluted)  \\\n",
       "0        0.080332          0.078861   \n",
       "1        0.077562          0.082483   \n",
       "2        0.080332          0.081578   \n",
       "3        0.080332          0.081578   \n",
       "4        0.081256          0.083389   \n",
       "\n",
       "   Cash, Cash Equivalents & Short Term Investments  \\\n",
       "0                                         0.178881   \n",
       "1                                         0.232952   \n",
       "2                                         0.231160   \n",
       "3                                         0.286046   \n",
       "4                                         0.306567   \n",
       "\n",
       "   Accounts & Notes Receivable  Inventories  Total Current Assets  \\\n",
       "0                    -0.019117     0.046612              0.152248   \n",
       "1                    -0.007497     0.059083              0.181699   \n",
       "2                    -0.009703     0.095161              0.075092   \n",
       "3                    -0.000289     0.120104              0.108886   \n",
       "4                    -0.000436     0.139702              0.117504   \n",
       "\n",
       "   Property, Plant & Equipment, Net  Long Term Investments & Receivables  \\\n",
       "0                         -0.187838                            -0.070234   \n",
       "1                         -0.185880                            -0.069253   \n",
       "2                         -0.185710                            -0.070561   \n",
       "3                         -0.183838                            -0.072360   \n",
       "4                         -0.184178                            -0.072523   \n",
       "\n",
       "   Other Long Term Assets  Total Noncurrent Assets  ...  Long Term Debt  \\\n",
       "0               -0.094040                -0.159703  ...       -0.055562   \n",
       "1               -0.083505                -0.152936  ...       -0.054198   \n",
       "2               -0.089446                -0.156319  ...       -0.059656   \n",
       "3               -0.081842                -0.151850  ...       -0.059026   \n",
       "4               -0.083267                -0.152811  ...       -0.056507   \n",
       "\n",
       "   Total Noncurrent Liabilities  Total Liabilities  \\\n",
       "0                     -0.060595          -0.023164   \n",
       "1                     -0.060329          -0.015943   \n",
       "2                     -0.065511          -0.090491   \n",
       "3                     -0.078997          -0.091213   \n",
       "4                     -0.082186          -0.096947   \n",
       "\n",
       "   Share Capital & Additional Paid-In Capital  Treasury Stock  \\\n",
       "0                                    0.702972       -0.799333   \n",
       "1                                    0.709393       -0.805565   \n",
       "2                                    0.729836       -0.837925   \n",
       "3                                    0.740320       -0.837925   \n",
       "4                                    0.754473       -0.860936   \n",
       "\n",
       "   Retained Earnings  Total Equity  Total Liabilities & Equity  Price_Present  \\\n",
       "0           0.027547     -0.077294                   -0.045501      -0.017768   \n",
       "1           0.046528     -0.045472                   -0.028339      -0.017763   \n",
       "2           0.059074     -0.037778                   -0.075911      -0.017760   \n",
       "3           0.072075      0.008684                   -0.058489      -0.017759   \n",
       "4           0.093526      0.026537                   -0.055494      -0.017766   \n",
       "\n",
       "      Label  \n",
       "0 -0.959937  \n",
       "1 -0.959937  \n",
       "2 -0.959937  \n",
       "3  0.355702  \n",
       "4  1.671340  \n",
       "\n",
       "[5 rows x 24 columns]"
      ]
     },
     "execution_count": 22,
     "metadata": {},
     "output_type": "execute_result"
    }
   ],
   "source": [
    "x.head()"
   ]
  },
  {
   "cell_type": "markdown",
   "metadata": {
    "id": "TbdNNM-Ai7ma"
   },
   "source": [
    "## Importing the train test split function"
   ]
  },
  {
   "cell_type": "code",
   "execution_count": 23,
   "metadata": {
    "id": "GfVzDI_ZizpV"
   },
   "outputs": [],
   "source": [
    "from sklearn.model_selection import train_test_split\r\n",
    "train_x,test_x,train_y,test_y = train_test_split(x,y, test_size=1/3, random_state = 56)"
   ]
  },
  {
   "cell_type": "markdown",
   "metadata": {
    "id": "gulNV1hNrpFI"
   },
   "source": [
    "## KNN Regression"
   ]
  },
  {
   "cell_type": "code",
   "execution_count": 24,
   "metadata": {
    "id": "d73trbi0jC25"
   },
   "outputs": [],
   "source": [
    "#importing KNN classifier and metric F1score\r\n",
    "from sklearn.neighbors import KNeighborsRegressor as KNN\r\n",
    "from sklearn.metrics import mean_squared_error as mse"
   ]
  },
  {
   "cell_type": "code",
   "execution_count": 31,
   "metadata": {
    "colab": {
     "base_uri": "https://localhost:8080/"
    },
    "id": "X6kLqsvCsGIq",
    "outputId": "e6fd1ff1-4efd-46d4-b81b-88f56b576926"
   },
   "outputs": [
    {
     "name": "stdout",
     "output_type": "stream",
     "text": [
      "Test MSE     2034225562214.6501\n"
     ]
    }
   ],
   "source": [
    "# Creating instance of KNN\r\n",
    "reg = KNN(n_neighbors =101)\r\n",
    "\r\n",
    "# Fitting the model\r\n",
    "reg.fit(train_x, train_y)\r\n",
    "\r\n",
    "# Predicting over the Train Set and calculating MSE\r\n",
    "test_predict = reg.predict(test_x)\r\n",
    "k = mse(test_predict, test_y)\r\n",
    "print('Test MSE    ', k )"
   ]
  },
  {
   "cell_type": "code",
   "execution_count": 30,
   "metadata": {
    "id": "JcYlPra0tMFF"
   },
   "outputs": [
    {
     "data": {
      "text/plain": [
       "(0.7769060853997214, 0.7909996650107084)"
      ]
     },
     "execution_count": 30,
     "metadata": {},
     "output_type": "execute_result"
    }
   ],
   "source": [
    "reg.score(test_x,test_y),reg.score(train_x,train_y)"
   ]
  },
  {
   "cell_type": "markdown",
   "metadata": {
    "id": "JcYlPra0tMFF"
   },
   "source": [
    "## Elbow for Classifier"
   ]
  },
  {
   "cell_type": "code",
   "execution_count": 17,
   "metadata": {
    "id": "N7pP9rzSs_wl"
   },
   "outputs": [],
   "source": [
    "def Elbow(K):\r\n",
    "  #initiating empty list\r\n",
    "    test_mse = []\r\n",
    "  \r\n",
    "  #training model for evey value of K\r\n",
    "    for i in K:\r\n",
    "        #Instance of KNN\r\n",
    "        reg = KNN(n_neighbors = i)\r\n",
    "        reg.fit(train_x, train_y)\r\n",
    "        #Appending mse value to empty list claculated using the predictions\r\n",
    "        tmp = reg.predict(test_x)\r\n",
    "        tmp = mse(tmp,test_y)\r\n",
    "        test_mse.append(tmp)\r\n",
    "    \r\n",
    "    return test_mse"
   ]
  },
  {
   "cell_type": "code",
   "execution_count": 18,
   "metadata": {
    "id": "l_oMEMtmtSkg"
   },
   "outputs": [],
   "source": [
    "# Defining range of K\r\n",
    "k = range(1,50)"
   ]
  },
  {
   "cell_type": "code",
   "execution_count": 19,
   "metadata": {
    "id": "UpNPo02mtaoX"
   },
   "outputs": [],
   "source": [
    "test = Elbow(k)"
   ]
  },
  {
   "cell_type": "code",
   "execution_count": 20,
   "metadata": {
    "colab": {
     "base_uri": "https://localhost:8080/",
     "height": 313
    },
    "id": "PakTKcqwteEE",
    "outputId": "0b96d3e0-208b-4bfd-af10-80c75022f459"
   },
   "outputs": [
    {
     "data": {
      "text/plain": [
       "Text(0.5, 1.0, 'Elbow Curve for test')"
      ]
     },
     "execution_count": 20,
     "metadata": {
      "tags": []
     },
     "output_type": "execute_result"
    },
    {
     "data": {
      "image/png": "[encoded data removed]",
      "text/plain": [
       "<Figure size 432x288 with 1 Axes>"
      ]
     },
     "metadata": {
      "needs_background": "light",
      "tags": []
     },
     "output_type": "display_data"
    }
   ],
   "source": [
    "# plotting the Curves\r\n",
    "plt.plot(k, test)\r\n",
    "plt.xlabel('K Neighbors')\r\n",
    "plt.ylabel('Test Mean Squared Error')\r\n",
    "plt.title('Elbow Curve for test')"
   ]
  },
  {
   "cell_type": "code",
   "execution_count": 21,
   "metadata": {
    "colab": {
     "base_uri": "https://localhost:8080/"
    },
    "id": "y_Y3qam_uyAV",
    "outputId": "be640811-4180-43c0-a04a-c8da56facfc8"
   },
   "outputs": [
    {
     "name": "stdout",
     "output_type": "stream",
     "text": [
      "Test MSE     267279773.0723721\n"
     ]
    }
   ],
   "source": [
    "# Creating instance of KNN\r\n",
    "reg = KNN(n_neighbors = 3)\r\n",
    "\r\n",
    "# Fitting the model\r\n",
    "reg.fit(train_x, train_y)\r\n",
    "\r\n",
    "# Predicting over the Train Set and calculating F1\r\n",
    "test_predict = reg.predict(test_x)\r\n",
    "k = mse(test_predict, test_y)\r\n",
    "print('Test MSE    ', k )"
   ]
  },
  {
   "cell_type": "code",
   "execution_count": 23,
   "metadata": {
    "colab": {
     "base_uri": "https://localhost:8080/"
    },
    "id": "9MPZWiPNvItW",
    "outputId": "422360bc-4156-40fe-d462-7fa50595f4ad"
   },
   "outputs": [
    {
     "name": "stdout",
     "output_type": "stream",
     "text": [
      "Test MSE     2274296617.1312137\n"
     ]
    }
   ],
   "source": [
    "# Creating instance of KNN\r\n",
    "reg = KNN(n_neighbors = 2)\r\n",
    "\r\n",
    "# Fitting the model\r\n",
    "reg.fit(train_x, train_y)\r\n",
    "\r\n",
    "# Predicting over the Train Set and calculating F1\r\n",
    "test_predict = reg.predict(test_x)\r\n",
    "k = mse(test_predict, test_y)\r\n",
    "print('Test MSE    ', k )"
   ]
  }
 ],
 "metadata": {
  "colab": {
   "collapsed_sections": [],
   "name": "Stock_Performance_Predictio_KNN.ipynb",
   "provenance": []
  },
  "kernelspec": {
   "display_name": "Python 3",
   "language": "python",
   "name": "python3"
  },
  "language_info": {
   "codemirror_mode": {
    "name": "ipython",
    "version": 3
   },
   "file_extension": ".py",
   "mimetype": "text/x-python",
   "name": "python",
   "nbconvert_exporter": "python",
   "pygments_lexer": "ipython3",
   "version": "3.8.5"
  }
 },
 "nbformat": 4,
 "nbformat_minor": 4
}
