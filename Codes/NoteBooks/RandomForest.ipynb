{
 "cells": [
  {
   "cell_type": "code",
   "execution_count": 1,
   "id": "dependent-hudson",
   "metadata": {},
   "outputs": [],
   "source": [
    "import numpy as np\n",
    "import pandas as pd\n",
    "from sklearn.model_selection import train_test_split\n",
    "from sklearn.metrics import accuracy_score\n",
    "from sklearn.preprocessing import StandardScaler\n"
   ]
  },
  {
   "cell_type": "code",
   "execution_count": 2,
   "id": "confirmed-cyprus",
   "metadata": {},
   "outputs": [],
   "source": [
    "numeric_columns=['Shares (Basic)',\n",
    "       'Shares (Diluted)', 'Cash, Cash Equivalents & Short Term Investments',\n",
    "       'Accounts & Notes Receivable', 'Inventories', 'Total Current Assets',\n",
    "       'Property, Plant & Equipment, Net',\n",
    "       'Long Term Investments & Receivables', 'Other Long Term Assets',\n",
    "       'Total Noncurrent Assets', 'Total Assets', 'Payables & Accruals',\n",
    "       'Short Term Debt', 'Total Current Liabilities', 'Long Term Debt',\n",
    "       'Total Noncurrent Liabilities', 'Total Liabilities',\n",
    "       'Share Capital & Additional Paid-In Capital', 'Treasury Stock',\n",
    "       'Retained Earnings', 'Total Equity', 'Total Liabilities & Equity',\n",
    "       'Price_Present']"
   ]
  },
  {
   "cell_type": "code",
   "execution_count": 3,
   "id": "aerial-ranking",
   "metadata": {},
   "outputs": [],
   "source": [
    "clean_fundamen=pd.read_csv(\"../../Datasets/dataset_1.csv\")\n",
    "LabnF=pd.read_csv(\"../../Datasets/labnf.csv\")\n",
    "X,Y=clean_fundamen[numeric_columns],LabnF[\"Label\"]\n",
    "scaler = StandardScaler()\n",
    "scaler.fit(X)\n",
    "X=scaler.transform(X)"
   ]
  },
  {
   "cell_type": "code",
   "execution_count": 6,
   "id": "broad-desert",
   "metadata": {},
   "outputs": [
    {
     "name": "stdout",
     "output_type": "stream",
     "text": [
      "Max_Depth:  2  Score Train: 0.4718120464809459\n",
      "Max_Depth:  2  Score Test: 0.4696095601112599\n",
      "Max_Depth:  4  Score Train: 0.4781803420104531\n",
      "Max_Depth:  4  Score Test: 0.4747089729061502\n",
      "Max_Depth:  6  Score Train: 0.48924240117724666\n",
      "Max_Depth:  6  Score Test: 0.4784691459771299\n",
      "Max_Depth:  8  Score Train: 0.5107068554320799\n",
      "Max_Depth:  8  Score Test: 0.48228082826826\n",
      "Max_Depth:  10  Score Train: 0.5495509209925408\n",
      "Max_Depth:  10  Score Test: 0.486710621201195\n",
      "Max_Depth:  12  Score Train: 0.6126756989902066\n",
      "Max_Depth:  12  Score Test: 0.48779231482435353\n",
      "Max_Depth:  14  Score Train: 0.6870147663266859\n",
      "Max_Depth:  14  Score Test: 0.49150097867518283\n",
      "Max_Depth:  16  Score Train: 0.775282894403004\n",
      "Max_Depth:  16  Score Test: 0.4924796538580406\n",
      "Max_Depth:  18  Score Train: 0.8615720302430608\n",
      "Max_Depth:  18  Score Test: 0.4917070155557845\n",
      "Max_Depth:  20  Score Train: 0.9235043385599025\n",
      "Max_Depth:  20  Score Test: 0.48619552899969093\n",
      "Max_Depth:  22  Score Train: 0.9660780433348556\n",
      "Max_Depth:  22  Score Test: 0.48228082826826\n",
      "Max_Depth:  24  Score Train: 0.9890140559192165\n",
      "Max_Depth:  24  Score Test: 0.4762542495106624\n",
      "Max_Depth:  26  Score Train: 0.9963464758715177\n",
      "Max_Depth:  26  Score Test: 0.47455444524569895\n",
      "Max_Depth:  28  Score Train: 0.9993657076165829\n",
      "Max_Depth:  28  Score Test: 0.4703306891933656\n",
      "Max_Depth:  30  Score Train: 0.99984776982798\n",
      "Max_Depth:  30  Score Test: 0.46893994024930463\n"
     ]
    }
   ],
   "source": [
    "from sklearn.model_selection import train_test_split\n",
    "from sklearn.ensemble import RandomForestClassifier\n",
    "Xtrain,Xtest,Ytrain,Ytest=train_test_split(X, Y, test_size=0.33, random_state=42)\n",
    "trainscores=[]\n",
    "testscores=[]\n",
    "for i in range(2,32,2):\n",
    "    clf = RandomForestClassifier( max_depth=i,random_state=0)\n",
    "    # Full overfit\n",
    "    clf.fit(Xtrain, Ytrain)\n",
    "    trainscore=clf.score(Xtrain,Ytrain)\n",
    "    trainscores.append(trainscore)\n",
    "    testscore=clf.score(Xtest,Ytest)\n",
    "    testscores.append(testscore)\n",
    "    print(\"Max_Depth: \",i,\" Score Train:\",trainscore)\n",
    "    print(\"Max_Depth: \",i,\" Score Test:\",testscore)"
   ]
  },
  {
   "cell_type": "code",
   "execution_count": 7,
   "id": "other-sight",
   "metadata": {},
   "outputs": [
    {
     "data": {
      "text/plain": [
       "<matplotlib.legend.Legend at 0x7fe182a38340>"
      ]
     },
     "execution_count": 7,
     "metadata": {},
     "output_type": "execute_result"
    },
    {
     "data": {
      "image/png": "[encoded data removed]",
      "text/plain": [
       "<Figure size 432x288 with 1 Axes>"
      ]
     },
     "metadata": {
      "needs_background": "light"
     },
     "output_type": "display_data"
    }
   ],
   "source": [
    "import matplotlib.pyplot as plt\n",
    "\n",
    "plt.plot(range(2,32,2),trainscores,label=\"train accuracy\")\n",
    "plt.plot(range(2,32,2),testscores,label=\"test accuracy\")\n",
    "plt.ylim(0.4, 0.7)\n",
    "plt.legend()\n"
   ]
  },
  {
   "cell_type": "code",
   "execution_count": null,
   "id": "naughty-orange",
   "metadata": {},
   "outputs": [],
   "source": []
  }
 ],
 "metadata": {
  "kernelspec": {
   "display_name": "Python 3",
   "language": "python",
   "name": "python3"
  },
  "language_info": {
   "codemirror_mode": {
    "name": "ipython",
    "version": 3
   },
   "file_extension": ".py",
   "mimetype": "text/x-python",
   "name": "python",
   "nbconvert_exporter": "python",
   "pygments_lexer": "ipython3",
   "version": "3.8.5"
  }
 },
 "nbformat": 4,
 "nbformat_minor": 5
}
